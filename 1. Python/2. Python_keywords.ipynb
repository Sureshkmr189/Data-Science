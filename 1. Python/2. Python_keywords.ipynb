{
 "cells": [
  {
   "cell_type": "code",
   "execution_count": 1,
   "metadata": {},
   "outputs": [
    {
     "name": "stdout",
     "output_type": "stream",
     "text": [
      "['False', 'None', 'True', 'and', 'as', 'assert', 'async', 'await', 'break', 'class', 'continue', 'def', 'del', 'elif', 'else', 'except', 'finally', 'for', 'from', 'global', 'if', 'import', 'in', 'is', 'lambda', 'nonlocal', 'not', 'or', 'pass', 'raise', 'return', 'try', 'while', 'with', 'yield']\n"
     ]
    }
   ],
   "source": [
    "import keyword\n",
    "print(keyword.kwlist)\n"
   ]
  },
  {
   "cell_type": "markdown",
   "metadata": {},
   "source": [
    "In Python, **keywords** are reserved words that have special meanings and cannot be used as identifiers (e.g., variable names, function names). These keywords are part of the language syntax and have predefined functions. Here are some examples of Python keywords:\n",
    "\n",
    "- **`False`**: Represents the Boolean value `False`.\n",
    "- **`None`**: Represents the absence of a value.\n",
    "- **`True`**: Represents the Boolean value `True`.\n",
    "- **`and`**: Logical AND operator.\n",
    "- **`as`**: Used to create an alias while importing a module.\n",
    "- **`assert`**: Used for debugging purposes; tests if a condition is true.\n",
    "- **`async`**: Declares an asynchronous function.\n",
    "- **`await`**: Waits for the result of an asynchronous function.\n",
    "- **`break`**: Breaks out of a loop.\n",
    "- **`class`**: Declares a class.\n",
    "- **`continue`**: Skips the current iteration of a loop and continues with the next iteration.\n",
    "- **`def`**: Declares a function.\n",
    "- **`del`**: Deletes an object.\n",
    "- **`elif`**: An else-if condition in an if-else structure.\n",
    "- **`else`**: Specifies a block of code to be executed if the condition is false.\n",
    "- **`except`**: Specifies a block of code to handle exceptions.\n",
    "- **`finally`**: Specifies a block of code that will execute no matter if there is an exception or not.\n",
    "- **`for`**: A for loop.\n",
    "- **`from`**: Imports specific parts of a module.\n",
    "- **`global`**: Declares a global variable.\n",
    "- **`if`**: Specifies a block of code to be executed if a condition is true.\n",
    "- **`import`**: Imports a module.\n",
    "- **`in`**: Checks if a value is present in a sequence.\n",
    "- **`is`**: Tests for object identity.\n",
    "- **`lambda`**: Creates an anonymous function.\n",
    "- **`nonlocal`**: Declares a non-local variable.\n",
    "- **`not`**: Logical NOT operator.\n",
    "- **`or`**: Logical OR operator.\n",
    "- **`pass`**: A null operation; it does nothing.\n",
    "- **`raise`**: Raises an exception.\n",
    "- **`return`**: Exits a function and returns a value.\n",
    "- **`try`**: Specifies a block of code to test for errors.\n",
    "- **`while`**: A while loop.\n",
    "- **`with`**: Used to simplify exception handling.\n",
    "- **`yield`**: Pauses the function and returns a value; used with generators.\n",
    "\n",
    "To view the full list of keywords in your Python environment, you can use the following code:\n",
    "\n",
    "```python\n",
    "import keyword\n",
    "print(keyword.kwlist)\n",
    "```\n",
    "\n",
    "This will print a list of all the keywords available in your version of Python."
   ]
  },
  {
   "cell_type": "markdown",
   "metadata": {},
   "source": []
  }
 ],
 "metadata": {
  "kernelspec": {
   "display_name": "Python 3",
   "language": "python",
   "name": "python3"
  },
  "language_info": {
   "codemirror_mode": {
    "name": "ipython",
    "version": 3
   },
   "file_extension": ".py",
   "mimetype": "text/x-python",
   "name": "python",
   "nbconvert_exporter": "python",
   "pygments_lexer": "ipython3",
   "version": "3.12.0"
  }
 },
 "nbformat": 4,
 "nbformat_minor": 2
}
