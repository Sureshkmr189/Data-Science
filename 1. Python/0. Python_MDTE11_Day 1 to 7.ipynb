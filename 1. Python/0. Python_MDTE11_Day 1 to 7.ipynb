{
 "cells": [
  {
   "cell_type": "markdown",
   "metadata": {},
   "source": [
    "#### **Kahoot session**:\n",
    "\n",
    "**python string, Numbers, methods, functions, & list operations:**\n",
    "\n"
   ]
  },
  {
   "cell_type": "code",
   "execution_count": null,
   "metadata": {},
   "outputs": [
    {
     "data": {
      "text/plain": [
       "'fedora'"
      ]
     },
     "metadata": {},
     "output_type": "display_data"
    }
   ],
   "source": [
    "hats=['baseball cap','fedora',\"chennai\",\"coimbatore\"]\n",
    "hats[1]"
   ]
  },
  {
   "cell_type": "code",
   "execution_count": null,
   "metadata": {},
   "outputs": [
    {
     "name": "stdout",
     "output_type": "stream",
     "text": [
      "MAIN\n"
     ]
    }
   ],
   "source": [
    "drive=\"main\"\n",
    "print(drive.upper())\n",
    "# .upper() is a \"method\" its not a function"
   ]
  },
  {
   "cell_type": "code",
   "execution_count": 4,
   "metadata": {},
   "outputs": [
    {
     "data": {
      "text/plain": [
       "[-1, -2, -3, -4, -5]"
      ]
     },
     "execution_count": 4,
     "metadata": {},
     "output_type": "execute_result"
    }
   ],
   "source": [
    "i=[-1,-2,-3,-4,-5,5,7,8,9]\n",
    "[x for x in i if x<0]"
   ]
  },
  {
   "cell_type": "code",
   "execution_count": 7,
   "metadata": {},
   "outputs": [
    {
     "data": {
      "text/plain": [
       "['h', 'e', 'l', 'l', 'o']"
      ]
     },
     "execution_count": 7,
     "metadata": {},
     "output_type": "execute_result"
    }
   ],
   "source": [
    "[i.lower() for i in \"Hello\"]"
   ]
  },
  {
   "cell_type": "code",
   "execution_count": 8,
   "metadata": {},
   "outputs": [
    {
     "data": {
      "text/plain": [
       "[1, 8, 27, 64, 125]"
      ]
     },
     "execution_count": 8,
     "metadata": {},
     "output_type": "execute_result"
    }
   ],
   "source": [
    "list=[1,2,3,4,5]\n",
    "[x**3 for x in list]"
   ]
  },
  {
   "cell_type": "markdown",
   "metadata": {},
   "source": [
    "___"
   ]
  },
  {
   "cell_type": "markdown",
   "metadata": {},
   "source": [
    "# Day 1 & 2   (8th July )"
   ]
  },
  {
   "cell_type": "markdown",
   "metadata": {},
   "source": [
    "Link: https://us06web.zoom.us/rec/play/wrvQJ6-n5GyuX-SE4nbcgNBnz7EVLuruIYAa5lxKS-VTyIW95LkF8zd-sZgALZ7q7LH0OztF4APn58bU.ViR0I9DVl--r9QP_?canPlayFromShare=true&from=share_recording_detail&continueMode=true&componentName=rec-play&originRequestUrl=https%3A%2F%2Fus06web.zoom.us%2Frec%2Fshare%2F3lx0POR9vrDRLnpxF30B660Jqpsd6pKc6UKiAsdzwmBxSz4iTnsr-q32XqkyXKlI.lvsmtlaU6xRsYc6Y\n",
    "\n",
    "\n",
    "Python cheat sheet : https://www.pythoncheatsheet.org/cheatsheet/lists-and-tuples"
   ]
  },
  {
   "cell_type": "code",
   "execution_count": 1,
   "metadata": {},
   "outputs": [
    {
     "name": "stdout",
     "output_type": "stream",
     "text": [
      "hello MDTE011\n"
     ]
    }
   ],
   "source": [
    "print(\"hello MDTE011\")"
   ]
  },
  {
   "cell_type": "code",
   "execution_count": 2,
   "metadata": {},
   "outputs": [
    {
     "name": "stdout",
     "output_type": "stream",
     "text": [
      "hello \n"
     ]
    }
   ],
   "source": [
    "print('hello ')"
   ]
  },
  {
   "cell_type": "code",
   "execution_count": 3,
   "metadata": {},
   "outputs": [
    {
     "name": "stdout",
     "output_type": "stream",
     "text": [
      "2\n"
     ]
    }
   ],
   "source": [
    "print(1+1)"
   ]
  },
  {
   "cell_type": "code",
   "execution_count": 4,
   "metadata": {},
   "outputs": [
    {
     "name": "stdout",
     "output_type": "stream",
     "text": [
      "1+1\n"
     ]
    }
   ],
   "source": [
    "print(\"1+1\")"
   ]
  },
  {
   "cell_type": "code",
   "execution_count": 5,
   "metadata": {},
   "outputs": [
    {
     "name": "stdout",
     "output_type": "stream",
     "text": [
      "suresh  hi\n"
     ]
    }
   ],
   "source": [
    "print(input(\"enter your name\") + \" hi\")"
   ]
  },
  {
   "cell_type": "code",
   "execution_count": 6,
   "metadata": {},
   "outputs": [
    {
     "name": "stdout",
     "output_type": "stream",
     "text": [
      "hi Rently\n"
     ]
    }
   ],
   "source": [
    "nirmal=input(\"enter you company\")\n",
    "\n",
    "print(\"hi \" + nirmal)"
   ]
  },
  {
   "cell_type": "code",
   "execution_count": 7,
   "metadata": {},
   "outputs": [
    {
     "name": "stdout",
     "output_type": "stream",
     "text": [
      "\\n this is the first session\n",
      "\n",
      " this is the first session\n"
     ]
    }
   ],
   "source": [
    "print(r\"\\n this is the first session\") # r raw string\n",
    "print(f\"\\n this is the first session\") # f formatted string "
   ]
  },
  {
   "cell_type": "code",
   "execution_count": 8,
   "metadata": {},
   "outputs": [
    {
     "name": "stdout",
     "output_type": "stream",
     "text": [
      "\\n this is the first session {a}\n",
      "\n",
      " this is the first session guvi\n"
     ]
    }
   ],
   "source": [
    "a=\"guvi\"\n",
    "print(r\"\\n this is the first session {a}\")\n",
    "print(f\"\\n this is the first session {a}\")"
   ]
  },
  {
   "attachments": {
    "image-2.png": {
     "image/png": "[encoded data removed]"
    },
    "image.png": {
     "image/png": "[encoded data removed]"
    }
   },
   "cell_type": "markdown",
   "metadata": {},
   "source": [
    "## Python Data type \n",
    "\n",
    "In Python, data types are categories that specify the type of data a variable can hold. Python has several built-in data types. Here’s an overview of the most commonly used ones:\n",
    "\n",
    "***Basic Data Types***\n",
    "\n",
    "1. **Integers (`int`):**\n",
    "   - Whole numbers, positive or negative, without a decimal point.\n",
    "   ```python\n",
    "   x = 5\n",
    "   y = -3\n",
    "   ```\n",
    "\n",
    "2. **Floating-Point Numbers (`float`):**\n",
    "   - Numbers with a decimal point or in exponential (scientific) notation.\n",
    "   ```python\n",
    "   x = 5.7\n",
    "   y = -3.14\n",
    "   z = 2e4  # 2 * 10^4\n",
    "   ```\n",
    "\n",
    "3. **Complex Numbers (`complex`):**\n",
    "   - Numbers with a real and an imaginary part.\n",
    "   ```python\n",
    "   x = 1 + 2j\n",
    "   y = complex(3, -4)\n",
    "   ```\n",
    "\n",
    "4. **Booleans (`bool`):**\n",
    "   - Represents `True` or `False`.\n",
    "   ```python\n",
    "   is_active = True\n",
    "   has_value = False\n",
    "   ```\n",
    "\n",
    "5. **Strings (`str`):**\n",
    "   - Ordered sequences of characters, enclosed in single, double, or triple quotes.\n",
    "   ```python\n",
    "   message = \"Hello, World!\"\n",
    "   multiline = \"\"\"This is a\n",
    "   multi-line string.\"\"\"\n",
    "   ```\n",
    "\n",
    "### Sequence Types\n",
    "\n",
    "1. **Lists (`list`):**\n",
    "   - Ordered, mutable collections of items, enclosed in square brackets.\n",
    "   ```python\n",
    "   my_list = [1, 2, 3, \"apple\", 4.5]\n",
    "   ```\n",
    "\n",
    "2. **Tuples (`tuple`):**\n",
    "   - Ordered, immutable collections of items, enclosed in parentheses.\n",
    "   ```python\n",
    "   my_tuple = (1, 2, 3, \"banana\", 4.5)\n",
    "   ```\n",
    "\n",
    "3. **Ranges (`range`):**\n",
    "   - Represents an immutable sequence of numbers, commonly used in loops.\n",
    "   ```python\n",
    "   my_range = range(1, 10)\n",
    "   ```\n",
    "\n",
    "### Set Types\n",
    "\n",
    "1. **Sets (`set`):**\n",
    "   - Unordered collections of unique items, enclosed in curly braces.\n",
    "   ```python\n",
    "   my_set = {1, 2, 3, \"apple\"}\n",
    "   ```\n",
    "\n",
    "2. **Frozen Sets (`frozenset`):**\n",
    "   - Immutable version of sets.\n",
    "   ```python\n",
    "   my_frozenset = frozenset([1, 2, 3, \"banana\"])\n",
    "   ```\n",
    "\n",
    "### Mapping Types\n",
    "\n",
    "1. **Dictionaries (`dict`):**\n",
    "   - Unordered collections of key-value pairs, enclosed in curly braces.\n",
    "   ```python\n",
    "   my_dict = {\"name\": \"Alice\", \"age\": 25}\n",
    "   ```\n",
    "\n",
    "![image-2.png](attachment:image-2.png)\n",
    "\n",
    "![image.png](attachment:image.png)"
   ]
  },
  {
   "cell_type": "markdown",
   "metadata": {},
   "source": [
    "## Data Structure:\n",
    "\n",
    "Data structures are ways of organizing and storing data so that they can be accessed and worked with efficiently. Python provides several built-in data structures, as well as support for custom data structures. Here's an overview of some common data structures in Python:\n",
    "\n",
    "Built-in Data Structures\n",
    "1. Lists\n",
    "2. Tuples\n",
    "3. Sets\n",
    "4. Dictionaries\n",
    "\n",
    "\n",
    "Custom Data Structures\n",
    "1. Linked List\n",
    "2. Stack\n",
    "3. Queue\n",
    "4. Binary Tree\n"
   ]
  },
  {
   "cell_type": "code",
   "execution_count": 9,
   "metadata": {},
   "outputs": [],
   "source": [
    "my_string = \"Hello, World!\"\n",
    "my_list = [1, 2, 3, 4]\n",
    "my_tuple = (1, 2, 3, 4)\n",
    "my_set = {1, 2, 3, 4}\n",
    "my_dict = {'name': 'Alice', 'age': 25}\n"
   ]
  },
  {
   "cell_type": "code",
   "execution_count": 10,
   "metadata": {},
   "outputs": [
    {
     "name": "stdout",
     "output_type": "stream",
     "text": [
      "['nirmal', 1.23, 'dwefude', [1, 2, 3], {'name': 'nirmal', 'state': 'tamilnadu', 'ph': 123456, 'age': 100}]\n",
      "(2, 1.23, 'dwefude', [1, 2, 3])\n",
      "{'1', 1, 2}\n"
     ]
    }
   ],
   "source": [
    "a=1 #int\n",
    "b=2.344 # float\n",
    "c=\"ty2d7263fd28g63\" # string\n",
    "d=True # boolean\n",
    "e=False # boolean\n",
    "f=None # NoneType\n",
    "\n",
    "g=[2,1.23,\"dwefude\",[1,2,3],{\"name\":\"nirmal\",\"state\":\"tamilnadu\",\"ph\":123456,\"age\":100}] #list-->heterogeneou--->mutable\n",
    "\n",
    "g[0]=\"nirmal\"\n",
    "print(g)\n",
    "\n",
    "h=(2,1.23,\"dwefude\",[1,2,3]) #tuple-->heterogeneou--->immutable\n",
    "print(h)\n",
    "\n",
    "i={\"1\",2,1,2,1,2}\n",
    "print(i)\n",
    "\n",
    "j={1.0:[\"nirmal\",\"nethaji\"],\"state\":\"tamilnadu\",\"ph\":123456,\"age\":100}#keys must be unique\n",
    "j[\"age1\"]=200\n"
   ]
  },
  {
   "cell_type": "code",
   "execution_count": 11,
   "metadata": {},
   "outputs": [
    {
     "name": "stdout",
     "output_type": "stream",
     "text": [
      "1\n",
      "nirmal\n"
     ]
    }
   ],
   "source": [
    "g=[2,1.23,\"dwefude\",[1,2,3],{\"name\":\"nirmal\",\"state\":\"tamilnadu\",\"ph\":123456,\n",
    "                             \"age\":100}] #list-->heterogeneou--->mutable\n",
    "\n",
    "g[0]=\"nirmal\"\n",
    "print(g[3][0])\n",
    "print(g[4][\"name\"])"
   ]
  },
  {
   "cell_type": "code",
   "execution_count": 12,
   "metadata": {},
   "outputs": [
    {
     "name": "stdout",
     "output_type": "stream",
     "text": [
      "<class 'tuple'>\n"
     ]
    }
   ],
   "source": [
    "my_tuple=(2,1.23,\"dwefude\",[1,2,3])\n",
    "print(type(my_tuple))"
   ]
  },
  {
   "cell_type": "markdown",
   "metadata": {},
   "source": [
    "## Operations:"
   ]
  },
  {
   "cell_type": "code",
   "execution_count": 13,
   "metadata": {},
   "outputs": [
    {
     "name": "stdout",
     "output_type": "stream",
     "text": [
      "41\n",
      "-1\n",
      "420\n",
      "0.9523809523809523\n",
      "6\n",
      "0\n",
      "8000\n"
     ]
    }
   ],
   "source": [
    "print(20+21)\n",
    "print(20-21)\n",
    "print(20*21)\n",
    "print(20/21)\n",
    "\n",
    "print(20//3)\n",
    "print(20%2)\n",
    "print(20**3) # 20^3"
   ]
  },
  {
   "cell_type": "code",
   "execution_count": 14,
   "metadata": {},
   "outputs": [
    {
     "name": "stdout",
     "output_type": "stream",
     "text": [
      "False\n",
      "True\n",
      "False\n",
      "True\n",
      "False\n",
      "True\n"
     ]
    }
   ],
   "source": [
    "#comparison\n",
    "\n",
    "print(20>21)\n",
    "print(20<21)\n",
    "print(20>=21)\n",
    "print(20<=21)\n",
    "\n",
    "print(20==21)  # The == operator checks for equality between the two values on either side of it.\n",
    "print(20!=21)"
   ]
  },
  {
   "cell_type": "code",
   "execution_count": 15,
   "metadata": {},
   "outputs": [
    {
     "name": "stdout",
     "output_type": "stream",
     "text": [
      "False\n"
     ]
    }
   ],
   "source": [
    "print([1,2]!=[1,2])"
   ]
  },
  {
   "cell_type": "code",
   "execution_count": 16,
   "metadata": {},
   "outputs": [
    {
     "name": "stdout",
     "output_type": "stream",
     "text": [
      "True\n",
      "1\n",
      "1\n",
      "nirmal\n",
      "guvi\n"
     ]
    }
   ],
   "source": [
    "print(True or False) #The expression True or False uses the logical or operator. In Python, the or operator returns True if at least one of its operands is True.\n",
    "\n",
    "\n",
    "print(1 or 0)\n",
    "print(0 or 1) #In Python, the or operator returns the first operand that evaluates to True, or the last operand if all are False.\n",
    "\n",
    "print(\"nirmal\" or \"guvi\")  # first condition is true so it will print first one\n",
    "\n",
    "print(\"nirmal\" and \"guvi\") # Here's how the expression \"nirmal\" and \"guvi\" is evaluated: The first operand, \"nirmal\", is a non-empty string and thus evaluates to True.  Since the first operand is True, the and operator then evaluates and returns the second operand, \"guvi\".\n"
   ]
  },
  {
   "cell_type": "code",
   "execution_count": 17,
   "metadata": {},
   "outputs": [
    {
     "name": "stdout",
     "output_type": "stream",
     "text": [
      "True\n"
     ]
    }
   ],
   "source": [
    "print(True or False and True) #In Python, and has a higher precedence than or. This means that and operations are evaluated before or operations. "
   ]
  },
  {
   "cell_type": "code",
   "execution_count": 18,
   "metadata": {},
   "outputs": [
    {
     "name": "stdout",
     "output_type": "stream",
     "text": [
      "90\n"
     ]
    }
   ],
   "source": [
    "# Data Types\n",
    "name = \"Alice\"  # str\n",
    "grade = 90      # int\n",
    "\n",
    "# Data Structure\n",
    "students = {\n",
    "    \"Alice\": 90,\n",
    "    \"Bob\": 85,\n",
    "    \"Charlie\": 92\n",
    "}\n",
    "\n",
    "# Operations on Data Structure\n",
    "students[\"David\"] = 88  # Insertion\n",
    "del students[\"Bob\"]     # Deletion\n",
    "print(students[\"Alice\"]) # Access\n"
   ]
  },
  {
   "cell_type": "code",
   "execution_count": 19,
   "metadata": {},
   "outputs": [
    {
     "data": {
      "text/plain": [
       "{'Alice': 90, 'Charlie': 92, 'David': 88}"
      ]
     },
     "execution_count": 19,
     "metadata": {},
     "output_type": "execute_result"
    }
   ],
   "source": [
    "students"
   ]
  },
  {
   "cell_type": "code",
   "execution_count": 20,
   "metadata": {},
   "outputs": [
    {
     "name": "stdout",
     "output_type": "stream",
     "text": [
      "True\n"
     ]
    }
   ],
   "source": [
    "print(True or False and True)"
   ]
  },
  {
   "cell_type": "markdown",
   "metadata": {},
   "source": [
    "___"
   ]
  },
  {
   "cell_type": "markdown",
   "metadata": {},
   "source": [
    "# Day 3: "
   ]
  },
  {
   "cell_type": "markdown",
   "metadata": {},
   "source": [
    "**Python - Advanced**\n",
    "\n",
    "**Date: 09/07/2024 - Tuesday - 7:00 PM : 9:30 PM**\n",
    "\n",
    "**Link : https://us06web.zoom.us/rec/play/z2JYaSk4Qq8i0ruh_iU0Pg4JVQCBZ8LSsjJgx_FFyTMaLMoYT41lx-7_AbQbifWehOkMbKhD5UaH25IS.C4w68Z6uMKpsDFpA?canPlayFromShare=true&from=share_recording_detail&continueMode=true&componentName=rec-play&originRequestUrl=https%3A%2F%2Fus06web.zoom.us%2Frec%2Fshare%2F9NSXEhUl8cb_3saXa6kWr52G-lmmiZm3FPMis9gRgLf02cszJKOzc6M1g8-7R4ff.X5NUbGqi9OzrsQhk**"
   ]
  },
  {
   "cell_type": "code",
   "execution_count": 21,
   "metadata": {},
   "outputs": [
    {
     "name": "stdout",
     "output_type": "stream",
     "text": [
      "bye\n"
     ]
    }
   ],
   "source": [
    "if 1>2:\n",
    "  print(\"hello\")\n",
    "else:\n",
    "  print(\"bye\")\n"
   ]
  },
  {
   "cell_type": "code",
   "execution_count": 22,
   "metadata": {},
   "outputs": [
    {
     "name": "stdout",
     "output_type": "stream",
     "text": [
      "invalid pin\n"
     ]
    }
   ],
   "source": [
    "pin=input(\"enter you rmobil pin\")\n",
    "if pin==\"0045\":\n",
    " print(\"welcome\")\n",
    "else:\n",
    "  print(\"invalid pin\")\n"
   ]
  },
  {
   "cell_type": "markdown",
   "metadata": {},
   "source": [
    "## ATM\n",
    "\n",
    "1. card number\n",
    "2. pin number\n",
    "3. options\n",
    "  1. deposite\n",
    "  2. withdrawl\n",
    "4. balance update\n",
    "5. mini statement"
   ]
  },
  {
   "cell_type": "code",
   "execution_count": 25,
   "metadata": {},
   "outputs": [
    {
     "name": "stdout",
     "output_type": "stream",
     "text": [
      "Welcome\n"
     ]
    }
   ],
   "source": [
    "card=input(\"Enter card number\")\n",
    "\n",
    "if card<=\"1000\":\n",
    "    print(\"Welcome\")"
   ]
  },
  {
   "cell_type": "code",
   "execution_count": 26,
   "metadata": {},
   "outputs": [
    {
     "name": "stdout",
     "output_type": "stream",
     "text": [
      "Valid Card\n",
      "welcome\n",
      "your balacne is  100077\n"
     ]
    }
   ],
   "source": [
    "card=input(\"Enter card number\")\n",
    "balance=100000\n",
    "if card==\"1000\":\n",
    "    print(\"Valid Card\")\n",
    "    pin=input(\"Enter Pin number\")\n",
    "    if pin==\"1234\":\n",
    "        print(\"welcome\")\n",
    "        options=input(\" Enter D for Deposits & W for withdrawal\")\n",
    "        if options==\"W\" or options==\"w\":\n",
    "            amount=int(input(\"Enter the Amount\"))\n",
    "            balance=balance-amount\n",
    "            print(\"your balacne is \", balance)\n",
    "        elif options==\"D\" or options==\"d\":\n",
    "            amount=int(input(\"Enter the Amount\"))\n",
    "            balance=balance+amount\n",
    "            print(\"your balacne is \", balance)\n",
    "\n",
    "        else:\n",
    "            print(\"invalid options\")\n",
    "\n",
    "\n",
    "    else:\n",
    "        print(\"invalid pin\")\n",
    "\n",
    "else:\n",
    "    print(\"Invalid\")\n",
    "\n",
    "\n",
    "# rewrite a program check if the withdraw > balance , \n",
    "# if deposit is > 50000 ask for pan card , \n",
    "# if you get a negative balce after withdrawal request them to enter the correct amount, also ask them to maintain minimum amount of 5000"
   ]
  },
  {
   "cell_type": "code",
   "execution_count": 27,
   "metadata": {},
   "outputs": [
    {
     "name": "stdout",
     "output_type": "stream",
     "text": [
      "Valid Card\n",
      "welcome\n",
      "your balacne is  122456\n"
     ]
    }
   ],
   "source": [
    "card=input(\"Enter card number\")\n",
    "balance=123456\n",
    "\n",
    "if card==\"1000\":\n",
    "    print(\"Valid Card\")\n",
    "    pin=input(\"Enter Pin number\")\n",
    "    if pin==\"1234\":\n",
    "        print(\"welcome\")\n",
    "        options=input(\" Enter D for Deposits & W for withdrawal\")\n",
    "        if options==\"W\" or options==\"w\":\n",
    "            amount=int(input(\"Enter the Amount\"))\n",
    "            if amount > 100000:\n",
    "                print(\"insuffisent balance\")\n",
    "            else:\n",
    "                balance=balance-amount\n",
    "                print(\"your balacne is \", balance)            \n",
    "        elif options==\"D\" or options==\"d\":\n",
    "            amount=int(input(\"Enter the Amount\"))\n",
    "            if amount>50000:\n",
    "                pan=int(input(\"Enter the PAN number\"))\n",
    "                if pan==12345 :            \n",
    "                 balance=balance+amount\n",
    "                 print(\"your balacne is \", balance)\n",
    "                else:\n",
    "                    print(\"invalid PAN details,\")\n",
    "\n",
    "        else:\n",
    "            print(\"invalid options\")\n",
    "\n",
    "\n",
    "    else:\n",
    "        print(\"invalid pin\")\n",
    "\n",
    "else:\n",
    "    print(\"Invalid\")\n"
   ]
  },
  {
   "cell_type": "markdown",
   "metadata": {},
   "source": [
    "**use \"https://pythontutor.com/render.html#mode=display\" to visualise step by step process for the above program**"
   ]
  },
  {
   "cell_type": "markdown",
   "metadata": {},
   "source": [
    "## loops"
   ]
  },
  {
   "cell_type": "code",
   "execution_count": 28,
   "metadata": {},
   "outputs": [
    {
     "name": "stdout",
     "output_type": "stream",
     "text": [
      "SURESH\n"
     ]
    }
   ],
   "source": [
    "\n",
    "i=\"\"\n",
    "for x in \"Suresh\":\n",
    "  i=i+x.upper()\n",
    "\n",
    "print(i)"
   ]
  },
  {
   "cell_type": "code",
   "execution_count": 29,
   "metadata": {},
   "outputs": [
    {
     "name": "stdout",
     "output_type": "stream",
     "text": [
      "NIRMAL\n",
      "GUVI\n",
      "MDTE011\n"
     ]
    }
   ],
   "source": [
    "for guvi in [\"nirmal\",\"guvi\",\"mdte011\"]:\n",
    "  print(guvi.upper())"
   ]
  },
  {
   "cell_type": "code",
   "execution_count": 30,
   "metadata": {},
   "outputs": [
    {
     "name": "stdout",
     "output_type": "stream",
     "text": [
      "0\n",
      "1\n",
      "2\n",
      "3\n",
      "4\n",
      "5\n",
      "6\n",
      "7\n",
      "8\n",
      "9\n"
     ]
    }
   ],
   "source": [
    "for x in range(10):\n",
    "  print(x)"
   ]
  },
  {
   "cell_type": "code",
   "execution_count": 31,
   "metadata": {},
   "outputs": [
    {
     "name": "stdout",
     "output_type": "stream",
     "text": [
      "1\n",
      "2\n",
      "3\n",
      "4\n",
      "5\n",
      "6\n",
      "7\n",
      "8\n",
      "9\n"
     ]
    }
   ],
   "source": [
    "for x in range(1,10):\n",
    "  print(x)"
   ]
  },
  {
   "cell_type": "code",
   "execution_count": 32,
   "metadata": {},
   "outputs": [
    {
     "name": "stdout",
     "output_type": "stream",
     "text": [
      "1\n",
      "3\n",
      "5\n",
      "7\n",
      "9\n"
     ]
    }
   ],
   "source": [
    "for x in range(1,10,2):\n",
    "  print(x)"
   ]
  },
  {
   "cell_type": "code",
   "execution_count": 33,
   "metadata": {},
   "outputs": [
    {
     "name": "stdout",
     "output_type": "stream",
     "text": [
      "name\n",
      "state\n",
      "ph\n",
      "age\n"
     ]
    }
   ],
   "source": [
    "#unorderd\n",
    "for x in {\"name\":\"nirmal\",\"state\":\"tamilnadu\",\"ph\":123456,\"age\":100}:\n",
    "  print(x)\n",
    "  # gives only keys"
   ]
  },
  {
   "cell_type": "code",
   "execution_count": 34,
   "metadata": {},
   "outputs": [
    {
     "name": "stdout",
     "output_type": "stream",
     "text": [
      "dict_keys(['name', 'state', 'ph', 'age'])\n",
      "dict_values(['nirmal', 'tamilnadu', 123456, 100])\n",
      "dict_items([('name', 'nirmal'), ('state', 'tamilnadu'), ('ph', 123456), ('age', 100)])\n"
     ]
    }
   ],
   "source": [
    "a={\"name\":\"nirmal\",\"state\":\"tamilnadu\",\"ph\":123456,\"age\":100}\n",
    "b=a.keys() # shows only keys\n",
    "c=a.values() # shows only values\n",
    "v=a.items() # shows object that contains the key-value pairs of the dictionary\n",
    "print(b)\n",
    "print(c)\n",
    "print(v)\n",
    "\n"
   ]
  },
  {
   "cell_type": "code",
   "execution_count": 35,
   "metadata": {},
   "outputs": [
    {
     "name": "stdout",
     "output_type": "stream",
     "text": [
      "name\n",
      "state\n",
      "ph\n",
      "age\n"
     ]
    }
   ],
   "source": [
    "for x in b:\n",
    "  print(x)"
   ]
  },
  {
   "cell_type": "code",
   "execution_count": 36,
   "metadata": {},
   "outputs": [
    {
     "name": "stdout",
     "output_type": "stream",
     "text": [
      "nirmal\n",
      "tamilnadu\n",
      "123456\n",
      "100\n"
     ]
    }
   ],
   "source": [
    "for x in c:\n",
    "  print(x)"
   ]
  },
  {
   "cell_type": "code",
   "execution_count": 37,
   "metadata": {},
   "outputs": [
    {
     "name": "stdout",
     "output_type": "stream",
     "text": [
      "('name', 'nirmal')\n"
     ]
    }
   ],
   "source": [
    "for x in v:\n",
    "  print(x)\n",
    "  break"
   ]
  },
  {
   "cell_type": "code",
   "execution_count": 47,
   "metadata": {},
   "outputs": [
    {
     "name": "stdout",
     "output_type": "stream",
     "text": [
      "name\n",
      "state\n",
      "ph\n",
      "age\n"
     ]
    }
   ],
   "source": [
    "a={\"name\":\"nirmal\",\"state\":\"tamilnadu\",\"ph\":123456,\"age\":100}\n",
    "for x in a.keys():\n",
    "  print(x)"
   ]
  },
  {
   "cell_type": "code",
   "execution_count": 53,
   "metadata": {},
   "outputs": [
    {
     "name": "stdout",
     "output_type": "stream",
     "text": [
      "('name', 'nirmal') ('state', 'tamilnadu') ('ph', 123456) ('age', 100)\n"
     ]
    }
   ],
   "source": [
    "x = a.items() # The items() method returns a view object that displays a list of a dictionary's key-value tuple pairs\n",
    "\n",
    "print(*x)  #The print function with the unpacking operator * prints each item in the view object x on the same line, separated by spaces\n",
    "#everything\n",
    "#unpack"
   ]
  },
  {
   "cell_type": "code",
   "execution_count": 54,
   "metadata": {},
   "outputs": [
    {
     "data": {
      "text/plain": [
       "dict_items([('name', 'nirmal'), ('state', 'tamilnadu'), ('ph', 123456), ('age', 100)])"
      ]
     },
     "execution_count": 54,
     "metadata": {},
     "output_type": "execute_result"
    }
   ],
   "source": [
    "x"
   ]
  },
  {
   "cell_type": "code",
   "execution_count": 40,
   "metadata": {},
   "outputs": [
    {
     "name": "stdout",
     "output_type": "stream",
     "text": [
      "dict_items([('name', 'nirmal'), ('state', 'tamilnadu'), ('ph', 123456), ('age', 100)])\n",
      "nirmal\n",
      "tamilnadu\n",
      "123456\n",
      "100\n"
     ]
    }
   ],
   "source": [
    "a={\"name\":\"nirmal\",\"state\":\"tamilnadu\",\"ph\":123456,\"age\":100}\n",
    "print(a.items())\n",
    "for x,y in a.items():\n",
    "  print(y)"
   ]
  },
  {
   "cell_type": "code",
   "execution_count": 41,
   "metadata": {},
   "outputs": [
    {
     "name": "stdout",
     "output_type": "stream",
     "text": [
      "name ----nirmal\n",
      "state ----tamilnadu\n",
      "ph ----123456\n",
      "age ----100\n",
      "<class 'list'>\n"
     ]
    }
   ],
   "source": [
    "a=[('name', 'nirmal',\"123\"),('state', 'tamilnadu',\"123\"),('ph', \"123456\",\"123\"),('age', \"100\",\"1234\")]\n",
    "\n",
    "for x,y,z in a:\n",
    "  print(x + \" ----\" + y)\n",
    "\n",
    "print(type(a))\n"
   ]
  },
  {
   "cell_type": "markdown",
   "metadata": {},
   "source": [
    "___"
   ]
  },
  {
   "cell_type": "markdown",
   "metadata": {},
   "source": [
    "# Day 4 : "
   ]
  },
  {
   "cell_type": "markdown",
   "metadata": {},
   "source": [
    "**10/07/2024 - Wednesday - 7:00 PM : 9:30 PM**\t\n",
    "\n",
    "**https://us06web.zoom.us/rec/play/kAOpfUyrCYv6fo5tXWWyj_iVto6b5YSt7ISctpcLY5HQcLopgHhyCCeI8KDPIQcKRsHjY80mMmvoqMc7.dQ1p55OgPL2DpmGc?canPlayFromShare=true&from=share_recording_detail&continueMode=true&componentName=rec-play&originRequestUrl=https%3A%2F%2Fus06web.zoom.us%2Frec%2Fshare%2FN_KvsplOow3jNAgN6GnT5SKbuiXvj36uugEqRNbPs9kDM4nBDz1SoFVoGshRAEdR.O_eJbEsEv8jHphyj**"
   ]
  },
  {
   "cell_type": "markdown",
   "metadata": {},
   "source": [
    "**1) prompt: write a nested for loop for any pattern generation**"
   ]
  },
  {
   "cell_type": "code",
   "execution_count": 62,
   "metadata": {},
   "outputs": [
    {
     "name": "stdout",
     "output_type": "stream",
     "text": [
      "* \n",
      "* * \n",
      "* * * \n",
      "* * * * \n",
      "* * * * * \n"
     ]
    }
   ],
   "source": [
    "# Pattern 1\n",
    "for i in range(1, 6):\n",
    "  for j in range(i):\n",
    "    print(\"*\", end=\" \")\n",
    "  print()\n",
    "\n",
    "print(\"\\n\")"
   ]
  },
  {
   "cell_type": "code",
   "execution_count": 43,
   "metadata": {},
   "outputs": [
    {
     "name": "stdout",
     "output_type": "stream",
     "text": [
      "* * * * * \n",
      "* * * * \n",
      "* * * \n",
      "* * \n",
      "* \n"
     ]
    }
   ],
   "source": [
    "# Pattern 2\n",
    "for i in range(5, 0, -1):\n",
    "  for j in range(i):\n",
    "    print(\"*\", end=\" \")\n",
    "  print()"
   ]
  },
  {
   "cell_type": "code",
   "execution_count": 67,
   "metadata": {},
   "outputs": [
    {
     "name": "stdout",
     "output_type": "stream",
     "text": [
      "* \n",
      "* * \n",
      "* * * \n",
      "* * * * \n",
      "* * * * * \n",
      "\n",
      "\n",
      "* * * * * \n",
      "* * * * \n",
      "* * * \n",
      "* * \n",
      "* \n"
     ]
    }
   ],
   "source": [
    "# Pattern 1\n",
    "for i in range(1, 6):\n",
    "  for j in range(i):\n",
    "    print(\"*\", end=\" \")\n",
    "  print()\n",
    "\n",
    "print(\"\\n\")\n",
    "\n",
    "# Pattern 2\n",
    "for i in range(5, 0, -1):\n",
    "  for j in range(i):\n",
    "    print(\"*\", end=\" \")\n",
    "  print()"
   ]
  },
  {
   "cell_type": "markdown",
   "metadata": {},
   "source": [
    "___\n",
    "\n",
    "## **Break, Continue, and Pass**:\n",
    "\n",
    "***break, continue, and pass are control flow statements in Python that manage the behavior of loops and conditional statements. Here's an explanation of each:***\n",
    "\n",
    "**Break**:\n",
    "\n",
    "The break statement is used to exit a loop prematurely when a certain condition is met. It immediately terminates the innermost enclosing loop (for or while loop) and proceeds with the next statement after the loop.\n",
    "\n",
    "**Continue**:\n",
    "\n",
    "The continue statement is used to skip the rest of the code inside the current loop iteration and move on to the next iteration of the loop.\n",
    "\n",
    "**Pass**:\n",
    "\n",
    "The pass statement is a null operation; it does nothing when executed. It is used as a placeholder in loops, functions, classes, or conditionals where the code is syntactically required but no action is needed.\n",
    "___"
   ]
  },
  {
   "cell_type": "code",
   "execution_count": 155,
   "metadata": {},
   "outputs": [
    {
     "name": "stdout",
     "output_type": "stream",
     "text": [
      "00\n",
      "01\n",
      "02\n",
      "03\n",
      "04\n",
      "05\n",
      "06\n",
      "07\n",
      "08\n"
     ]
    }
   ],
   "source": [
    "for i in range(0,10):  #This loop iterates over the range from 0 to 9 (inclusive), assigning each value to i.\n",
    "  for j in range(0,9): #For each value of i, this loop iterates over the range from 0 to 9 (inclusive), assigning each value to j.\n",
    "    print(str(i)+str(j)) #This line prints the concatenation of i and j as strings. For example, when i is 2 and j is 3, it prints \"23\".\n",
    "  if str(i)+str(j)==\"08\":  #This condition checks if the concatenated string of i and j is \"29\".\n",
    "    break # breaks\n"
   ]
  },
  {
   "cell_type": "code",
   "execution_count": 88,
   "metadata": {},
   "outputs": [
    {
     "name": "stdout",
     "output_type": "stream",
     "text": [
      "01\n",
      "03\n",
      "05\n",
      "07\n",
      "09\n",
      "11\n",
      "13\n",
      "15\n",
      "17\n",
      "19\n",
      "21\n",
      "23\n",
      "25\n",
      "27\n",
      "29\n",
      "31\n",
      "33\n",
      "35\n",
      "37\n",
      "39\n",
      "41\n",
      "43\n",
      "45\n",
      "47\n",
      "49\n",
      "51\n",
      "53\n",
      "55\n",
      "57\n",
      "59\n",
      "61\n",
      "63\n",
      "65\n",
      "67\n",
      "69\n",
      "71\n",
      "73\n",
      "75\n",
      "77\n",
      "79\n",
      "81\n",
      "83\n",
      "85\n",
      "87\n",
      "89\n",
      "91\n",
      "93\n",
      "95\n",
      "97\n",
      "99\n"
     ]
    }
   ],
   "source": [
    "for i in range(0,10):\n",
    "  for j in range(0,10):\n",
    "    if int(str(i)+str(j))%2==0:\n",
    "      continue\n",
    "    print(str(i)+str(j))\n",
    "\n"
   ]
  },
  {
   "cell_type": "code",
   "execution_count": 183,
   "metadata": {},
   "outputs": [
    {
     "name": "stdout",
     "output_type": "stream",
     "text": [
      "00\n",
      "01\n",
      "02\n",
      "03\n",
      "04\n",
      "05\n",
      "06\n",
      "07\n",
      "08\n",
      "09\n",
      "10\n",
      "11\n",
      "12\n",
      "13\n",
      "14\n",
      "15\n",
      "16\n",
      "17\n",
      "18\n",
      "19\n",
      "20\n",
      "21\n",
      "22\n",
      "23\n",
      "24\n",
      "25\n",
      "26\n",
      "27\n",
      "28\n",
      "29\n"
     ]
    }
   ],
   "source": [
    "# duration 35.31\n",
    "\n",
    "for i in range(0,10):\n",
    "  for j in range(0,10):\n",
    "    print(str(i)+str(j))\n",
    "  if str(i)+str(j)==\"29\":\n",
    "      break"
   ]
  },
  {
   "cell_type": "code",
   "execution_count": 123,
   "metadata": {},
   "outputs": [
    {
     "name": "stdout",
     "output_type": "stream",
     "text": [
      "00\n",
      "01\n",
      "02\n",
      "03\n",
      "04\n",
      "05\n",
      "06\n",
      "07\n",
      "08\n",
      "09\n",
      "10\n",
      "11\n",
      "12\n",
      "13\n",
      "14\n",
      "15\n",
      "16\n",
      "17\n",
      "18\n",
      "19\n",
      "20\n",
      "21\n",
      "22\n",
      "23\n",
      "24\n",
      "25\n",
      "26\n",
      "27\n",
      "28\n",
      "29\n"
     ]
    }
   ],
   "source": [
    "for i in range(0, 10):\n",
    "  for j in range(0, 10):\n",
    "    if str(i) + str(j) == \"30\":\n",
    "      break\n",
    "    print(str(i) + str(j))\n",
    "  else:\n",
    "    continue\n",
    "  break\n"
   ]
  },
  {
   "cell_type": "code",
   "execution_count": 167,
   "metadata": {},
   "outputs": [
    {
     "name": "stdout",
     "output_type": "stream",
     "text": [
      "00\n",
      "01\n",
      "02\n",
      "03\n",
      "04\n",
      "05\n",
      "06\n",
      "07\n",
      "08\n",
      "09\n",
      "10\n",
      "11\n",
      "12\n",
      "13\n",
      "14\n",
      "15\n",
      "16\n",
      "17\n",
      "18\n",
      "19\n",
      "20\n",
      "21\n",
      "22\n",
      "23\n",
      "24\n",
      "25\n",
      "26\n",
      "27\n",
      "28\n",
      "29\n",
      "30\n"
     ]
    }
   ],
   "source": [
    "for i in range(0, 10):\n",
    "    for j in range(0, 10):\n",
    "        print(str(i) + str(j))\n",
    "        if str(i) + str(j) == \"30\":\n",
    "            break\n",
    "    if str(i) + str(j) == \"30\":\n",
    "        break\n"
   ]
  },
  {
   "cell_type": "code",
   "execution_count": 157,
   "metadata": {},
   "outputs": [
    {
     "name": "stdout",
     "output_type": "stream",
     "text": [
      "rajini kanth\n",
      "kamal hasan\n",
      "alia bhatt\n"
     ]
    }
   ],
   "source": [
    "for i in [\"rajini\", \"kamal\", \"alia\"]:\n",
    "    for j in [\"kanth\", \"hasan\", \"bhatt\"]:\n",
    "        if (i == \"rajini\" and j == \"kanth\") or (i == \"kamal\" and j == \"hasan\") or (i == \"alia\" and j == \"bhatt\"):\n",
    "            print(f\"{i} {j}\")\n"
   ]
  },
  {
   "cell_type": "code",
   "execution_count": 156,
   "metadata": {},
   "outputs": [
    {
     "name": "stdout",
     "output_type": "stream",
     "text": [
      "rajini kanth\n",
      "kamal hasan\n",
      "alia bhatt\n"
     ]
    }
   ],
   "source": [
    "names = [\"rajini\", \"kamal\", \"alia\"]\n",
    "surnames = [\"kanth\", \"hasan\", \"bhatt\"]\n",
    "\n",
    "for i in range(len(names)):\n",
    "    print(f\"{names[i]} {surnames[i]}\")\n"
   ]
  },
  {
   "cell_type": "code",
   "execution_count": 2,
   "metadata": {},
   "outputs": [
    {
     "name": "stdout",
     "output_type": "stream",
     "text": [
      "rajini kanth\n",
      "kamal hasan\n",
      "alia bhatt\n"
     ]
    }
   ],
   "source": [
    "a = [\"rajini\",\"kamal\",\"alia\"]\n",
    "b = [\"kanth\",\"hasan\",\"bhatt\"]\n",
    "for i in range(0,3):\n",
    "    print(a[i],b[i])"
   ]
  },
  {
   "cell_type": "code",
   "execution_count": 177,
   "metadata": {},
   "outputs": [
    {
     "name": "stdout",
     "output_type": "stream",
     "text": [
      "rajini kanth\n",
      "rajini bhatt\n",
      "kamal kanth\n",
      "kamal hasan\n",
      "kamal bhatt\n",
      "alia kanth\n",
      "alia hasan\n",
      "alia bhatt\n"
     ]
    }
   ],
   "source": [
    "for i in [\"rajini\",\"kamal\",\"alia\"]:\n",
    "  for j in [\"kanth\",\"hasan\",\"bhatt\"]:\n",
    "    if i+\" \"+j== \"rajini hasan\" :\n",
    "      continue\n",
    "    print(i+\" \"+j)\n",
    "\n",
    "\n",
    "\n",
    "#rajini kanth\n",
    "#kamal hasan\n",
    "#alia bhatt"
   ]
  },
  {
   "cell_type": "markdown",
   "metadata": {},
   "source": [
    "## **While loop:**\n",
    "\n",
    "**1)  A while loop is particularly useful in situations where you want to repeat an action until a certain condition is met.**\n",
    "\n",
    "**2) it uses untill the condition is true**"
   ]
  },
  {
   "cell_type": "markdown",
   "metadata": {},
   "source": [
    "**Use python visualizer for clarity** "
   ]
  },
  {
   "cell_type": "code",
   "execution_count": 6,
   "metadata": {},
   "outputs": [
    {
     "name": "stdout",
     "output_type": "stream",
     "text": [
      "4\n",
      "5\n",
      "6\n",
      "7\n",
      "8\n",
      "9\n",
      "10\n"
     ]
    }
   ],
   "source": [
    "input1=int(input())\n",
    "while input1<=10:\n",
    "    print(input1)\n",
    "    input1=input1+1"
   ]
  },
  {
   "cell_type": "code",
   "execution_count": 16,
   "metadata": {},
   "outputs": [
    {
     "name": "stdout",
     "output_type": "stream",
     "text": [
      "1 0\n",
      "Value of i is  1\n",
      "1 1\n",
      "Value of i is  1\n",
      "1 2\n",
      "Value of i is  1\n",
      "1 3\n",
      "Value of i is  1\n",
      "1 4\n",
      "Value of i is  1\n",
      "1 5\n",
      "Value of i is  1\n",
      "1 6\n",
      "Value of i is  1\n",
      "1 7\n",
      "Value of i is  1\n",
      "1 8\n",
      "Value of i is  1\n",
      "1 9\n",
      "Value of i is  1\n"
     ]
    }
   ],
   "source": [
    "i=0\n",
    "j=0\n",
    "while i<10: # Outter while loop\n",
    "  i=i+1\n",
    "  while j<10: #inner while loop\n",
    "    print(i,j)\n",
    "    j=j+1\n",
    "    print(\"Value of i is \", i) #1) For i = 1, the inner loop runs, printing all pairs (1, 0), (1, 1), ..., (1, 9), then prints 1 after the inner loop finishes, #2)For i = 2 to i = 10, the inner loop doesn't execute because j is already 10, so it just prints the value of i."
   ]
  },
  {
   "cell_type": "code",
   "execution_count": 23,
   "metadata": {},
   "outputs": [
    {
     "name": "stdout",
     "output_type": "stream",
     "text": [
      "0\n",
      "1 0\n",
      "1 1\n",
      "1 2\n",
      "1 3\n",
      "1 4\n",
      "1 5\n",
      "1 6\n",
      "1 7\n",
      "1 8\n",
      "1 9\n",
      "1\n",
      "2\n",
      "3\n",
      "4\n",
      "5\n",
      "6\n",
      "7\n",
      "8\n",
      "9\n",
      "10 10\n"
     ]
    }
   ],
   "source": [
    "i=0\n",
    "j=0\n",
    "while i<10: # Outter while loop\n",
    "  print(i)\n",
    "  i=i+1\n",
    "  while j<10: #inner while loop\n",
    "    print(i,j)\n",
    "    j=j+1\n",
    "print(i,j)"
   ]
  },
  {
   "cell_type": "markdown",
   "metadata": {},
   "source": [
    "## data types and operation\n",
    "    1) List and its operation:\n",
    "\n"
   ]
  },
  {
   "cell_type": "code",
   "execution_count": 41,
   "metadata": {},
   "outputs": [
    {
     "name": "stdout",
     "output_type": "stream",
     "text": [
      "['__add__', '__class__', '__class_getitem__', '__contains__', '__delattr__', '__delitem__', '__dir__', '__doc__', '__eq__', '__format__', '__ge__', '__getattribute__', '__getitem__', '__getstate__', '__gt__', '__hash__', '__iadd__', '__imul__', '__init__', '__init_subclass__', '__iter__', '__le__', '__len__', '__lt__', '__mul__', '__ne__', '__new__', '__reduce__', '__reduce_ex__', '__repr__', '__reversed__', '__rmul__', '__setattr__', '__setitem__', '__sizeof__', '__str__', '__subclasshook__', 'append', 'clear', 'copy', 'count', 'extend', 'index', 'insert', 'pop', 'remove', 'reverse', 'sort']\n"
     ]
    }
   ],
   "source": [
    "print(dir(list))"
   ]
  },
  {
   "cell_type": "code",
   "execution_count": 24,
   "metadata": {},
   "outputs": [
    {
     "name": "stdout",
     "output_type": "stream",
     "text": [
      "[1, 2, 3, 'wdiuqwe', [1, 2, 3]]\n"
     ]
    }
   ],
   "source": [
    "a=[1,2] # list\n",
    "\n",
    "a.append(3)\n",
    "a.append(\"wdiuqwe\")\n",
    "a.append([1,2,3])\n",
    "print(a)"
   ]
  },
  {
   "cell_type": "code",
   "execution_count": 29,
   "metadata": {},
   "outputs": [
    {
     "data": {
      "text/plain": [
       "[1, 3, 3, 2, 3, 'wdiuqwe', [1, 2, 3], 3, 'wdiuqwe', [1, 2, 3]]"
      ]
     },
     "execution_count": 29,
     "metadata": {},
     "output_type": "execute_result"
    }
   ],
   "source": [
    "a.insert(1,3)\n",
    "a"
   ]
  },
  {
   "cell_type": "markdown",
   "metadata": {},
   "source": [
    "### List _extend( ) : \n",
    "    a.extend can add multiple values to the list "
   ]
  },
  {
   "cell_type": "code",
   "execution_count": 28,
   "metadata": {},
   "outputs": [
    {
     "name": "stdout",
     "output_type": "stream",
     "text": [
      "[1, 3, 2, 3, 'wdiuqwe', [1, 2, 3], 3, 'wdiuqwe', [1, 2, 3]]\n"
     ]
    }
   ],
   "source": [
    "a.extend([3,\"wdiuqwe\",[1,2,3]])\n",
    "print(a)"
   ]
  },
  {
   "cell_type": "markdown",
   "metadata": {},
   "source": [
    "___\n",
    "In other words extend is nothing but append in for loop\n",
    "\n"
   ]
  },
  {
   "cell_type": "code",
   "execution_count": 33,
   "metadata": {},
   "outputs": [
    {
     "name": "stdout",
     "output_type": "stream",
     "text": [
      "['apple', 1, 23, 'banana', 'Orange', 2, 24]\n"
     ]
    }
   ],
   "source": [
    "b=[\"apple\",1,23,\"banana\"]\n",
    "for i in [\"Orange\",2,24]:\n",
    "    b.append(i)\n",
    "print(b)"
   ]
  },
  {
   "cell_type": "code",
   "execution_count": 36,
   "metadata": {},
   "outputs": [
    {
     "name": "stdout",
     "output_type": "stream",
     "text": [
      "[1, 'abc', 2, 3]\n"
     ]
    }
   ],
   "source": [
    "a=[1,2,3]\n",
    "a.insert(-2,\"abc\")\n",
    "print(a)"
   ]
  },
  {
   "cell_type": "code",
   "execution_count": 44,
   "metadata": {},
   "outputs": [
    {
     "name": "stdout",
     "output_type": "stream",
     "text": [
      "[1, 2, 'abc', 3]\n"
     ]
    }
   ],
   "source": [
    "a=[1,2,3]\n",
    "\n",
    "a.insert(2,\"abc\") # 2,abc is called as arguments or parameter\n",
    "print(a)"
   ]
  },
  {
   "cell_type": "code",
   "execution_count": 38,
   "metadata": {},
   "outputs": [
    {
     "name": "stdout",
     "output_type": "stream",
     "text": [
      "[1, 'nirmal', 3]\n"
     ]
    }
   ],
   "source": [
    "a=[1,2,3]\n",
    "a[1]=\"nirmal\"\n",
    "print(a)"
   ]
  },
  {
   "cell_type": "code",
   "execution_count": 47,
   "metadata": {},
   "outputs": [
    {
     "data": {
      "text/plain": [
       "['replaced word', 2, 'abc', 3]"
      ]
     },
     "execution_count": 47,
     "metadata": {},
     "output_type": "execute_result"
    }
   ],
   "source": [
    "a[0]=\"replaced word\"\n",
    "a"
   ]
  },
  {
   "cell_type": "code",
   "execution_count": 49,
   "metadata": {},
   "outputs": [
    {
     "data": {
      "text/plain": [
       "['replaced word', 2, 'abc', '2nd word']"
      ]
     },
     "execution_count": 49,
     "metadata": {},
     "output_type": "execute_result"
    }
   ],
   "source": [
    "a[-1]=\"2nd word\"  # negative indexing \n",
    "a"
   ]
  },
  {
   "cell_type": "markdown",
   "metadata": {},
   "source": [
    "### **Search a element in list**"
   ]
  },
  {
   "cell_type": "code",
   "execution_count": 50,
   "metadata": {},
   "outputs": [
    {
     "name": "stdout",
     "output_type": "stream",
     "text": [
      "2\n",
      "8\n"
     ]
    }
   ],
   "source": [
    "a=[1,2,3,3,2,13,12,121,\"abc\",120,120,121]\n",
    "print(a.count(120))  # shows howmany 120 is there\n",
    "print(a.index(\"abc\")) # shows the first index of \"abc\""
   ]
  },
  {
   "cell_type": "markdown",
   "metadata": {},
   "source": [
    "___\n",
    "**How to get a list input from user:**"
   ]
  },
  {
   "cell_type": "code",
   "execution_count": 62,
   "metadata": {},
   "outputs": [
    {
     "name": "stdout",
     "output_type": "stream",
     "text": [
      "['1', '2', '3', '4']\n",
      "['24', '2b']\n",
      "['a', 'a']\n"
     ]
    }
   ],
   "source": [
    "# prompt: different ways to get list input from user\n",
    "\n",
    "# Method 1: Taking input as a space-separated string and splitting it into a list\n",
    "input_string = input(\"Enter elements separated by spaces: \")\n",
    "list1 = input_string.split()\n",
    "print(list1)\n",
    "\n",
    "# Method 2: Using a loop to take input for each element\n",
    "num_elements = int(input(\"Enter the number of elements: \"))\n",
    "list2 = []\n",
    "for i in range(num_elements):\n",
    "  element = input(f\"Enter element {i+1}: \")\n",
    "  list2.append(element)\n",
    "print(list2)\n",
    "\n",
    "# Method 3: Using list comprehension for concise input\n",
    "list3 = [input(f\"Enter element {i+1}: \") for i in range(int(input(\"Enter the number of elements: \"))) ]\n",
    "print(list3)\n"
   ]
  },
  {
   "cell_type": "code",
   "execution_count": 51,
   "metadata": {},
   "outputs": [
    {
     "name": "stdout",
     "output_type": "stream",
     "text": [
      "['1', '2', '3', '4', '5']\n"
     ]
    }
   ],
   "source": [
    "input_string=input(\"enter by space\")\n",
    "list=input_string.split()\n",
    "print(list)"
   ]
  },
  {
   "cell_type": "markdown",
   "metadata": {},
   "source": [
    "___"
   ]
  },
  {
   "cell_type": "code",
   "execution_count": 56,
   "metadata": {},
   "outputs": [
    {
     "name": "stdout",
     "output_type": "stream",
     "text": [
      "error\n",
      "0\n",
      "error\n",
      "error\n",
      "1\n",
      "error\n",
      "error\n",
      "error\n",
      "error\n",
      "error\n",
      "error\n",
      "error\n"
     ]
    }
   ],
   "source": [
    "a=[1,2,3,3,2,13,12,121,\"abc\",120,120,121]\n",
    "counter=0\n",
    "for i in a:\n",
    "    if i==2:\n",
    "        print(counter)\n",
    "        counter=counter+1\n",
    "    else:\n",
    "        print(\"error\")"
   ]
  },
  {
   "cell_type": "code",
   "execution_count": 60,
   "metadata": {},
   "outputs": [
    {
     "name": "stdout",
     "output_type": "stream",
     "text": [
      "error\n",
      "error\n",
      "error\n",
      "error\n",
      "error\n",
      "error\n",
      "error\n",
      "error\n",
      "8 th index\n",
      "error\n",
      "error\n",
      "error\n",
      "error\n"
     ]
    }
   ],
   "source": [
    "a=[1,2,3,3,2,13,12,121,\"abc\",120,120,121,\"abcde\"]\n",
    "counter=-1\n",
    "for i in a:\n",
    "    counter=counter+1\n",
    "    if i==\"abc\":\n",
    "        print(counter, \"th index\")\n",
    "    else:\n",
    "        print(\"error\")"
   ]
  },
  {
   "cell_type": "code",
   "execution_count": 64,
   "metadata": {},
   "outputs": [
    {
     "name": "stdout",
     "output_type": "stream",
     "text": [
      "[1, 3, 43, 45]\n",
      "[1, 3, 45] 43\n"
     ]
    }
   ],
   "source": [
    "a=[1,2,3,43,45]\n",
    "a.remove(2) # removes the value 2\n",
    "print(a)\n",
    "c=a.pop(2) # pops the 2nd index  and put it into varible C\n",
    "print(a,c)"
   ]
  },
  {
   "cell_type": "code",
   "execution_count": 65,
   "metadata": {},
   "outputs": [
    {
     "name": "stdout",
     "output_type": "stream",
     "text": [
      "[1, 3, 43, 45]\n"
     ]
    }
   ],
   "source": [
    "# to remove only 2 and putit in a new list \"a\"\n",
    "\n",
    "list1=[1,2,3,43,45]\n",
    "\n",
    "a=[]\n",
    "for i in list1:\n",
    "  if i!=2:\n",
    "    a.append(i)\n",
    "\n",
    "print(a)"
   ]
  },
  {
   "cell_type": "markdown",
   "metadata": {},
   "source": [
    "___\n",
    "## **Question 1: how to remove a duplicate values in a list**\n",
    "\n",
    "    To remove duplicate values from a list in Python, you can use several methods. Here are the most common ones:\n",
    "\n",
    "    1. Using a Set\n",
    "    2. Using a For Loop and a New List\n",
    "    3. Using List Comprehension and a Set\n",
    "    4. Using dict.fromkeys()\n"
   ]
  },
  {
   "cell_type": "markdown",
   "metadata": {},
   "source": [
    "**1. Using a Set**"
   ]
  },
  {
   "cell_type": "code",
   "execution_count": 67,
   "metadata": {},
   "outputs": [
    {
     "name": "stdout",
     "output_type": "stream",
     "text": [
      "{1, 2, 3, 4, 5}\n"
     ]
    }
   ],
   "source": [
    "my_list = [1, 2, 2, 3, 4, 4, 5]\n",
    "my_list = set(my_list)\n",
    "print(my_list)\n"
   ]
  },
  {
   "cell_type": "markdown",
   "metadata": {},
   "source": [
    "**2. Using a For Loop and a New List**"
   ]
  },
  {
   "cell_type": "code",
   "execution_count": 68,
   "metadata": {},
   "outputs": [
    {
     "name": "stdout",
     "output_type": "stream",
     "text": [
      "[1, 2, 3, 4, 5]\n"
     ]
    }
   ],
   "source": [
    "my_list = [1, 2, 2, 3, 4, 4, 5]\n",
    "unique_list = []\n",
    "for item in my_list:\n",
    "    if item not in unique_list:\n",
    "        unique_list.append(item)\n",
    "\n",
    "print(unique_list)\n"
   ]
  },
  {
   "cell_type": "markdown",
   "metadata": {},
   "source": [
    "**3. Using List Comprehension and a Set**\n"
   ]
  },
  {
   "cell_type": "code",
   "execution_count": 69,
   "metadata": {},
   "outputs": [
    {
     "name": "stdout",
     "output_type": "stream",
     "text": [
      "[1, 2, 3, 4, 5]\n"
     ]
    }
   ],
   "source": [
    "my_list = [1, 2, 2, 3, 4, 4, 5]\n",
    "unique_list = []\n",
    "[unique_list.append(item) for item in my_list if item not in unique_list]\n",
    "print(unique_list)"
   ]
  },
  {
   "cell_type": "markdown",
   "metadata": {},
   "source": [
    "**4. Using dict.fromkeys()**"
   ]
  },
  {
   "cell_type": "code",
   "execution_count": 73,
   "metadata": {},
   "outputs": [
    {
     "name": "stdout",
     "output_type": "stream",
     "text": [
      "dict_keys([1, 2, 3, 4, 5])\n"
     ]
    }
   ],
   "source": [
    "my_list = [1, 2, 2, 3, 4, 4, 5]\n",
    "my_list = dict.fromkeys(my_list)\n",
    "print(my_list.keys())\n"
   ]
  },
  {
   "cell_type": "markdown",
   "metadata": {},
   "source": [
    "## Quiz:\n",
    "\n",
    "**1) What does the ** operator do in python:**\n",
    "\n",
    "**The ** operator in Python has two primary uses:**\n",
    "**Exponentiation**\n",
    "\n",
    "    The ** operator is used to raise a number to the power of another number.\n",
    "    Syntax: a ** b\n",
    "    Example: a ** b means \"a raised to the power of b."
   ]
  },
  {
   "cell_type": "code",
   "execution_count": 74,
   "metadata": {},
   "outputs": [
    {
     "name": "stdout",
     "output_type": "stream",
     "text": [
      "8\n"
     ]
    }
   ],
   "source": [
    "result = 2 ** 3  # This means 2 raised to the power of 3\n",
    "print(result)  # Output: 8"
   ]
  },
  {
   "cell_type": "markdown",
   "metadata": {},
   "source": [
    "**2) What does the * operator do in python :**\n",
    "\n",
    "    Multiply"
   ]
  },
  {
   "cell_type": "code",
   "execution_count": 75,
   "metadata": {},
   "outputs": [
    {
     "name": "stdout",
     "output_type": "stream",
     "text": [
      "6\n"
     ]
    }
   ],
   "source": [
    "result = 2 * 3  # This means 2 multiplied of 3\n",
    "print(result)"
   ]
  },
  {
   "cell_type": "markdown",
   "metadata": {},
   "source": [
    "**3) What does // operator do in python?**\n",
    "\n",
    "    The // operator in Python is the floor division operator. It divides two numbers and returns the largest integer that is less than or equal to the quotient. In other words, it performs division and then rounds down the result to the nearest whole number (integer).\n",
    "\n"
   ]
  },
  {
   "cell_type": "code",
   "execution_count": 76,
   "metadata": {},
   "outputs": [
    {
     "name": "stdout",
     "output_type": "stream",
     "text": [
      "3\n"
     ]
    }
   ],
   "source": [
    "result = 7 // 2\n",
    "print(result)  # Output: 3\n",
    "\n",
    "#7 / 2 equals 3.5, but 7 // 2 rounds down to 3."
   ]
  },
  {
   "cell_type": "code",
   "execution_count": 78,
   "metadata": {},
   "outputs": [
    {
     "data": {
      "text/plain": [
       "1"
      ]
     },
     "execution_count": 78,
     "metadata": {},
     "output_type": "execute_result"
    }
   ],
   "source": [
    "10%3"
   ]
  },
  {
   "cell_type": "code",
   "execution_count": 82,
   "metadata": {},
   "outputs": [
    {
     "data": {
      "text/plain": [
       "1.0"
      ]
     },
     "execution_count": 82,
     "metadata": {},
     "output_type": "execute_result"
    }
   ],
   "source": [
    "(3**2)%(8/2)"
   ]
  },
  {
   "cell_type": "code",
   "execution_count": 83,
   "metadata": {},
   "outputs": [
    {
     "data": {
      "text/plain": [
       "4.0"
      ]
     },
     "execution_count": 83,
     "metadata": {},
     "output_type": "execute_result"
    }
   ],
   "source": [
    "(8/2)"
   ]
  },
  {
   "cell_type": "code",
   "execution_count": 84,
   "metadata": {},
   "outputs": [
    {
     "data": {
      "text/plain": [
       "7"
      ]
     },
     "execution_count": 84,
     "metadata": {},
     "output_type": "execute_result"
    }
   ],
   "source": [
    "1+2*3"
   ]
  },
  {
   "cell_type": "markdown",
   "metadata": {},
   "source": [
    "End \n",
    "___"
   ]
  },
  {
   "cell_type": "markdown",
   "metadata": {},
   "source": [
    "# Day 5 \n",
    "\n",
    "**Link : https://us06web.zoom.us/rec/play/_lD6_GkkH10QSVE__g_sr7xXdWCpt_TeK7qcF-p5bzRsl2l5qgMrTj2ooFN3eRAqNEMBuO93HzvfeMgu.Cby-8gZNSooiLt58?canPlayFromShare=true&from=share_recording_detail&continueMode=true&componentName=rec-play&originRequestUrl=https%3A%2F%2Fus06web.zoom.us%2Frec%2Fshare%2FnEgOQIdH_lHhPXFYco1CFUubD2OmsbYsbiOsUQUjiBdf622J_BzjNFtztniY0MOL.LNRJmu-73AO2TMLo**"
   ]
  },
  {
   "cell_type": "markdown",
   "metadata": {},
   "source": [
    "## string operations:\n",
    "\n",
    "    'capitalize', 'casefold', 'center', 'count', 'encode', 'endswith', 'expandtabs', 'find', 'format', 'format_map', 'index', 'isalnum', 'isalpha', 'isascii', 'isdecimal', 'isdigit', 'isidentifier', 'islower', 'isnumeric', 'isprintable', 'isspace', 'istitle', 'isupper', 'join', 'ljust', 'lower', 'lstrip', 'maketrans', 'partition', 'removeprefix', 'removesuffix', 'replace', 'rfind', 'rindex', 'rjust', 'rpartition', 'rsplit', 'rstrip', 'split', 'splitlines', 'startswith', 'strip', 'swapcase', 'title', 'translate', 'upper', 'zfill'"
   ]
  },
  {
   "cell_type": "markdown",
   "metadata": {},
   "source": [
    "### **'expandtabs' :**"
   ]
  },
  {
   "cell_type": "code",
   "execution_count": 9,
   "metadata": {},
   "outputs": [
    {
     "data": {
      "text/plain": [
       "'Hello wor   ld'"
      ]
     },
     "execution_count": 9,
     "metadata": {},
     "output_type": "execute_result"
    }
   ],
   "source": [
    "text= \"Hello wor\\tld\"\n",
    "expanded_text = text.expandtabs(4)\n",
    "expanded_text"
   ]
  },
  {
   "cell_type": "markdown",
   "metadata": {},
   "source": [
    "**The expandtabs() method in Python is used to replace all the tab characters (\\t) in a string with spaces. By default, the number of spaces per tab is 8, but you can specify a different number**\n",
    "\n",
    "**In this example, each \\t is replaced with 4 spaces.**\n",
    "___"
   ]
  },
  {
   "cell_type": "markdown",
   "metadata": {},
   "source": [
    "## Functions : "
   ]
  },
  {
   "cell_type": "markdown",
   "metadata": {},
   "source": [
    "**Functions in Python are reusable blocks of code that perform a specific task. They help in organizing code, making it more readable, and allowing code reuse. Python functions can take input, perform actions, and return results.**\n",
    "\n",
    "**Defining a Function You define a function in Python using the def keyword, followed by the function name, parentheses, and a colon. The code block within the function is indented.**\n",
    "\n",
    "\n",
    "```python\n",
    "def function_name(parameters):\n",
    "    # code block\n",
    "    return result\n",
    "```\n",
    "\n",
    "***Components of a Function***\n",
    "\n",
    "1. **Function Name**: A unique identifier for the function, following Python's naming rules.\n",
    "2. **Parameters**: Optional input values the function can receive. These are placed inside the parentheses.\n",
    "3. **Function Body**: The block of code that performs the function's task. It is indented under the `def` statement.\n",
    "4. **Return Statement**: (Optional) The `return` statement is used to send back a result from the function to the caller.\n",
    "\n",
    "**Example**\n",
    "```python\n",
    "def greet(name):\n",
    "    \"\"\"This function greets the person passed as an argument\"\"\"\n",
    "    return f\"Hello, {name}!\"\n",
    "\n",
    "# Calling the function\n",
    "message = greet(\"Alice\")\n",
    "print(message)\n",
    "```\n",
    "\n",
    "**Output:**\n",
    "```\n",
    "Hello, Alice!\n",
    "```"
   ]
  },
  {
   "cell_type": "markdown",
   "metadata": {},
   "source": [
    "### single Argumnets:"
   ]
  },
  {
   "cell_type": "code",
   "execution_count": 18,
   "metadata": {},
   "outputs": [],
   "source": [
    "#functions:\n",
    "def guvi():\n",
    "  print(\"guvi\")\n",
    "  print(\"nirmal\")\n",
    "  return \"good evening\" # The return statement is used to send back a result from the function to the caller"
   ]
  },
  {
   "cell_type": "code",
   "execution_count": 19,
   "metadata": {},
   "outputs": [
    {
     "name": "stdout",
     "output_type": "stream",
     "text": [
      "guvi\n",
      "nirmal\n"
     ]
    },
    {
     "data": {
      "text/plain": [
       "'good evening'"
      ]
     },
     "execution_count": 19,
     "metadata": {},
     "output_type": "execute_result"
    }
   ],
   "source": [
    "guvi()"
   ]
  },
  {
   "cell_type": "code",
   "execution_count": 27,
   "metadata": {},
   "outputs": [
    {
     "name": "stdout",
     "output_type": "stream",
     "text": [
      "guvi\n",
      "nirmal\n"
     ]
    },
    {
     "data": {
      "text/plain": [
       "'good evening'"
      ]
     },
     "execution_count": 27,
     "metadata": {},
     "output_type": "execute_result"
    }
   ],
   "source": [
    "a=guvi\n",
    "a()"
   ]
  },
  {
   "cell_type": "code",
   "execution_count": 15,
   "metadata": {},
   "outputs": [
    {
     "name": "stdout",
     "output_type": "stream",
     "text": [
      "guvi\n",
      "nirmal\n"
     ]
    }
   ],
   "source": [
    "a=guvi()  # print statement prints the "
   ]
  },
  {
   "cell_type": "code",
   "execution_count": 25,
   "metadata": {},
   "outputs": [
    {
     "name": "stdout",
     "output_type": "stream",
     "text": [
      "good evening\n"
     ]
    }
   ],
   "source": [
    "print(a) # return statment stores the returned value \"good evening \""
   ]
  },
  {
   "cell_type": "code",
   "execution_count": 16,
   "metadata": {},
   "outputs": [],
   "source": [
    "def guvi():\n",
    "  print(\"guvi\")\n",
    "  print(\"nirmal\")\n",
    "  return"
   ]
  },
  {
   "cell_type": "code",
   "execution_count": 31,
   "metadata": {},
   "outputs": [],
   "source": [
    "def add ():\n",
    "    a=1\n",
    "    b=2\n",
    "    return a+b"
   ]
  },
  {
   "cell_type": "code",
   "execution_count": 32,
   "metadata": {},
   "outputs": [
    {
     "data": {
      "text/plain": [
       "3"
      ]
     },
     "execution_count": 32,
     "metadata": {},
     "output_type": "execute_result"
    }
   ],
   "source": [
    "add() # calling function"
   ]
  },
  {
   "cell_type": "code",
   "execution_count": 33,
   "metadata": {},
   "outputs": [
    {
     "data": {
      "text/plain": [
       "8"
      ]
     },
     "execution_count": 33,
     "metadata": {},
     "output_type": "execute_result"
    }
   ],
   "source": [
    "def add(a, b):\n",
    "    return a + b\n",
    "result = add(3, 5)  # result now holds the value 8\n",
    "\n",
    "result"
   ]
  },
  {
   "cell_type": "markdown",
   "metadata": {},
   "source": [
    "____"
   ]
  },
  {
   "cell_type": "code",
   "execution_count": 34,
   "metadata": {},
   "outputs": [
    {
     "data": {
      "text/plain": [
       "'No value'"
      ]
     },
     "execution_count": 34,
     "metadata": {},
     "output_type": "execute_result"
    }
   ],
   "source": [
    "def index(x, y):\n",
    "    count = 0\n",
    "    intex_1 = 0\n",
    "    for i in y:\n",
    "        if i == x:\n",
    "            intex_1 = count\n",
    "            break\n",
    "        else:\n",
    "            count += 1\n",
    "    if intex_1 != 0:\n",
    "        return intex_1\n",
    "    else:\n",
    "        return \"No value\"\n",
    "y = [1,2,3,4,5,6,9,0,10,21,31]\n",
    "x = 23\n",
    "index(x,y)"
   ]
  },
  {
   "cell_type": "markdown",
   "metadata": {},
   "source": [
    "Let's break down the `index` function and understand how it works:\n",
    "\n",
    "**Function Definition**\n",
    "```python\n",
    "def index(x, y):\n",
    "```\n",
    "- The function `index` takes two arguments: `x` and `y`.\n",
    "  - `x`: The value you want to find in the list.\n",
    "  - `y`: The list in which you are searching for the value `x`.\n",
    "\n",
    "**Initializing Variables**\n",
    "```python\n",
    "    count = 0\n",
    "    intex_1 = 0\n",
    "```\n",
    "- `count`: This variable keeps track of the current index as you iterate through the list `y`.\n",
    "- `intex_1`: This variable is intended to store the index where the value `x` is found. It is initialized to `0`.\n",
    "\n",
    "**Iterating Through the List**\n",
    "```python\n",
    "    for i in y:\n",
    "        if i == x:\n",
    "            intex_1 = count\n",
    "            break\n",
    "        else:\n",
    "            count += 1\n",
    "```\n",
    "- The `for` loop iterates over each element `i` in the list `y`.\n",
    "- Inside the loop, the `if` condition checks if the current element `i` is equal to `x`:\n",
    "  - If `i` is equal to `x`, `intex_1` is set to `count` (the current index), and the loop is exited using `break`.\n",
    "  - If `i` is not equal to `x`, the `else` block increments `count` by 1, moving to the next index in the list.\n",
    "\n",
    "**Returning the Result**\n",
    "```python\n",
    "    if intex_1 != 0:\n",
    "        return intex_1\n",
    "    else:\n",
    "        return \"No value\"\n",
    "```\n",
    "- After the loop completes, the function checks if `intex_1` is not equal to `0`.\n",
    "  - If `intex_1` is not `0`, it returns `intex_1`, which is the index of `x` in the list `y`.\n",
    "  - If `intex_1` is still `0`, it means `x` was not found in the list, so the function returns the string `\"No value\"`.\n",
    "  ___"
   ]
  },
  {
   "cell_type": "code",
   "execution_count": 36,
   "metadata": {},
   "outputs": [
    {
     "data": {
      "text/plain": [
       "44"
      ]
     },
     "execution_count": 36,
     "metadata": {},
     "output_type": "execute_result"
    }
   ],
   "source": [
    "def add(a,b,c):\n",
    "  return a+b+c\n",
    "\n",
    "add(12,1,31)"
   ]
  },
  {
   "cell_type": "code",
   "execution_count": 37,
   "metadata": {},
   "outputs": [
    {
     "data": {
      "text/plain": [
       "224"
      ]
     },
     "execution_count": 37,
     "metadata": {},
     "output_type": "execute_result"
    }
   ],
   "source": [
    "add(200,21,3)"
   ]
  },
  {
   "cell_type": "markdown",
   "metadata": {},
   "source": [
    "___\n",
    "\n",
    "### Date Time:\n",
    "\n",
    "**Link : https://pypi.org/project/DateTime/**"
   ]
  },
  {
   "cell_type": "code",
   "execution_count": 41,
   "metadata": {},
   "outputs": [
    {
     "name": "stdout",
     "output_type": "stream",
     "text": [
      "2024-08-19 11:16:37.653013\n"
     ]
    }
   ],
   "source": [
    "import datetime\n",
    "\n",
    "print(datetime.datetime.now())"
   ]
  },
  {
   "cell_type": "code",
   "execution_count": 42,
   "metadata": {},
   "outputs": [
    {
     "name": "stdout",
     "output_type": "stream",
     "text": [
      "10\n"
     ]
    }
   ],
   "source": [
    "import datetime\n",
    "\n",
    "print(datetime.datetime.now().hour)"
   ]
  },
  {
   "cell_type": "code",
   "execution_count": 49,
   "metadata": {},
   "outputs": [
    {
     "name": "stdout",
     "output_type": "stream",
     "text": [
      "['MAXYEAR', 'MINYEAR', 'UTC', '__all__', '__builtins__', '__cached__', '__doc__', '__file__', '__loader__', '__name__', '__package__', '__spec__', 'date', 'datetime', 'datetime_CAPI', 'time', 'timedelta', 'timezone', 'tzinfo']\n"
     ]
    }
   ],
   "source": [
    "print(dir(datetime))"
   ]
  },
  {
   "cell_type": "code",
   "execution_count": 53,
   "metadata": {},
   "outputs": [
    {
     "name": "stdout",
     "output_type": "stream",
     "text": [
      "2024-08-20 11:15:44.415124\n"
     ]
    }
   ],
   "source": [
    "time=datetime.datetime.now()\n",
    "print(time)"
   ]
  },
  {
   "cell_type": "markdown",
   "metadata": {},
   "source": [
    "___"
   ]
  },
  {
   "cell_type": "code",
   "execution_count": 45,
   "metadata": {},
   "outputs": [],
   "source": [
    "def greet(name): # name is argument \n",
    "  import datetime\n",
    "  t=datetime.datetime.now().hour + 5.5\n",
    "  if t<12:\n",
    "    print(\"good morning\",name)\n",
    "  elif t<17:\n",
    "    print(\"good afternoon\",name)\n",
    "  else:\n",
    "    print(\"good evening\",name)\n"
   ]
  },
  {
   "cell_type": "code",
   "execution_count": 46,
   "metadata": {},
   "outputs": [
    {
     "name": "stdout",
     "output_type": "stream",
     "text": [
      "good afternoon Suresh\n"
     ]
    }
   ],
   "source": [
    "greet(\"Suresh\")"
   ]
  },
  {
   "cell_type": "code",
   "execution_count": 47,
   "metadata": {},
   "outputs": [
    {
     "name": "stdout",
     "output_type": "stream",
     "text": [
      "good afternoon skdk\n"
     ]
    }
   ],
   "source": [
    "greet(input(\"enter name\"))"
   ]
  },
  {
   "cell_type": "markdown",
   "metadata": {},
   "source": [
    "___\n",
    "\n",
    "1). Create a package --> using function in new py file \n",
    "``` python\n",
    "def abc(name): # name is argument \n",
    "  import datetime\n",
    "  t=datetime.datetime.now().hour + 5.5\n",
    "  if t<12:\n",
    "    print(\"good morning\",name)\n",
    "  elif t<17:\n",
    "    print(\"good afternoon\",name)\n",
    "  else:\n",
    "    print(\"good evening\",name)\n",
    "```"
   ]
  },
  {
   "cell_type": "code",
   "execution_count": 50,
   "metadata": {},
   "outputs": [
    {
     "name": "stdout",
     "output_type": "stream",
     "text": [
      "good afternoon skdk\n"
     ]
    }
   ],
   "source": [
    "import sk\n",
    "sk.abc(\"skdk\")"
   ]
  },
  {
   "cell_type": "markdown",
   "metadata": {},
   "source": [
    "___"
   ]
  },
  {
   "cell_type": "markdown",
   "metadata": {},
   "source": [
    "### Multiple Arguments "
   ]
  },
  {
   "cell_type": "code",
   "execution_count": 55,
   "metadata": {},
   "outputs": [],
   "source": [
    "def sk(a,b,c,d,e): #a,b,c,d,e is a positional arguments \n",
    "    return(a+b+c*d-e)"
   ]
  },
  {
   "cell_type": "code",
   "execution_count": 56,
   "metadata": {},
   "outputs": [
    {
     "data": {
      "text/plain": [
       "10"
      ]
     },
     "execution_count": 56,
     "metadata": {},
     "output_type": "execute_result"
    }
   ],
   "source": [
    "sk(1,2,3,4,5)"
   ]
  },
  {
   "cell_type": "markdown",
   "metadata": {},
   "source": [
    "### Keyword/ default arguments "
   ]
  },
  {
   "cell_type": "code",
   "execution_count": 59,
   "metadata": {},
   "outputs": [],
   "source": [
    "def sk(a,b,c,d,e,f=10): #f=10 is a keyword/ default arguments \n",
    "    return(a+b+c*d-e*f)"
   ]
  },
  {
   "cell_type": "markdown",
   "metadata": {},
   "source": [
    "****Note: positional arguments will come befor keyword/default arguments** "
   ]
  },
  {
   "cell_type": "code",
   "execution_count": 58,
   "metadata": {},
   "outputs": [
    {
     "data": {
      "text/plain": [
       "-35"
      ]
     },
     "execution_count": 58,
     "metadata": {},
     "output_type": "execute_result"
    }
   ],
   "source": [
    "sk(1,2,3,4,5)"
   ]
  },
  {
   "cell_type": "markdown",
   "metadata": {},
   "source": [
    "### using * "
   ]
  },
  {
   "cell_type": "code",
   "execution_count": 60,
   "metadata": {},
   "outputs": [],
   "source": [
    "# (*a) is used to accept a variable number of arguments. The * before a means that a will be treated as a tuple containing all the arguments passed to the function.\n",
    "#def is the keyword to define a function in Python.\n",
    "#summation is the name of the function.\n",
    "\n",
    "\n",
    "def summation(*a): \n",
    "    print(a)\n",
    "    sum=0\n",
    "    for i in a:\n",
    "        if type(i)==int:\n",
    "            sum=sum+i\n",
    "    return sum"
   ]
  },
  {
   "cell_type": "code",
   "execution_count": 61,
   "metadata": {},
   "outputs": [
    {
     "name": "stdout",
     "output_type": "stream",
     "text": [
      "(1, 2, 3, 4, 5, 6, 7, 8)\n"
     ]
    },
    {
     "data": {
      "text/plain": [
       "36"
      ]
     },
     "execution_count": 61,
     "metadata": {},
     "output_type": "execute_result"
    }
   ],
   "source": [
    "summation(1,2,3,4,5,6,7,8)"
   ]
  },
  {
   "cell_type": "code",
   "execution_count": 63,
   "metadata": {},
   "outputs": [
    {
     "name": "stdout",
     "output_type": "stream",
     "text": [
      "(1, 2, '3', 4, '5', 6, 7, 8)\n"
     ]
    },
    {
     "data": {
      "text/plain": [
       "28"
      ]
     },
     "execution_count": 63,
     "metadata": {},
     "output_type": "execute_result"
    }
   ],
   "source": [
    "summation(1,2,\"3\",4,\"5\",6,7,8)"
   ]
  },
  {
   "cell_type": "markdown",
   "metadata": {},
   "source": [
    "___"
   ]
  },
  {
   "cell_type": "code",
   "execution_count": 73,
   "metadata": {},
   "outputs": [],
   "source": [
    "def addition(*a): \n",
    "    print(a)\n",
    "    sum = 0\n",
    "    for i in a:\n",
    "        if type(i) == int:\n",
    "            sum=sum+i\n",
    "        else:\n",
    "            continue\n",
    "            \n",
    "    return sum\n"
   ]
  },
  {
   "cell_type": "code",
   "execution_count": 74,
   "metadata": {},
   "outputs": [
    {
     "name": "stdout",
     "output_type": "stream",
     "text": [
      "('hello', 'world', 123, 'Python', True, 'OpenAI', 23, 1)\n",
      "147\n"
     ]
    }
   ],
   "source": [
    "result = summation(\"hello\", \"world\", 123, \"Python\", True, \"OpenAI\",23,1)\n",
    "print(result)\n"
   ]
  },
  {
   "cell_type": "markdown",
   "metadata": {},
   "source": [
    "---"
   ]
  },
  {
   "cell_type": "code",
   "execution_count": 83,
   "metadata": {},
   "outputs": [],
   "source": [
    "def summation(*a):\n",
    "   print(a)\n",
    "   sum=0\n",
    "   for i in a:\n",
    "       if type(i)==int:\n",
    "           sum=sum+i\n",
    "       else:\n",
    "           continue\n",
    "   return sum"
   ]
  },
  {
   "cell_type": "code",
   "execution_count": 84,
   "metadata": {},
   "outputs": [
    {
     "name": "stdout",
     "output_type": "stream",
     "text": [
      "('hello', '1', 2, 3)\n"
     ]
    },
    {
     "data": {
      "text/plain": [
       "5"
      ]
     },
     "execution_count": 84,
     "metadata": {},
     "output_type": "execute_result"
    }
   ],
   "source": [
    "summation(\"hello\",\"1\",2,3)"
   ]
  },
  {
   "cell_type": "markdown",
   "metadata": {},
   "source": [
    "____\n",
    "\n",
    "## String and String Methods:\n",
    "\n",
    "    'capitalize', 'casefold', 'center', 'count', 'encode', 'endswith', 'expandtabs', 'find', 'format', 'format_map', 'index', 'isalnum', 'isalpha', 'isascii', 'isdecimal', 'isdigit', 'isidentifier', 'islower', 'isnumeric', 'isprintable', 'isspace', 'istitle', 'isupper', 'join', 'ljust', 'lower', 'lstrip', 'maketrans', 'partition', 'removeprefix', 'removesuffix', 'replace', 'rfind', 'rindex', 'rjust', 'rpartition', 'rsplit', 'rstrip', 'split', 'splitlines', 'startswith', 'strip', 'swapcase', 'title', 'translate', 'upper', 'zfill'"
   ]
  },
  {
   "cell_type": "code",
   "execution_count": 87,
   "metadata": {},
   "outputs": [
    {
     "name": "stdout",
     "output_type": "stream",
     "text": [
      "INNAIKU TUESDAY\n",
      "innaiku tuesday\n",
      "Innaiku tuesday\n",
      "Innaiku Tuesday\n",
      "iNNAIKU tUESDAY\n"
     ]
    }
   ],
   "source": [
    "a=\"Innaiku Tuesday\"\n",
    "print(a.upper())\n",
    "print(a.lower())\n",
    "print(a.capitalize())\n",
    "print(a.title())\n",
    "print(a.swapcase())"
   ]
  },
  {
   "cell_type": "code",
   "execution_count": 89,
   "metadata": {},
   "outputs": [
    {
     "name": "stdout",
     "output_type": "stream",
     "text": [
      "2\n",
      "3\n",
      "3\n",
      "-1\n"
     ]
    }
   ],
   "source": [
    "print(a.count(\"a\"))\n",
    "print(a.index(\"a\")) #shows first a's index \n",
    "print(a.find(\"a\")) #shows first a's index \n",
    "print(a.find(\"abc\")) # if no abc it shows -1"
   ]
  },
  {
   "cell_type": "code",
   "execution_count": 91,
   "metadata": {},
   "outputs": [
    {
     "name": "stdout",
     "output_type": "stream",
     "text": [
      "False\n",
      "False\n",
      "False\n",
      "True\n",
      "False\n",
      "False\n",
      "False\n",
      "True\n",
      "False\n",
      "nirmal 213 !@#\n",
      "abc 213 !@#\n"
     ]
    }
   ],
   "source": [
    "b=\"abc 213 !@#\"\n",
    "print(b.isalnum())\n",
    "print(b.isalpha())\n",
    "print(b.isdigit())\n",
    "print(b.islower())\n",
    "print(b.isupper())\n",
    "print(b.isspace())\n",
    "print(b.istitle())\n",
    "print(b.startswith(\"a\"))\n",
    "print(b.endswith(\"213\"))\n",
    "c=b.replace(\"abc\",\"nirmal\")\n",
    "print(c)\n",
    "print(b)"
   ]
  },
  {
   "cell_type": "code",
   "execution_count": 98,
   "metadata": {},
   "outputs": [
    {
     "name": "stdout",
     "output_type": "stream",
     "text": [
      "True\n",
      "True\n"
     ]
    }
   ],
   "source": [
    "b=\"Aabc213\"\n",
    "print(b.isalnum())\n",
    "print(b.istitle())\n"
   ]
  },
  {
   "cell_type": "code",
   "execution_count": 99,
   "metadata": {},
   "outputs": [
    {
     "data": {
      "text/plain": [
       "7"
      ]
     },
     "execution_count": 99,
     "metadata": {},
     "output_type": "execute_result"
    }
   ],
   "source": [
    "len(b)"
   ]
  },
  {
   "cell_type": "code",
   "execution_count": 103,
   "metadata": {},
   "outputs": [
    {
     "name": "stdout",
     "output_type": "stream",
     "text": [
      "True\n"
     ]
    }
   ],
   "source": [
    "b=\"      \"\n",
    "print(b.isspace())"
   ]
  },
  {
   "cell_type": "code",
   "execution_count": 112,
   "metadata": {},
   "outputs": [
    {
     "name": "stdout",
     "output_type": "stream",
     "text": [
      "['today', 'is', 'always', 'best', 'to', 'start']\n",
      "['tod', 'y is ', 'lw', 'ys best to st', 'rt']\n",
      "['tod', 'y is ', 'lw', 'ys best to st', 'rt']\n",
      "today is always best to start\n"
     ]
    }
   ],
   "source": [
    "a=\"today is always best to start\"\n",
    "print(a.split())\n",
    "print(a.split(\"a\"))\n",
    "b=a.split(\"a\")\n",
    "print(b)\n",
    "print(\"a\".join(b))"
   ]
  },
  {
   "cell_type": "code",
   "execution_count": 118,
   "metadata": {},
   "outputs": [
    {
     "data": {
      "text/plain": [
       "' ddddddddddede.  ded'"
      ]
     },
     "execution_count": 118,
     "metadata": {},
     "output_type": "execute_result"
    }
   ],
   "source": [
    "c=\" ddddddddddede.  ded\"\n",
    "c.strip(\"ded\") # remove corner characters\n",
    "c.rstrip(\"d\") # remove right side characters\n",
    "c.lstrip(\"d\") # remove left side characters"
   ]
  },
  {
   "cell_type": "code",
   "execution_count": 121,
   "metadata": {},
   "outputs": [
    {
     "data": {
      "text/plain": [
       "'ddddddddddede.  ded'"
      ]
     },
     "execution_count": 121,
     "metadata": {},
     "output_type": "execute_result"
    }
   ],
   "source": [
    "c=\" 12eddddddddddede.  ded\"\n",
    "c.strip(\" 12e\") # remove corner characters"
   ]
  },
  {
   "cell_type": "code",
   "execution_count": 125,
   "metadata": {},
   "outputs": [
    {
     "name": "stdout",
     "output_type": "stream",
     "text": [
      "97\n",
      "a\n"
     ]
    }
   ],
   "source": [
    "print(ord(\"a\")) # returns ascii value\n",
    "print(chr(97)) # returns character"
   ]
  },
  {
   "cell_type": "markdown",
   "metadata": {},
   "source": [
    "## Querry check : 2.21\n"
   ]
  },
  {
   "cell_type": "code",
   "execution_count": 140,
   "metadata": {},
   "outputs": [
    {
     "name": "stdout",
     "output_type": "stream",
     "text": [
      "00\n",
      "01\n",
      "02\n",
      "03\n",
      "04\n",
      "05\n",
      "06\n",
      "07\n",
      "08\n",
      "09\n",
      "10\n",
      "11\n",
      "12\n",
      "13\n",
      "14\n",
      "15\n",
      "16\n",
      "17\n",
      "18\n",
      "19\n",
      "20\n",
      "21\n",
      "22\n",
      "23\n",
      "24\n",
      "25\n",
      "26\n",
      "27\n",
      "28\n",
      "29\n",
      "30\n"
     ]
    }
   ],
   "source": [
    "for x in range (0,10):\n",
    "    for y in range(0,10):\n",
    "        print(str(x)+str(y))\n",
    "        if str(x)+str(y) ==\"30\":\n",
    "            break\n",
    "    if str(x)+str(y) ==\"30\":\n",
    "        break\n",
    "# please check with python visualizor \n"
   ]
  },
  {
   "cell_type": "code",
   "execution_count": 141,
   "metadata": {},
   "outputs": [
    {
     "name": "stdout",
     "output_type": "stream",
     "text": [
      "suresh kumar\n",
      "Dharani suresh\n",
      "nirmal nethaji\n"
     ]
    }
   ],
   "source": [
    "a=0\n",
    "for i in [\"suresh\",\"Dharani\",\"nirmal\"]:\n",
    "    b=[]\n",
    "    for j in [\"kumar\",\"suresh\",\"nethaji\"]:\n",
    "        b.append(j)\n",
    "    print(i,b[a])\n",
    "    a+=1"
   ]
  },
  {
   "cell_type": "code",
   "execution_count": 142,
   "metadata": {},
   "outputs": [
    {
     "name": "stdout",
     "output_type": "stream",
     "text": [
      "Rajini Kanth\n",
      "Kamal Hasan\n",
      "Alia Bhatt\n"
     ]
    }
   ],
   "source": [
    "a=[\"Rajini\",\"Kamal\",\"Alia\"]\n",
    "b=[\"Kanth\",\"Hasan\",\"Bhatt\"]\n",
    "for i in range(0,3):\n",
    "    print(a[i],b[i])"
   ]
  },
  {
   "cell_type": "markdown",
   "metadata": {},
   "source": [
    "___"
   ]
  },
  {
   "cell_type": "markdown",
   "metadata": {},
   "source": [
    "# Day 6\n",
    "\n",
    "Link : https://us06web.zoom.us/rec/play/KjKG5mif8Ouvi00MrDRJLejWhzsyv_96AHdWvasN56Xs0VryzEABZoacj7CiwG_EhTSKSczgXAXJHCjH.t1cUD6l9DtOiunOg?canPlayFromShare=true&from=share_recording_detail&continueMode=true&componentName=rec-play&originRequestUrl=https%3A%2F%2Fus06web.zoom.us%2Frec%2Fshare%2FNllFUKs1-m4g3-BwmI4awShxot-WKt9fv8py2AC-fgIWxfkCFmZTC3AAGuYjxNnc.FYH0mePaU3f8NRdF"
   ]
  },
  {
   "cell_type": "markdown",
   "metadata": {},
   "source": [
    "## Gradio\n",
    "\n",
    "    pip install gradio\n",
    "\n",
    "**Gradio is an open-source Python library that allows you to create user interfaces (UIs) for machine learning models, data science workflows, or any Python function. It’s particularly useful for sharing models and apps with others quickly. You can build interactive demos, share them via a unique link, and even embed them in your own website.**\n",
    "\n",
    "**Applications:**\n",
    "\n",
    "**1) Machine Learning Models:** Gradio is often used to create quick interfaces for ML models, allowing users to test the models with various inputs.\n",
    "\n",
    "**2) Data Science:** It’s also used to visualize data or create interactive plots.\n",
    "\n",
    "**3) Educational Purposes**: Educators use Gradio to create interactive examples for students.\n",
    "\n",
    "**Gradio simplifies the process of creating interactive UIs for Python functions, making it a valuable tool for data scientists, machine learning engineers, and developers.**"
   ]
  },
  {
   "cell_type": "code",
   "execution_count": 2,
   "metadata": {},
   "outputs": [
    {
     "name": "stdout",
     "output_type": "stream",
     "text": [
      "Running on local URL:  http://127.0.0.1:7860\n",
      "\n",
      "To create a public link, set `share=True` in `launch()`.\n"
     ]
    },
    {
     "data": {
      "text/html": [
       "<div><iframe src=\"http://127.0.0.1:7860/\" width=\"100%\" height=\"500\" allow=\"autoplay; camera; microphone; clipboard-read; clipboard-write;\" frameborder=\"0\" allowfullscreen></iframe></div>"
      ],
      "text/plain": [
       "<IPython.core.display.HTML object>"
      ]
     },
     "metadata": {},
     "output_type": "display_data"
    }
   ],
   "source": [
    "import gradio as gr\n",
    "\n",
    "def greet(name):\n",
    "    return \"Hello \" + name + \"!\"\n",
    "\n",
    "demo = gr.Interface(fn=greet, inputs=\"textbox\", outputs=\"textbox\")\n",
    "\n",
    "if __name__ == \"__main__\":\n",
    "    demo.launch()\n"
   ]
  },
  {
   "cell_type": "code",
   "execution_count": 1,
   "metadata": {},
   "outputs": [
    {
     "name": "stdout",
     "output_type": "stream",
     "text": [
      "Running on local URL:  http://127.0.0.1:7860\n",
      "\n",
      "To create a public link, set `share=True` in `launch()`.\n"
     ]
    },
    {
     "data": {
      "text/html": [
       "<div><iframe src=\"http://127.0.0.1:7860/\" width=\"100%\" height=\"500\" allow=\"autoplay; camera; microphone; clipboard-read; clipboard-write;\" frameborder=\"0\" allowfullscreen></iframe></div>"
      ],
      "text/plain": [
       "<IPython.core.display.HTML object>"
      ]
     },
     "metadata": {},
     "output_type": "display_data"
    },
    {
     "data": {
      "text/plain": []
     },
     "execution_count": 1,
     "metadata": {},
     "output_type": "execute_result"
    }
   ],
   "source": [
    "import gradio as gr\n",
    "\n",
    "def add_numbers(a, b):\n",
    "    return a + b\n",
    "\n",
    "iface = gr.Interface(fn=add_numbers, inputs=[\"number\", \"number\"], outputs=\"number\")\n",
    "iface.launch()\n"
   ]
  },
  {
   "cell_type": "markdown",
   "metadata": {},
   "source": [
    "___"
   ]
  },
  {
   "cell_type": "markdown",
   "metadata": {},
   "source": [
    "## Keyword arguments: "
   ]
  },
  {
   "cell_type": "code",
   "execution_count": 8,
   "metadata": {},
   "outputs": [
    {
     "name": "stdout",
     "output_type": "stream",
     "text": [
      "{'name': 'nirmal', 'age': 100, 'state': 'tamilnadu'}\n"
     ]
    }
   ],
   "source": [
    "def guvi(**a):\n",
    "  print(a)\n",
    "\n",
    "guvi(name=\"nirmal\",age=100,state=\"tamilnadu\")  # its a keyword and argument (name :\"nirmal\",age:100,state:\"tamilnadu\")"
   ]
  },
  {
   "cell_type": "markdown",
   "metadata": {},
   "source": [
    "### Arbitrary:\n",
    "\n",
    "In Python, the term \"arbitrary\" generally refers to something that is not fixed or predetermined, allowing for flexibility or variability. This concept can apply to several contexts in Python programming:\n",
    "\n",
    "#### 1. **Arbitrary Arguments**:\n",
    "   - Python allows functions to accept an arbitrary number of arguments. This means that the number of arguments passed to the function can vary. \n",
    "   - Two common ways to handle arbitrary arguments are:\n",
    "\n",
    "     **a. Arbitrary Positional Arguments (`*args`):**\n",
    "     - This allows a function to accept any number of positional arguments, which are passed as a tuple.\n",
    "     - Example:\n",
    "       ```python\n",
    "       def greet(*names):\n",
    "           for name in names:\n",
    "               print(\"Hello\", name)\n",
    "\n",
    "       greet(\"Alice\", \"Bob\", \"Charlie\")\n",
    "       ```\n",
    "       Output:\n",
    "       ```\n",
    "       Hello Alice\n",
    "       Hello Bob\n",
    "       Hello Charlie\n",
    "       ```\n",
    "\n",
    "     **b. Arbitrary Keyword Arguments (`**kwargs`):**\n",
    "     - This allows a function to accept any number of keyword arguments, which are passed as a dictionary.\n",
    "     - Example:\n",
    "       ```python\n",
    "       def print_info(**info):\n",
    "           for key, value in info.items():\n",
    "               print(f\"{key}: {value}\")\n",
    "\n",
    "       print_info(name=\"Alice\", age=30, city=\"New York\")\n",
    "       ```\n",
    "       Output:\n",
    "       ```\n",
    "       name: Alice\n",
    "       age: 30\n",
    "       city: New York\n",
    "       ```\n",
    "\n",
    "#### 2. **Arbitrary Objects or Data Types**:\n",
    "   - The term \"arbitrary\" can also describe a situation where a function or method can handle inputs of any data type or structure. For instance, a function might be designed to work with an arbitrary object, meaning it can accept objects of any class or type.\n",
    "\n",
    "#### 3. **Arbitrary Precision**:\n",
    "   - In Python, integers have arbitrary precision, meaning they can grow as large as the available memory allows. Unlike some other programming languages where integers have fixed sizes (e.g., 32-bit or 64-bit), Python's integers can be of any size.\n",
    "\n",
    "#### 4. **Arbitrary Selection**:\n",
    "   - \"Arbitrary\" can also refer to making an arbitrary choice, like selecting an item from a collection without any particular order or criteria.\n",
    "\n",
    "In all these cases, \"arbitrary\" essentially means that the behavior, type, or quantity is not strictly defined in advance and can vary depending on the situation or input."
   ]
  },
  {
   "cell_type": "markdown",
   "metadata": {},
   "source": [
    "___"
   ]
  },
  {
   "cell_type": "markdown",
   "metadata": {},
   "source": [
    "## Recursive function:\n",
    "\n",
    "A recursive function is one that calls itself in order to solve a problem. It typically includes a base case to prevent infinite recursion.\n",
    "\n",
    "```python\n",
    "def factorial(n):\n",
    "    if n == 1:\n",
    "        return 1\n",
    "    else:\n",
    "        return n * factorial(n - 1)\n",
    "\n",
    "result = factorial(5)  # Output: 120\n",
    "```"
   ]
  },
  {
   "cell_type": "code",
   "execution_count": 10,
   "metadata": {},
   "outputs": [
    {
     "data": {
      "text/plain": [
       "120"
      ]
     },
     "execution_count": 10,
     "metadata": {},
     "output_type": "execute_result"
    }
   ],
   "source": [
    "def factorial(n):\n",
    "  if n==1:\n",
    "    return 1\n",
    "  else:\n",
    "    return n*factorial(n-1)\n",
    "\n",
    "\n",
    "factorial(5)"
   ]
  },
  {
   "cell_type": "markdown",
   "metadata": {},
   "source": [
    "## Higher order function: \n",
    "\n",
    "Higher-order functions are functions that take other functions as arguments, return a function, or both. Examples include map(), filter(), and reduce().\n",
    "\n",
    "```python\n",
    "\n",
    "def add_one(x):\n",
    "    return x + 1\n",
    "\n",
    "numbers = [1, 2, 3]\n",
    "result = list(map(add_one, numbers))  # Output: [2, 3, 4]\n",
    "```"
   ]
  },
  {
   "cell_type": "code",
   "execution_count": 41,
   "metadata": {},
   "outputs": [
    {
     "data": {
      "text/plain": [
       "[2, 3, 4]"
      ]
     },
     "execution_count": 41,
     "metadata": {},
     "output_type": "execute_result"
    }
   ],
   "source": [
    "def add_one(x): #This defines a function named add_one that takes one argument x.\n",
    "    return x + 1\n",
    "\n",
    "numbers = [1, 2, 3]\n",
    "result = list(map(add_one, numbers))\n",
    "\n",
    "result"
   ]
  },
  {
   "cell_type": "markdown",
   "metadata": {},
   "source": [
    "Using map():\n",
    "\n",
    "1. The map() function applies the add_one function to each element of the numbers list.\n",
    "2. map() returns an iterator (a map object) that produces the results one by one.\n",
    "Wrapping map() with list() converts the map object into a list containing the results of applying add_one to each element of numbers.\n",
    "___"
   ]
  },
  {
   "cell_type": "markdown",
   "metadata": {},
   "source": [
    "___"
   ]
  },
  {
   "cell_type": "code",
   "execution_count": 38,
   "metadata": {},
   "outputs": [],
   "source": [
    "def add(a,b):\n",
    "  return a+b\n",
    "\n",
    "def sub(a,b):\n",
    "  return a-b\n",
    "\n",
    "def mul(a,b):\n",
    "  return a*b\n",
    "\n",
    "def div(a,b):\n",
    "  return a/b\n",
    "\n",
    "def chumma(a,b,func): # gets two arguments(a,b) and one function(func:add,sub)\n",
    "  return func(a,b)"
   ]
  },
  {
   "cell_type": "code",
   "execution_count": 30,
   "metadata": {},
   "outputs": [
    {
     "data": {
      "text/plain": [
       "30"
      ]
     },
     "execution_count": 30,
     "metadata": {},
     "output_type": "execute_result"
    }
   ],
   "source": [
    "chumma(10,20,add)"
   ]
  },
  {
   "cell_type": "code",
   "execution_count": 31,
   "metadata": {},
   "outputs": [
    {
     "data": {
      "text/plain": [
       "-10"
      ]
     },
     "execution_count": 31,
     "metadata": {},
     "output_type": "execute_result"
    }
   ],
   "source": [
    "chumma(10,20,sub)"
   ]
  },
  {
   "cell_type": "code",
   "execution_count": 32,
   "metadata": {},
   "outputs": [
    {
     "data": {
      "text/plain": [
       "200"
      ]
     },
     "execution_count": 32,
     "metadata": {},
     "output_type": "execute_result"
    }
   ],
   "source": [
    "chumma(10,20,mul)"
   ]
  },
  {
   "cell_type": "code",
   "execution_count": 33,
   "metadata": {},
   "outputs": [
    {
     "data": {
      "text/plain": [
       "0.5"
      ]
     },
     "execution_count": 33,
     "metadata": {},
     "output_type": "execute_result"
    }
   ],
   "source": [
    "chumma(10,20,div)"
   ]
  },
  {
   "cell_type": "markdown",
   "metadata": {},
   "source": [
    "___"
   ]
  },
  {
   "cell_type": "markdown",
   "metadata": {},
   "source": [
    "## Scope and lifetime of variables:\n",
    "\n",
    "**Scope of Variables in Python**:\n",
    "\n",
    "Scope refers to the region of the code where a variable is accessible or can be used. In Python, the scope of a variable is determined by where it is defined.\n",
    "1. Local Scope\n",
    "2. Global Scope\n",
    "3. Built-in Scope\n",
    "\n",
    "**Lifetime of Variables in Python**:\n",
    "\n",
    "Lifetime of a variable refers to the duration for which the variable exists in memory during the execution of the program.\n",
    "1. Local Variables\n",
    "2. Global Variables\n",
    "3. Built-in Variables"
   ]
  },
  {
   "cell_type": "code",
   "execution_count": 7,
   "metadata": {},
   "outputs": [
    {
     "name": "stdout",
     "output_type": "stream",
     "text": [
      "30\n",
      "10\n"
     ]
    }
   ],
   "source": [
    "a=10\n",
    "\n",
    "def abc():\n",
    "  a=20\n",
    "  print(a+10) # prints local variable a=20\n",
    "\n",
    "abc()# prints local variable a=20, we call abc function and it prints \n",
    "print(a) # prints global variable a=10"
   ]
  },
  {
   "cell_type": "code",
   "execution_count": 48,
   "metadata": {},
   "outputs": [
    {
     "name": "stdout",
     "output_type": "stream",
     "text": [
      "20\n"
     ]
    }
   ],
   "source": [
    "abc()"
   ]
  },
  {
   "cell_type": "markdown",
   "metadata": {},
   "source": [
    "___"
   ]
  },
  {
   "cell_type": "code",
   "execution_count": 55,
   "metadata": {},
   "outputs": [
    {
     "ename": "UnboundLocalError",
     "evalue": "cannot access local variable 'a' where it is not associated with a value",
     "output_type": "error",
     "traceback": [
      "\u001b[1;31m---------------------------------------------------------------------------\u001b[0m",
      "\u001b[1;31mUnboundLocalError\u001b[0m                         Traceback (most recent call last)",
      "Cell \u001b[1;32mIn[55], line 7\u001b[0m\n\u001b[0;32m      4\u001b[0m   a\u001b[38;5;241m=\u001b[39m\u001b[38;5;241m20\u001b[39m\u001b[38;5;241m+\u001b[39ma\n\u001b[0;32m      5\u001b[0m   \u001b[38;5;28mprint\u001b[39m(a) \n\u001b[1;32m----> 7\u001b[0m \u001b[43mabc\u001b[49m\u001b[43m(\u001b[49m\u001b[43m)\u001b[49m\n\u001b[0;32m      8\u001b[0m \u001b[38;5;28mprint\u001b[39m(a)\n",
      "Cell \u001b[1;32mIn[55], line 4\u001b[0m, in \u001b[0;36mabc\u001b[1;34m()\u001b[0m\n\u001b[0;32m      3\u001b[0m \u001b[38;5;28;01mdef\u001b[39;00m \u001b[38;5;21mabc\u001b[39m():\n\u001b[1;32m----> 4\u001b[0m   a\u001b[38;5;241m=\u001b[39m\u001b[38;5;241m20\u001b[39m\u001b[38;5;241m+\u001b[39m\u001b[43ma\u001b[49m\n\u001b[0;32m      5\u001b[0m   \u001b[38;5;28mprint\u001b[39m(a)\n",
      "\u001b[1;31mUnboundLocalError\u001b[0m: cannot access local variable 'a' where it is not associated with a value"
     ]
    }
   ],
   "source": [
    "a=10\n",
    "\n",
    "def abc():\n",
    "  a=20+a\n",
    "  print(a) \n",
    "\n",
    "abc()\n",
    "print(a)"
   ]
  },
  {
   "cell_type": "markdown",
   "metadata": {},
   "source": [
    "***The above program has an error as the variable a is not defined in the global scope. in order to use the variable a in the function abc() we need to define it in the global scope.***"
   ]
  },
  {
   "cell_type": "code",
   "execution_count": 57,
   "metadata": {},
   "outputs": [
    {
     "name": "stdout",
     "output_type": "stream",
     "text": [
      "30\n",
      "30\n"
     ]
    }
   ],
   "source": [
    "a=10\n",
    "\n",
    "def abc():\n",
    "  global a # # defining that a=10 is global variable\n",
    "  a=20+a\n",
    "  print(a) \n",
    "\n",
    "abc()\n",
    "print(a)"
   ]
  },
  {
   "cell_type": "code",
   "execution_count": 65,
   "metadata": {},
   "outputs": [
    {
     "name": "stdout",
     "output_type": "stream",
     "text": [
      "10\n",
      "30 21\n",
      "30\n"
     ]
    }
   ],
   "source": [
    "a=10\n",
    "\n",
    "def abc():\n",
    "  global a # defining that a=10 is global variable\n",
    "  a=20+a\n",
    "  b=21\n",
    "  print(a,b)\n",
    "  \n",
    "\n",
    "print(a) # prints global variable a=10\n",
    "abc() # prints local variable a=30\n",
    "print(a) # prints global variable a=30 since the a = 20+a , ie a=30"
   ]
  },
  {
   "cell_type": "markdown",
   "metadata": {},
   "source": [
    "___"
   ]
  },
  {
   "cell_type": "markdown",
   "metadata": {},
   "source": [
    "## Classes and Objects: 1:29:24"
   ]
  },
  {
   "cell_type": "markdown",
   "metadata": {},
   "source": [
    "In Python, classes and objects are fundamental concepts in object-oriented programming (OOP). Here's a brief overview:\n",
    "\n",
    "**Class**\n",
    "\n",
    "A class is a blueprint for creating objects. It defines a set of attributes and methods that the created objects will have. Essentially, it’s a way to bundle data and functionality together.\n",
    "\n",
    "**Example:**\n",
    "\n",
    "```python\n",
    "class Dog:\n",
    "    def __init__(self, name, age):\n",
    "        self.name = name\n",
    "        self.age = age\n",
    "\n",
    "    def bark(self):\n",
    "        return \"Woof!\"\n",
    "```\n",
    "\n",
    "In this example:\n",
    "- `Dog` is a class.\n",
    "- `__init__` is a special method called a constructor that initializes new instances of the class.\n",
    "- `self` refers to the instance of the class itself. It’s used to access attributes and methods of the class.\n",
    "- `name` and `age` are attributes.\n",
    "- `bark` is a method.\n",
    "\n",
    "**Object**\n",
    "\n",
    "An object is an instance of a class. When you create an object, you are instantiating the class and creating a specific example of it.\n",
    "\n",
    "**Example:**\n",
    "\n",
    "```python\n",
    "my_dog = Dog(name=\"Buddy\", age=3)\n",
    "print(my_dog.name)  # Outputs: Buddy\n",
    "print(my_dog.bark())  # Outputs: Woof!\n",
    "```\n",
    "\n",
    "In this example:\n",
    "- `my_dog` is an object of the `Dog` class.\n",
    "- It has the attributes `name` and `age` set to \"Buddy\" and 3, respectively.\n",
    "- You can call the `bark` method on `my_dog` to get the output \"Woof!\".\n",
    "\n",
    "In summary, classes define the structure and behavior, while objects are the instances of classes with specific data."
   ]
  },
  {
   "cell_type": "markdown",
   "metadata": {},
   "source": [
    "### What is oops concept :\n",
    "\n",
    "OOP, or Object-Oriented Programming, is a programming paradigm based on the concept of \"objects\" that contain data in the form of fields (often known as attributes or properties) and code in the form of procedures (often known as methods or functions). OOP is fundamental in many programming languages, such as Java, C++, Python, and C#. The primary concepts of OOP are:\n",
    "\n",
    "1. **Class**:\n",
    "   - A class is a blueprint for creating objects. It defines a set of attributes and methods that the objects created from the class will have.\n",
    "   - Example: A class `Car` may have attributes like `color`, `model`, and `year` and methods like `start()` and `stop()`.\n",
    "\n",
    "2. **Object**:\n",
    "   - An object is an instance of a class. When a class is defined, no memory is allocated until an object of that class is created.\n",
    "   - Example: `myCar` can be an object of the class `Car` with specific values for `color`, `model`, and `year`.\n",
    "\n",
    "3. **Encapsulation**:\n",
    "   - Encapsulation refers to the bundling of data (attributes) and methods (functions) that operate on the data into a single unit or class, restricting access to some of the object's components.\n",
    "   - This is often achieved using access modifiers like `private`, `protected`, and `public` to control access to the attributes and methods.\n",
    "   - Example: In the `Car` class, the attribute `engineNumber` can be kept private so that it cannot be modified directly.\n",
    "\n",
    "4. **Inheritance**:\n",
    "   - Inheritance is a mechanism by which one class (child or derived class) can inherit properties and behaviors (attributes and methods) from another class (parent or base class).\n",
    "   - This promotes code reusability.\n",
    "   - Example: A class `ElectricCar` can inherit from the `Car` class and have additional attributes like `batteryCapacity`.\n",
    "\n",
    "5. **Polymorphism**:\n",
    "   - Polymorphism allows methods to do different things based on the object it is acting upon, even though they share the same name.\n",
    "   - This can be achieved through method overriding (inherited class overrides a method from the parent class) or method overloading (multiple methods with the same name but different parameters).\n",
    "   - Example: The method `start()` in `Car` may work differently in `ElectricCar`.\n",
    "\n",
    "6. **Abstraction**:\n",
    "   - Abstraction involves hiding complex implementation details and showing only the essential features of an object.\n",
    "   - This simplifies the interaction with the object and reduces complexity.\n",
    "   - Example: When using a `Car` object, the driver doesn't need to know how the engine works internally; they just need to know how to start the car.\n",
    "\n",
    "These concepts work together to make OOP a powerful way to structure and manage code, making it more modular, reusable, and easier to maintain."
   ]
  },
  {
   "cell_type": "markdown",
   "metadata": {},
   "source": [
    "### what is an object in oops\n",
    "\n",
    "An object in OOP is an instance of a class that encapsulates both data (attributes) and behavior (methods). It represents a real-world entity, allowing you to model and manipulate data in a structured and meaningful way within a program.\n",
    "\n",
    "In Object-Oriented Programming (OOP), an **object** is a fundamental unit that represents an instance of a class. An object combines data and behavior in a single entity. Here's a more detailed breakdown:\n",
    "\n",
    "***Key Characteristics of an Object:***\n",
    "\n",
    "1. **Instance of a Class**:\n",
    "   - An object is created based on a class, which acts as a blueprint. The class defines the structure and behavior (i.e., attributes and methods) that the object will have.\n",
    "   - Example: If you have a class `Car`, an object `myCar` created from this class might have specific attributes like `color: red`, `model: Tesla Model 3`, and `year: 2023`.\n",
    "\n",
    "2. **Attributes (State)**:\n",
    "   - These are the data or properties that describe the object. The attributes are defined by the variables in the class.\n",
    "   - Example: For the `myCar` object, attributes could include `color`, `model`, and `year`.\n",
    "\n",
    "3. **Methods (Behavior)**:\n",
    "   - These are the functions or operations that the object can perform, as defined by the methods in the class.\n",
    "   - Example: The `myCar` object might have methods like `start()`, `accelerate()`, and `brake()`.\n",
    "\n",
    "4. **Identity**:\n",
    "   - Each object has a unique identity, meaning that even if two objects have the same state (same attribute values), they are considered distinct entities.\n",
    "   - Example: If you have two objects `myCar` and `yourCar`, both created from the `Car` class with identical attributes, they are still two separate objects with distinct identities."
   ]
  },
  {
   "cell_type": "markdown",
   "metadata": {},
   "source": [
    "### My Notes about class and objects:\n",
    "\n",
    "1. **Funtions**: collect many codes and put it in together is function\n",
    "\n",
    "2. **Class**:\n",
    "- collects many function and put it together is class  and we call them ***methods***. \n",
    "- The reason we call it as method because between two functions you cannot share variables/ objects but in methonds you can share the datas."
   ]
  },
  {
   "cell_type": "markdown",
   "metadata": {},
   "source": [
    "usually class is called as blue print:\n",
    "\n",
    "    ex: consider a gated community - here we use one plan for all the houses. plan will considered as objects\n",
    "    Car game : one code for all the cars to select the best car.here the code is called as object. Object is nothing but a memory in computer."
   ]
  },
  {
   "cell_type": "code",
   "execution_count": 1,
   "metadata": {},
   "outputs": [],
   "source": [
    "class naan(): #naan is a class name \n",
    "    x=\"Suresh\"  # its just a variable\n",
    "\n",
    "# this area is called class creation"
   ]
  },
  {
   "cell_type": "code",
   "execution_count": 5,
   "metadata": {},
   "outputs": [
    {
     "name": "stdout",
     "output_type": "stream",
     "text": [
      "Suresh\n"
     ]
    }
   ],
   "source": [
    "a=naan()\n",
    "print(a.x)\n",
    "# object creation in python"
   ]
  },
  {
   "cell_type": "markdown",
   "metadata": {},
   "source": [
    "### Class and objects creation: "
   ]
  },
  {
   "cell_type": "code",
   "execution_count": 51,
   "metadata": {},
   "outputs": [],
   "source": [
    "# actual format to create a class.\n",
    " # 1) first method for the class should be init method\n",
    "\n",
    "class bankaccount():\n",
    "    def __init__(self,name,balance): # 2) here we have (3 parameters)--(1st parameter should be self parameter)\n",
    "        self.name=name\n",
    "        self.balance=balance\n",
    "\n",
    "    def deposit(self,amount):\n",
    "        self.balance=self.balance+amount\n",
    "        return self.balance\n",
    "    \n",
    "    def withdraw(self,amount):\n",
    "        self.balance=self.balance-amount\n",
    "        return self.balance\n",
    "    \n",
    "    def getbalance(self):\n",
    "        return self.balance"
   ]
  },
  {
   "cell_type": "code",
   "execution_count": 52,
   "metadata": {},
   "outputs": [],
   "source": [
    "suresh=bankaccount(\"suresh\",1000)\n",
    "guvi=bankaccount(\"guvi\",2000)\n",
    "dharani=bankaccount(\"dharani\",3000)"
   ]
  },
  {
   "cell_type": "code",
   "execution_count": 53,
   "metadata": {},
   "outputs": [
    {
     "data": {
      "text/plain": [
       "6850"
      ]
     },
     "execution_count": 53,
     "metadata": {},
     "output_type": "execute_result"
    }
   ],
   "source": [
    "suresh.deposit(2000)\n",
    "guvi.deposit(5000)\n",
    "suresh.deposit(2000)\n",
    "guvi.withdraw(150)"
   ]
  },
  {
   "cell_type": "markdown",
   "metadata": {},
   "source": [
    "___"
   ]
  },
  {
   "cell_type": "markdown",
   "metadata": {},
   "source": [
    "## **Superclass and Subclass: A Simplified Explanation :**\n",
    "\n",
    "**Superclass** (or **parent class**) is a general class that defines common attributes and methods for a group of related objects. \n",
    "**Subclass** (or **child class**) is a specialized class that inherits properties and methods from a superclass. It can have its own unique attributes and methods as well.\n",
    "\n",
    "**Example: Animals and Dogs**\n",
    "\n",
    "Let's consider a real-world example: animals and dogs.\n",
    "\n",
    "**Superclass: Animal**\n",
    "```python\n",
    "class Animal:\n",
    "    def __init__(self, name):\n",
    "        self.name = name\n",
    "\n",
    "    def make_sound(self):\n",
    "        print(\"Generic animal sound\")\n",
    "```\n",
    "\n",
    "**Subclass: Dog**\n",
    "```python\n",
    "class Dog(Animal):\n",
    "    def __init__(self, name, breed):\n",
    "        super().__init__(name)\n",
    "        self.breed = breed\n",
    "\n",
    "    def make_sound(self):\n",
    "        print(\"Woof!\")\n",
    "```\n",
    "\n",
    "In this example:\n",
    "* **`Animal`** is the superclass. It defines a basic structure for all animals with a name and a generic `make_sound` method.\n",
    "* **`Dog`** is the subclass. It inherits the `name` attribute and `make_sound` method from `Animal`. Additionally, it has a specific `breed` attribute and overrides the `make_sound` method to produce a \"Woof!\" sound.\n",
    "\n",
    "**Key Points:**\n",
    "* A subclass inherits all the attributes and methods of its superclass.\n",
    "* A subclass can override methods of its superclass to provide its own implementation.\n",
    "* A subclass can have its own unique attributes and methods.\n",
    "* Multiple inheritance is possible in Python, where a subclass can inherit from multiple superclasses.\n",
    "\n",
    "**Benefits of Inheritance:**\n",
    "* **Code Reusability:** Avoids redundant code by sharing common attributes and methods.\n",
    "* **Code Organization:** Enhances code structure and maintainability.\n",
    "* **Polymorphism:** Allows objects of different classes to be treated as if they were of the same type.\n",
    "\n",
    "By understanding the concepts of superclasses and subclasses, you can create more organized, efficient, and reusable code in your Python programs.\n",
    "___\n"
   ]
  },
  {
   "cell_type": "markdown",
   "metadata": {},
   "source": [
    "## ***Inheritance*** : \n",
    "\n",
    "   - Inheritance allows a new class to inherit attributes and methods from an existing class. This promotes code reuse and establishes a natural hierarchy between classes.\n",
    "   - **Base Class (Parent Class):** The class whose properties and methods are inherited.\n",
    "   - **Derived Class (Child Class):** The class that inherits properties and methods from another class."
   ]
  },
  {
   "cell_type": "code",
   "execution_count": 65,
   "metadata": {},
   "outputs": [],
   "source": [
    "# Example 1:\n",
    "\n",
    "class mother():\n",
    "    def nose(self):\n",
    "        return \"pointed\"\n",
    "\n",
    "class son(mother):  # inherit mother to access mother class from sun class \n",
    "    def ears(self):\n",
    "        return \"ketkum\"\n",
    "    \n",
    "# Here mother class is a super of son class, son class is sub class.\n",
    "# super class will come 1st in the inheritance  always "
   ]
  },
  {
   "cell_type": "code",
   "execution_count": 72,
   "metadata": {},
   "outputs": [
    {
     "data": {
      "text/plain": [
       "('ketkathu', 'point')"
      ]
     },
     "execution_count": 72,
     "metadata": {},
     "output_type": "execute_result"
    }
   ],
   "source": [
    "a=son()\n",
    "a.ears(),a.nose()"
   ]
  },
  {
   "cell_type": "markdown",
   "metadata": {},
   "source": [
    "___\n",
    "\n",
    "**Polymorphism**\n",
    "\n",
    "   - Polymorphism is a key concept in object-oriented programming (OOP) that allows objects of different classes to be treated as objects of a common superclass. It provides a way to use a single interface to represent different data types or classes. The word \"polymorphism\" comes from the Greek words \"poly,\" meaning many, and \"morph,\" meaning form. Thus, polymorphism refers to the ability of a function, object, or method to take on many forms."
   ]
  },
  {
   "cell_type": "code",
   "execution_count": 31,
   "metadata": {},
   "outputs": [
    {
     "data": {
      "text/plain": [
       "('ketkathu', 'amma kanaku', ' black_color')"
      ]
     },
     "execution_count": 31,
     "metadata": {},
     "output_type": "execute_result"
    }
   ],
   "source": [
    "# Polymorphism in Python: Example 2:\n",
    "\n",
    "class mother():\n",
    "    def nose(self):\n",
    "        return \"point\"\n",
    "    \n",
    "class father():\n",
    "    def hair(self):\n",
    "        return \" black_color\"\n",
    "    \n",
    "class son(mother,father):\n",
    "    def ears (self):\n",
    "        return \"ketkathu\"\n",
    "    \n",
    "    def nose(self):\n",
    "        return \"amma kanaku\"   \n",
    "    \n",
    "a=son()\n",
    "a.ears(),a.nose(),a.hair()"
   ]
  },
  {
   "attachments": {
    "image-2.png": {
     "image/png": "[encoded data removed]"
    }
   },
   "cell_type": "markdown",
   "metadata": {},
   "source": [
    "**Superclass**: A class that is inherited by another class. It provides methods and properties that can be inherited by its subclasses. In your code, both mother and father are superclasses.\n",
    "\n",
    "**Subclass**: A class that inherits from one or more superclasses. It can override or extend the functionality of the superclass. In your code, son is the subclass that inherits from both mother and father.\n",
    "\n",
    "In Python, a class can inherit from multiple classes. This is called **multiple inheritance**.\n",
    "\n",
    "![image-2.png](attachment:image-2.png)\n",
    "\n",
    "In the provided code:\n",
    "\n",
    "* **`mother`** and **`father`** are the **superclasses** of **`son`**.\n",
    "* **`son`** is the **subclass** that inherits from both `mother` and `father`.\n",
    "\n",
    "This means that `son` can access the methods and attributes of both `mother` and `father`. In the case of the `nose` method, `son` overrides the `nose` method from `mother` with its own implementation.\n"
   ]
  },
  {
   "cell_type": "markdown",
   "metadata": {},
   "source": [
    " \n",
    " - The code you've written demonstrates polymorphism in Python, specifically method overriding in a multi-inheritance scenario.\n",
    " - The code illustrates polymorphism by showing how the `son` class can override the `nose()` method from its `mother` class, demonstrating the concept of method overriding.\n",
    "\n",
    "**Explanation**:\n",
    "\n",
    "1. **Polymorphism**: \n",
    "   - Polymorphism in programming allows objects of different classes to be treated as objects of a common superclass. It primarily occurs when a child class has a method with the same name as a method in the parent class. This allows for different implementations of the method depending on the object calling it.\n",
    "\n",
    "2. **Classes and Inheritance**:\n",
    "   - You have three classes: `mother`, `father`, and `son`.\n",
    "   - The `son` class inherits from both `mother` and `father` classes (this is called multiple inheritance).\n",
    "\n",
    "3. **Method Overriding**:\n",
    "   - In the `mother` class, there is a method `nose()` that returns `\"point\"`.\n",
    "   - In the `son` class, the same method `nose()` is overridden to return `\"amma kanaku\"`.\n",
    "   - This is an example of polymorphism. Even though the `son` class inherits the `nose()` method from the `mother` class, the `son` class has its own implementation of the `nose()` method.\n",
    "\n",
    "4. **Demonstration**:\n",
    "   - If you create an instance of the `son` class and call the `nose()` method, it will return `\"amma kanaku\"` instead of `\"point\"`, which shows that the `son` class's `nose()` method overrides the `mother` class's `nose()` method.\n",
    "\n",
    "**Output explanation**\n",
    "\n",
    "```python\n",
    "s = son()\n",
    "print(s.nose())  # Output: \"amma kanaku\"\n",
    "print(s.hair())  # Output: \"black_color\"\n",
    "print(s.ears())  # Output: \"ketkathu\"\n",
    "```\n",
    "- **Explanation of the Output**:\n",
    "  - `s.nose()` calls the overridden method in the `son` class, so it returns `\"amma kanaku\"`.\n",
    "  - `s.hair()` calls the method from the `father` class, returning `\"black_color\"`.\n",
    "  - `s.ears()` is unique to the `son` class, returning `\"ketkathu\"`.\n",
    "  ___"
   ]
  },
  {
   "cell_type": "code",
   "execution_count": 5,
   "metadata": {},
   "outputs": [
    {
     "data": {
      "text/plain": [
       "('121312121', 'blue', 'yes', 'point123')"
      ]
     },
     "execution_count": 5,
     "metadata": {},
     "output_type": "execute_result"
    }
   ],
   "source": [
    "# Example 3:\n",
    "\n",
    "class grandfather():\n",
    "  def wealth(self):\n",
    "    return \"121312121\"\n",
    "\n",
    "class mother():\n",
    "  def nose(self):\n",
    "    return \"point\"\n",
    "\n",
    "class father(grandfather):\n",
    "  def hair(self):\n",
    "    return \"blue\"\n",
    "\n",
    "class son(mother,father):\n",
    "  def ears(self):\n",
    "     return \"yes\"\n",
    "  def nose(self):\n",
    "    return \"point123\"\n",
    "\n",
    "class grandson(son,mother):\n",
    "  def eyes(self):\n",
    "    return \"blue\"\n",
    "  \n",
    "a=grandson()\n",
    "a.wealth(),a.eyes(),a.ears(),a.nose()"
   ]
  },
  {
   "cell_type": "markdown",
   "metadata": {},
   "source": [
    "___"
   ]
  },
  {
   "cell_type": "code",
   "execution_count": 1,
   "metadata": {},
   "outputs": [
    {
     "name": "stdout",
     "output_type": "stream",
     "text": [
      "The area is: 50\n",
      "The area is: 153.93804002589985\n"
     ]
    }
   ],
   "source": [
    "class Shape:\n",
    "    def area(self):\n",
    "        pass  # Abstract method\n",
    "\n",
    "class Rectangle(Shape):\n",
    "    def __init__(self, width, height):\n",
    "        self.width = width\n",
    "        self.height = height\n",
    "    \n",
    "    def area(self):\n",
    "        return self.width * self.height\n",
    "\n",
    "class Circle(Shape):\n",
    "    def __init__(self, radius):\n",
    "        self.radius = radius\n",
    "    \n",
    "    def area(self):\n",
    "        import math\n",
    "        return math.pi * (self.radius ** 2)\n",
    "\n",
    "# Function that uses polymorphism\n",
    "def print_area(shape):\n",
    "    print(f\"The area is: {shape.area()}\")\n",
    "\n",
    "# Creating objects\n",
    "rect = Rectangle(10, 5)\n",
    "circ = Circle(7)\n",
    "\n",
    "print_area(rect)  # Output: The area is: 50\n",
    "print_area(circ)  # Output: The area is: 153.93804002589985"
   ]
  },
  {
   "cell_type": "markdown",
   "metadata": {},
   "source": [
    "___"
   ]
  },
  {
   "cell_type": "code",
   "execution_count": 2,
   "metadata": {},
   "outputs": [
    {
     "name": "stdout",
     "output_type": "stream",
     "text": [
      "Bark\n",
      "Meow\n"
     ]
    }
   ],
   "source": [
    "class Animal:\n",
    "    def sound(self):\n",
    "        return \"Some generic animal sound\"\n",
    "\n",
    "class Dog(Animal):\n",
    "    def sound(self):\n",
    "        return \"Bark\"\n",
    "\n",
    "class Cat(Animal):\n",
    "    def sound(self):\n",
    "        return \"Meow\"\n",
    "\n",
    "def make_sound(animal):\n",
    "    print(animal.sound())\n",
    "\n",
    "dog = Dog()\n",
    "cat = Cat()\n",
    "\n",
    "make_sound(dog)  # Output: Bark\n",
    "make_sound(cat)  # Output: Meow"
   ]
  },
  {
   "cell_type": "markdown",
   "metadata": {},
   "source": [
    "In the code you've provided:\n",
    "\n",
    "- **Superclass**: The class from which other classes inherit. In this case, `Animal` is the superclass. It defines a generic behavior (`sound` method) that can be shared with other classes through inheritance.\n",
    "\n",
    "- **Subclass**: The class that inherits from another class (superclass). In this case, `Dog` and `Cat` are subclasses. They inherit the `sound` method from the `Animal` class but override it to provide specific behavior.\n",
    "\n",
    "- `Animal` is the **superclass**.\n",
    "- `Dog` and `Cat` are **subclasses** of `Animal`."
   ]
  },
  {
   "cell_type": "markdown",
   "metadata": {},
   "source": [
    "___"
   ]
  },
  {
   "cell_type": "code",
   "execution_count": 7,
   "metadata": {},
   "outputs": [
    {
     "data": {
      "text/plain": [
       "('121312121', 'yes', 'point123')"
      ]
     },
     "execution_count": 7,
     "metadata": {},
     "output_type": "execute_result"
    }
   ],
   "source": [
    "class grandfather():\n",
    "  def wealth(self):\n",
    "    return \"121312121\"\n",
    "\n",
    "class mother():\n",
    "  def nose(self):\n",
    "    return \"point\"\n",
    "\n",
    "class father(grandfather):\n",
    "  def hair(self):\n",
    "    return \"blue\"\n",
    "\n",
    "class son(mother,father):\n",
    "  def ears(self):\n",
    "     return \"yes\"\n",
    "  def nose(self):\n",
    "    return \"point123\"\n",
    "  \n",
    "  a=son()\n",
    "a.wealth(),a.ears(),a.nose()"
   ]
  },
  {
   "cell_type": "markdown",
   "metadata": {},
   "source": [
    "**`son`** inherits from both **`mother`** and **`father`**. Since **`father`** inherits from **`grandfather`**, **`son`** indirectly inherits from **`grandfather`** as well.\n",
    "\n",
    "Therefore, the **superclasses** are `grandfather`, `mother`, and `father`, and the **subclass** is `son`.\n"
   ]
  },
  {
   "cell_type": "markdown",
   "metadata": {},
   "source": [
    "___\n",
    "### **Hybrid Inheritance in Python:**\n",
    "\n",
    "\n",
    "* Hybrid inheritance is a combination of multiple inheritance and single inheritance. It occurs when a class inherits from multiple classes, and one or more of those classes also inherit from other classes. \n",
    "\n",
    "* Hybrid can include single , multiple and multi-level inheritance. can be combination of theree or two as well."
   ]
  },
  {
   "cell_type": "markdown",
   "metadata": {},
   "source": [
    "**Example 1:**"
   ]
  },
  {
   "cell_type": "code",
   "execution_count": 30,
   "metadata": {},
   "outputs": [
    {
     "name": "stdout",
     "output_type": "stream",
     "text": [
      "Method A\n",
      "Method B\n",
      "Method C\n",
      "Method D\n"
     ]
    }
   ],
   "source": [
    "class A:\n",
    "    def method_A(self):\n",
    "        print(\"Method A\")\n",
    "\n",
    "class B:\n",
    "    def method_B(self):\n",
    "        print(\"Method B\")\n",
    "\n",
    "class C(A, B):\n",
    "    def method_C(self):\n",
    "        print(\"Method C\")\n",
    "\n",
    "class D(C):\n",
    "    def method_D(self):\n",
    "        print(\"Method D\")\n",
    "\n",
    "obj = D()\n",
    "obj.method_A()\n",
    "obj.method_B()\n",
    "obj.method_C()\n",
    "obj.method_D()"
   ]
  },
  {
   "cell_type": "markdown",
   "metadata": {},
   "source": [
    "In this example:\n",
    "* **`A`** and **`B`** are base classes.\n",
    "* **`C`** is a derived class that inherits from both **`A`** and **`B`**. This is **multiple inheritance**.\n",
    "* **`D`** is a derived class that inherits from **`C`**. This is **single inheritance**.\n",
    "\n",
    "Since **`C`** inherits from both **`A`** and **`B`**, **`D`** indirectly inherits from both **`A`** and **`B`** as well. This is **hybrid inheritance**.\n",
    "\n",
    "**Why use hybrid inheritance?**\n",
    "\n",
    "* **Flexibility:** It allows for more complex inheritance relationships.\n",
    "* **Code reuse:** It can help to reuse code from multiple base classes.\n",
    "* **Polymorphism:** It enables objects of different classes to be treated as if they were of the same type.\n",
    "\n",
    "**When to use hybrid inheritance:**\n",
    "\n",
    "* When you need to combine features from multiple base classes that have different inheritance relationships.\n",
    "* When you want to create a class that can be used in multiple contexts.\n",
    "\n",
    "**However, it's important to use hybrid inheritance with caution.** Overusing it can make your code harder to understand and maintain.\n",
    "___\n"
   ]
  },
  {
   "cell_type": "markdown",
   "metadata": {},
   "source": [
    "**Example 2:**"
   ]
  },
  {
   "cell_type": "code",
   "execution_count": 28,
   "metadata": {},
   "outputs": [
    {
     "name": "stdout",
     "output_type": "stream",
     "text": [
      "121312121\n",
      "yes\n",
      "point123\n",
      "black\n"
     ]
    }
   ],
   "source": [
    "class grandfather():\n",
    "  def wealth(self):\n",
    "    return \"121312121\"\n",
    "\n",
    "class mother():\n",
    "  def nose(self):\n",
    "    return \"point\"\n",
    "\n",
    "class father(grandfather):\n",
    "  def hair(self):\n",
    "    return \"Red\"\n",
    "\n",
    "class son(mother,father):\n",
    "  def ears(self):\n",
    "     return \"yes\"\n",
    "  def nose(self):\n",
    "    return \"point123\"\n",
    "  \n",
    "class grandson(son,mother): # inherit son (multiple inheritance) and mother (single inheritance) so it called as hybrid inheritance\n",
    "  def eyes(self):\n",
    "    return \"black\"\n",
    "\n",
    "a = grandson()\n",
    "print(a.wealth())  # Inherited from grandfather (indirectly through son)\n",
    "print(a.ears())    # Inherited from son\n",
    "print(a.nose())    # Inherited from son (overrides mother's nose method)\n",
    "#print(a.hair())  # Error: `grandson` doesn't inherit directly from `father`\n",
    "print(a.eyes())    # Inherited from grandson (its own method)"
   ]
  },
  {
   "cell_type": "markdown",
   "metadata": {},
   "source": [
    "Therefore:\n",
    "* **`grandfather`** is the ultimate superclass for both `son` and `grandson`.\n",
    "* **`mother`** is a superclass for `son` but not a direct superclass for `grandson` (inherited indirectly).\n",
    "* **`father`** is a superclass for `son` but not relevant for `grandson` (not part of the inheritance chain).\n",
    "* **`son` and `grandson`** are both subclasses, with `grandson` inheriting from `son`.\n",
    "- Remember, inheritance order determines which methods and attributes are directly accessible.\n",
    "___"
   ]
  },
  {
   "cell_type": "markdown",
   "metadata": {},
   "source": [
    "## Encapsulation :\n",
    "\n",
    "Encapsulation is all about bundling the data and methods together, controlling the access to the data, and ensuring the integrity and security of an object's state. It is a critical concept in creating robust, maintainable, and secure software.\n",
    "\n",
    "It is object-oriented programming is a fundamental concept that involves bundling data (attributes) and methods (functions) that operate on that data into a single unit, called an object. This is achieved by making the internal state of an object private and providing controlled access to it through public methods.\n",
    "\n",
    "**Key aspects of encapsulation:**\n",
    "\n",
    "* **Data Hiding:** The internal state of an object (its attributes) is hidden from the outside world. This prevents direct modification of the data, ensuring data integrity and consistency.\n",
    "* **Access Control:** Public methods are provided to interact with the object's data. These methods can enforce rules and validations, ensuring that the data is modified in a controlled and appropriate manner.\n",
    "* **Abstraction:** Encapsulation promotes abstraction by focusing on the object's behavior (methods) rather than its internal implementation details.\n",
    "\n",
    "**Benefits of Encapsulation:**\n",
    "\n",
    "* **Data Integrity:** Protects data from unauthorized access or modification.\n",
    "* **Modularity:** Encapsulated objects are self-contained and can be easily reused and modified.\n",
    "* **Maintainability:** Encapsulation makes code easier to maintain by separating concerns and improving code organization.\n",
    "* **Security:** Prevents accidental or malicious modification of data.\n",
    "* **Reusability:** Encapsulated objects can be easily reused in different parts of a program."
   ]
  },
  {
   "cell_type": "code",
   "execution_count": 36,
   "metadata": {},
   "outputs": [],
   "source": [
    "class Person:\n",
    "    def __init__(self, name, age):\n",
    "        self.__name = name\n",
    "        self.__age = age\n",
    "\n",
    "    def get_name(self):\n",
    "        return self.__name\n",
    "\n",
    "    def get_age(self):\n",
    "        return self.__age\n",
    "\n",
    "    def set_age(self, age):\n",
    "        if age >= 0:\n",
    "            self.__age = age\n",
    "        else:\n",
    "            print(\"Age cannot be negative.\")"
   ]
  },
  {
   "cell_type": "markdown",
   "metadata": {},
   "source": [
    "In this example:\n",
    "\n",
    "* The `__name` and `__age` attributes are private, meaning they cannot be accessed directly from outside the `Person` class.\n",
    "* Public methods `get_name`, `get_age`, and `set_age` are provided to access and modify the attributes.\n",
    "* The `set_age` method enforces a validation to ensure that the age is not negative.\n",
    "\n",
    "By encapsulating the data and providing controlled access through methods, we ensure that the `Person` object's data remains consistent and is modified in a safe and appropriate manner.\n",
    "___"
   ]
  },
  {
   "cell_type": "code",
   "execution_count": 35,
   "metadata": {},
   "outputs": [
    {
     "data": {
      "text/plain": [
       "1000"
      ]
     },
     "execution_count": 35,
     "metadata": {},
     "output_type": "execute_result"
    }
   ],
   "source": [
    "class bankaccount():\n",
    "  def __init__(self,name,balance):\n",
    "    self.name=name\n",
    "    self.__balance=balance\n",
    "\n",
    "  def deposit(self,amount):\n",
    "    self.__balance=self.__balance+amount\n",
    "    return self.__balance\n",
    "\n",
    "  def withdraw(self,amount):\n",
    "    self.__balance=self.__balance-amount\n",
    "    return self.__balance\n",
    "\n",
    "  def getbalance(self):\n",
    "    return self.__balance\n",
    "  \n",
    "nirmal=bankaccount(\"nirmal\",1000)\n",
    "guvi=bankaccount(\"guvi\",20000)\n",
    "nancy=bankaccount(\"nancy\",10000)\n",
    "\n",
    "nirmal.__balance=10000\n",
    "nirmal.getbalance()"
   ]
  },
  {
   "cell_type": "markdown",
   "metadata": {},
   "source": [
    "___"
   ]
  },
  {
   "cell_type": "code",
   "execution_count": 34,
   "metadata": {},
   "outputs": [
    {
     "name": "stdout",
     "output_type": "stream",
     "text": [
      "1000\n",
      "Deposited 500, New Balance: 1500\n",
      "Withdrew 300, New Balance: 1200\n"
     ]
    }
   ],
   "source": [
    "class Account:\n",
    "    def __init__(self, owner, balance=0):\n",
    "        self.owner = owner           # public attribute\n",
    "        self.__balance = balance     # private attribute (encapsulated)\n",
    "\n",
    "    def deposit(self, amount):\n",
    "        if amount > 0:\n",
    "            self.__balance += amount\n",
    "            print(f\"Deposited {amount}, New Balance: {self.__balance}\")\n",
    "        else:\n",
    "            print(\"Deposit amount must be positive\")\n",
    "\n",
    "    def withdraw(self, amount):\n",
    "        if 0 < amount <= self.__balance:\n",
    "            self.__balance -= amount\n",
    "            print(f\"Withdrew {amount}, New Balance: {self.__balance}\")\n",
    "        else:\n",
    "            print(\"Invalid withdrawal amount\")\n",
    "\n",
    "    def get_balance(self):\n",
    "        return self.__balance\n",
    "\n",
    "# Usage:\n",
    "my_account = Account(\"Suresh\", 1000)\n",
    "print(my_account.get_balance())  # Accessing the balance via a getter method\n",
    "\n",
    "my_account.deposit(500)\n",
    "my_account.withdraw(300)\n"
   ]
  },
  {
   "cell_type": "markdown",
   "metadata": {},
   "source": [
    "___"
   ]
  },
  {
   "cell_type": "markdown",
   "metadata": {},
   "source": [
    "## Abstraction : \n",
    "\n",
    "**Abstraction** is another key concept in object-oriented programming (OOP). It involves hiding the complex implementation details of a system and exposing only the necessary and relevant parts. Abstraction allows you to focus on what an object does rather than how it does it.\n",
    "\n",
    "### Key Points of Abstraction:\n",
    "\n",
    "1. **Hiding Complexity**:\n",
    "   - Abstraction simplifies complex systems by allowing developers to work with higher-level concepts and hiding the underlying implementation details.\n",
    "\n",
    "2. **Interfaces and Abstract Classes**:\n",
    "   - Abstraction is typically implemented using abstract classes and interfaces. In Python, abstract classes are provided by the `abc` module (Abstract Base Class).\n",
    "   - An abstract class can have one or more abstract methods, which are methods declared but not implemented in the abstract class. Subclasses that inherit from the abstract class must implement these abstract methods.\n",
    "\n",
    "3. **Advantages of Abstraction**:\n",
    "   - **Simplicity**: By abstracting away unnecessary details, you can work with more straightforward and understandable concepts.\n",
    "   - **Modularity**: Abstraction leads to more modular code, where components can be developed, tested, and debugged independently.\n",
    "   - **Reusability**: Abstract classes and interfaces allow you to define common interfaces for different implementations, leading to reusable code.\n",
    "   - **Maintenance**: Changes in implementation details do not affect the higher-level code that interacts with the abstracted parts.\n",
    "\n",
    "**Example in Python:**"
   ]
  },
  {
   "cell_type": "code",
   "execution_count": 37,
   "metadata": {},
   "outputs": [
    {
     "name": "stdout",
     "output_type": "stream",
     "text": [
      "Car engine started\n",
      "Car engine stopped\n",
      "Motorcycle engine started\n",
      "Motorcycle engine stopped\n"
     ]
    }
   ],
   "source": [
    "from abc import ABC, abstractmethod\n",
    "\n",
    "class Vehicle(ABC):  # Abstract class\n",
    "    @abstractmethod\n",
    "    def start_engine(self):\n",
    "        pass\n",
    "\n",
    "    @abstractmethod\n",
    "    def stop_engine(self):\n",
    "        pass\n",
    "\n",
    "class Car(Vehicle):  # Concrete class\n",
    "    def start_engine(self):\n",
    "        print(\"Car engine started\")\n",
    "\n",
    "    def stop_engine(self):\n",
    "        print(\"Car engine stopped\")\n",
    "\n",
    "class Motorcycle(Vehicle):  # Another concrete class\n",
    "    def start_engine(self):\n",
    "        print(\"Motorcycle engine started\")\n",
    "\n",
    "    def stop_engine(self):\n",
    "        print(\"Motorcycle engine stopped\")\n",
    "\n",
    "# Usage:\n",
    "my_car = Car()\n",
    "my_car.start_engine()  # Output: Car engine started\n",
    "my_car.stop_engine()   # Output: Car engine stopped\n",
    "\n",
    "my_bike = Motorcycle()\n",
    "my_bike.start_engine()  # Output: Motorcycle engine started\n",
    "my_bike.stop_engine()   # Output: Motorcycle engine stopped"
   ]
  },
  {
   "cell_type": "markdown",
   "metadata": {},
   "source": [
    "**Explanation:**\n",
    "\n",
    "1. **Abstract Class (`Vehicle`)**:\n",
    "   - The `Vehicle` class is an abstract class that defines the abstract methods `start_engine` and `stop_engine`. These methods don’t have any implementation in the `Vehicle` class.\n",
    "   \n",
    "2. **Concrete Classes (`Car` and `Motorcycle`)**:\n",
    "   - The `Car` and `Motorcycle` classes inherit from the `Vehicle` abstract class and provide concrete implementations for the `start_engine` and `stop_engine` methods.\n",
    "   - These concrete classes must implement the abstract methods; otherwise, Python will raise a `TypeError`.\n",
    "\n",
    "3. **Abstraction in Action**:\n",
    "   - The details of how the engine is started and stopped are abstracted away in the `Vehicle` class. Users of the `Car` or `Motorcycle` classes only need to know that they can start and stop the engine; they don’t need to know how it’s done.\n",
    "\n",
    "**Summary:**\n",
    "Abstraction in Python allows you to define the essential features of an object while hiding the implementation details. This makes it easier to manage complexity in large systems, promotes code reusability, and enhances maintainability. By using abstract classes and methods, Python enables developers to create well-organized and modular code.\n",
    "___"
   ]
  },
  {
   "cell_type": "markdown",
   "metadata": {},
   "source": [
    "# Day 7:\n",
    "Link: https://us06web.zoom.us/rec/play/IbiTi8AmNb_hbKQEHF_AZyHwGC7ZjTMl5s1f1uIZJji6Z6r78RmpgEE7LOTDuxQedz-I1x1Z9b_sWOuz.-JipGQ5ZfaHM3jEG?canPlayFromShare=true&from=share_recording_detail&continueMode=true&componentName=rec-play&originRequestUrl=https%3A%2F%2Fus06web.zoom.us%2Frec%2Fshare%2F2I--aEodPlTBN10ESLioNKhe6DtAYHjyZu_qQNUi_PrvFRrZRoiUPKqgkcxcchx-.d0yTA9RLq-8UWTTU"
   ]
  },
  {
   "cell_type": "markdown",
   "metadata": {},
   "source": [
    "## ***File and Folder Handling in Python:***\n",
    "\n",
    "- We should know how to **create,write,read,delete files and folder**"
   ]
  },
  {
   "cell_type": "markdown",
   "metadata": {},
   "source": [
    "### 1 Create Folder:\n",
    "- import os module for creating folde\n",
    "- use mkdir() to create a folder "
   ]
  },
  {
   "cell_type": "code",
   "execution_count": 42,
   "metadata": {},
   "outputs": [],
   "source": [
    "import os # importing os module for creating folders"
   ]
  },
  {
   "cell_type": "code",
   "execution_count": 57,
   "metadata": {},
   "outputs": [],
   "source": [
    "os.mkdir(\"1st folder\")"
   ]
  },
  {
   "cell_type": "code",
   "execution_count": 58,
   "metadata": {},
   "outputs": [
    {
     "name": "stdout",
     "output_type": "stream",
     "text": [
      "Directory '2nd folder' created successfully.\n"
     ]
    }
   ],
   "source": [
    "directory_name = \"2nd folder\" ## Specify the name of the directory you want to create\n",
    "os.mkdir(directory_name) ## Use os.makedirs to create the directory\n",
    "print(f\"Directory '{directory_name}' created successfully.\")"
   ]
  },
  {
   "cell_type": "code",
   "execution_count": 59,
   "metadata": {},
   "outputs": [],
   "source": [
    "os.mkdir(\"2nd folder/1st\") # to create a folder inside a folder"
   ]
  },
  {
   "cell_type": "code",
   "execution_count": 55,
   "metadata": {},
   "outputs": [],
   "source": [
    "import os\n",
    "os.mkdir(\"guvi\")"
   ]
  },
  {
   "cell_type": "code",
   "execution_count": 56,
   "metadata": {},
   "outputs": [],
   "source": [
    "import os\n",
    "os.mkdir(\"guvi/nirmal\")"
   ]
  },
  {
   "cell_type": "markdown",
   "metadata": {},
   "source": [
    "### 2. Remove Director:\n",
    "\n",
    "use rmdir function to remove directory: rmdir(\"folder_name\")"
   ]
  },
  {
   "cell_type": "code",
   "execution_count": 60,
   "metadata": {},
   "outputs": [],
   "source": [
    "os.rmdir(\"guvi/nirmal\") # removes nirmal folder from guvi folder"
   ]
  },
  {
   "cell_type": "code",
   "execution_count": 61,
   "metadata": {},
   "outputs": [],
   "source": [
    "os.rmdir(\"guvi\") # deleted guvi folder from current directory"
   ]
  },
  {
   "cell_type": "markdown",
   "metadata": {},
   "source": [
    "### 3. Rename folder:\n",
    "os.rename(\"old_name\",\"new_name\")"
   ]
  },
  {
   "cell_type": "code",
   "execution_count": 62,
   "metadata": {},
   "outputs": [],
   "source": [
    "os.rename(\"1st folder\",\"first folder\")"
   ]
  },
  {
   "cell_type": "code",
   "execution_count": 64,
   "metadata": {},
   "outputs": [],
   "source": [
    "os.rename(\"2nd folder\",\"second folder\")"
   ]
  },
  {
   "cell_type": "markdown",
   "metadata": {},
   "source": [
    "---"
   ]
  },
  {
   "cell_type": "markdown",
   "metadata": {},
   "source": [
    "## File Handling in Python"
   ]
  },
  {
   "cell_type": "markdown",
   "metadata": {},
   "source": [
    "There are various modes for handling files in Python, each with its own purpose:\n",
    "\n",
    "**Read modes:**\n",
    "* **'r'**: Opens the file for reading. This is the default mode.\n",
    "* **'rb'**: Opens the file for reading in binary mode.\n",
    "* **'r+'**: Opens the file for both reading and writing.\n",
    "\n",
    "**Write modes:**\n",
    "* **'w'**: Opens the file for writing, overwriting the existing content if the file already exists.\n",
    "* **'wb'**: Opens the file for writing in binary mode, overwriting the existing content if the file already exists.\n",
    "* **'a'**: Opens the file for appending; new data will be written to the end of the file.\n",
    "* **'ab'**: Opens the file for appending in binary mode; new data will be written to the end of the file.\n",
    "* **'a+'**: Opens the file for both appending and reading.\n",
    "\n",
    "**Other modes:**\n",
    "* **'x'**: Opens the file for exclusive creation. If the file already exists, an `FileExistsError` exception will be raised.\n",
    "* **'xb'**: Opens the file for exclusive creation in binary mode. If the file already exists, an `FileExistsError` exception will be raised.\n",
    "\n",
    "**Choosing the right mode:**\n",
    "\n",
    "* Use **'r'** or **'rb'** for reading existing files.\n",
    "* Use **'w'** or **'wb'** for creating new files or overwriting existing ones.\n",
    "* Use **'a'** or **'ab'** for adding data to the end of existing files.\n",
    "* Use **'r+'** or **'a+'** for both reading and writing to the same file.\n",
    "* Use **'x'** or **'xb'** to ensure that a file is created only if it doesn't already exist.\n",
    "\n",
    "By understanding these modes, you can effectively work with files in Python for various tasks.\n"
   ]
  },
  {
   "cell_type": "markdown",
   "metadata": {},
   "source": [
    "### 1.Open/Crtete a file"
   ]
  },
  {
   "cell_type": "code",
   "execution_count": 74,
   "metadata": {},
   "outputs": [],
   "source": [
    "d=open(\"guvi.txt\",\"x\") # creates a file named guvi.txt in current directory"
   ]
  },
  {
   "cell_type": "code",
   "execution_count": 75,
   "metadata": {},
   "outputs": [],
   "source": [
    "d.close()"
   ]
  },
  {
   "cell_type": "markdown",
   "metadata": {},
   "source": [
    "### 2. Write, append, read data in a file\n",
    "\n",
    "Note: If you use with operation , closing file is not necessary but it is good practice."
   ]
  },
  {
   "cell_type": "code",
   "execution_count": 77,
   "metadata": {},
   "outputs": [],
   "source": [
    "# Open a file in write mode\n",
    "with open (\"sures.txt\",\"w\") as f:\n",
    "    f.write(\"Hi Today is monday\")\n",
    "    f.close()"
   ]
  },
  {
   "cell_type": "code",
   "execution_count": 79,
   "metadata": {},
   "outputs": [],
   "source": [
    "# to update a file, use append mode (a\n",
    "with open (\"sures.txt\",\"a\") as f:\n",
    "    f.write(\"\\n Hi Tomorrow is Tuesday\")\n",
    "    f.close()"
   ]
  },
  {
   "cell_type": "code",
   "execution_count": 80,
   "metadata": {},
   "outputs": [],
   "source": [
    "# write lines:\n",
    "with open (\"skdk.txt\",\"w\") as f:\n",
    "    lines = [\"Hi Today is monday\",\" \\n Hi Tomorrow is Tuesday\"]\n",
    "    f.writelines(lines)\n",
    "    f.close()"
   ]
  },
  {
   "cell_type": "code",
   "execution_count": 99,
   "metadata": {},
   "outputs": [],
   "source": [
    "with open (\"skdk.txt\",\"w\") as f:\n",
    "    f.write(\"suresh is a Data Analyst\")\n",
    "    f.writelines([\"line1\",\"line2\",\"\\n line3\"])\n",
    "    f.close()"
   ]
  },
  {
   "cell_type": "code",
   "execution_count": 96,
   "metadata": {},
   "outputs": [],
   "source": [
    "name=input(\"enter your name\")\n",
    "age=input(\"enter your age\")\n",
    "address=input(\"enter your address\")\n",
    "with open(\"guvi3.txt\",\"w\") as d:\n",
    "  d.write(name)\n",
    "  d.writelines([name,\"\\n\",age,address])\n",
    "  d.close()"
   ]
  },
  {
   "cell_type": "code",
   "execution_count": 97,
   "metadata": {},
   "outputs": [
    {
     "name": "stdout",
     "output_type": "stream",
     "text": [
      "\n",
      "\n"
     ]
    }
   ],
   "source": [
    "with open(\"guvi3.txt\",\"r\") as d:\n",
    "  print(d.read())\n",
    "  d.close()"
   ]
  },
  {
   "cell_type": "code",
   "execution_count": 100,
   "metadata": {},
   "outputs": [],
   "source": [
    "# remove a file:\n",
    "os.remove(\"skdk.txt\")"
   ]
  },
  {
   "cell_type": "code",
   "execution_count": null,
   "metadata": {},
   "outputs": [],
   "source": [
    "# Rename file:\n",
    "os.rename(\"guvi3.txt\",\"guvi2.txt\")"
   ]
  },
  {
   "cell_type": "code",
   "execution_count": 109,
   "metadata": {},
   "outputs": [
    {
     "name": "stdout",
     "output_type": "stream",
     "text": [
      "20 files created successfully\n"
     ]
    }
   ],
   "source": [
    "for i in range(21):\n",
    "  with open(f'guvi{i}.txt','x') as d:\n",
    "    pass\n",
    "print(\"20 files created successfully\")"
   ]
  },
  {
   "cell_type": "code",
   "execution_count": 111,
   "metadata": {},
   "outputs": [
    {
     "name": "stdout",
     "output_type": "stream",
     "text": [
      "20 folders created successfully\n"
     ]
    }
   ],
   "source": [
    "for i in range(20):\n",
    "  os.mkdir(\"guvi\"+str(i))\n",
    "print(\"20 folders created successfully\")"
   ]
  },
  {
   "cell_type": "code",
   "execution_count": 112,
   "metadata": {},
   "outputs": [
    {
     "name": "stdout",
     "output_type": "stream",
     "text": [
      "20 folders with a corresponding file in each have been created successfully.\n"
     ]
    }
   ],
   "source": [
    "import os\n",
    "\n",
    "# Loop to create 20 folders and a file in each folder\n",
    "for i in range(1, 21):\n",
    "    folder_name = \"guvi\" + str(i)\n",
    "    os.mkdir(folder_name)  # Create the folder\n",
    "    \n",
    "    file_path = os.path.join(folder_name, folder_name)  # Create a file path with the same name as the folder\n",
    "    with open(file_path, 'w') as file:\n",
    "        file.write(f\"This is the content of {folder_name}\")  # Write some content to the file\n",
    "\n",
    "print(\"20 folders with a corresponding file in each have been created successfully.\")\n"
   ]
  },
  {
   "cell_type": "markdown",
   "metadata": {},
   "source": [
    "___"
   ]
  },
  {
   "cell_type": "markdown",
   "metadata": {},
   "source": [
    "## List comprhension: \n",
    "\n",
    "- List comprehensions is a pythonic way of expressing a ‘for-loop’ that appends to a list in a single line of code.\n",
    "So how does a list comprehension look? Let’s write one to create a list of even numbers between 0 and 9:\n",
    "\n",
    "- List Comprehension is a concise and powerful way to create lists in Python. It provides a more readable and efficient alternative to traditional for loops when constructing lists based on existing sequences\n",
    "\n",
    "Reference: \n",
    "- https://docs.python.org/3/tutorial/datastructures.html#list-comprehensions\n",
    "- https://colab.research.google.com/drive/1bYv5td_eMRxm5CSj1ijFtTjySGMr8-NX?usp=sharing"
   ]
  },
  {
   "cell_type": "markdown",
   "metadata": {},
   "source": [
    "___"
   ]
  },
  {
   "cell_type": "code",
   "execution_count": 115,
   "metadata": {},
   "outputs": [
    {
     "name": "stdout",
     "output_type": "stream",
     "text": [
      "[10, 11, 12, 13, 14]\n"
     ]
    }
   ],
   "source": [
    "# Normal code:\n",
    "\n",
    "x=[]\n",
    "for i in range(10,15):\n",
    "  x.append(i)\n",
    "print(x)"
   ]
  },
  {
   "cell_type": "code",
   "execution_count": 116,
   "metadata": {},
   "outputs": [
    {
     "data": {
      "text/plain": [
       "[10, 11, 12, 13, 14]"
      ]
     },
     "execution_count": 116,
     "metadata": {},
     "output_type": "execute_result"
    }
   ],
   "source": [
    "#comprhension code :\n",
    "\n",
    "[x for x in range (10,15)] # output(x) will always start from left side and goes to right side in comprehension code"
   ]
  },
  {
   "cell_type": "markdown",
   "metadata": {},
   "source": [
    "___"
   ]
  },
  {
   "cell_type": "code",
   "execution_count": 124,
   "metadata": {},
   "outputs": [
    {
     "data": {
      "text/plain": [
       "[1, 4, 27, 16, 125]"
      ]
     },
     "execution_count": 124,
     "metadata": {},
     "output_type": "execute_result"
    }
   ],
   "source": [
    "# Normal code \n",
    "x=[1,2,3,4,5]\n",
    "result=[]\n",
    "for i in x:\n",
    "  if i%2==0:\n",
    "    result.append(i**2)\n",
    "  else:\n",
    "    result.append(i**3)\n",
    "result"
   ]
  },
  {
   "cell_type": "code",
   "execution_count": 126,
   "metadata": {},
   "outputs": [
    {
     "data": {
      "text/plain": [
       "[1, 4, 27, 16, 125]"
      ]
     },
     "execution_count": 126,
     "metadata": {},
     "output_type": "execute_result"
    }
   ],
   "source": [
    "#comprhension code :\n",
    "[i**2 if i%2==0 else i**3 for i in [1,2,3,4,5]]"
   ]
  },
  {
   "cell_type": "markdown",
   "metadata": {},
   "source": [
    "___"
   ]
  },
  {
   "cell_type": "code",
   "execution_count": 133,
   "metadata": {},
   "outputs": [
    {
     "data": {
      "text/plain": [
       "['average', 'fail', 'average', 'average', 'fail', 'Outstanding', 'fail']"
      ]
     },
     "execution_count": 133,
     "metadata": {},
     "output_type": "execute_result"
    }
   ],
   "source": [
    "[\"Outstanding\" if i >=70 else \"average\"  if i<=60 and  i>=35 else \"fail\" for i in [35,33,45,50,30,77,21]]"
   ]
  },
  {
   "cell_type": "markdown",
   "metadata": {},
   "source": [
    "___"
   ]
  },
  {
   "cell_type": "code",
   "execution_count": 142,
   "metadata": {},
   "outputs": [],
   "source": [
    "# Task :\n",
    "\n",
    "animal= [\"cat\",\"dog\",\"cow\",\"lion\",\"tiger\",\"elephant\"]\n",
    "# print of lenth of the data \n",
    "# print only stings with length greater than 3 \n",
    "# "
   ]
  },
  {
   "cell_type": "markdown",
   "metadata": {},
   "source": [
    "**Task1**|"
   ]
  },
  {
   "cell_type": "code",
   "execution_count": 143,
   "metadata": {},
   "outputs": [
    {
     "data": {
      "text/plain": [
       "[3, 3, 3, 4, 5, 8]"
      ]
     },
     "execution_count": 143,
     "metadata": {},
     "output_type": "execute_result"
    }
   ],
   "source": [
    "#normal code\n",
    "length=[]\n",
    "for i in animal:\n",
    "  length.append(len(i))\n",
    "\n",
    "length\n",
    "  "
   ]
  },
  {
   "cell_type": "code",
   "execution_count": 147,
   "metadata": {},
   "outputs": [
    {
     "data": {
      "text/plain": [
       "[3, 3, 3, 4, 5, 8]"
      ]
     },
     "execution_count": 147,
     "metadata": {},
     "output_type": "execute_result"
    }
   ],
   "source": [
    "# comprhension code\n",
    "[len(i) for i in animal]"
   ]
  },
  {
   "cell_type": "markdown",
   "metadata": {},
   "source": [
    "**Task 2**"
   ]
  },
  {
   "cell_type": "code",
   "execution_count": 144,
   "metadata": {},
   "outputs": [
    {
     "data": {
      "text/plain": [
       "['lion', 'tiger', 'elephant']"
      ]
     },
     "execution_count": 144,
     "metadata": {},
     "output_type": "execute_result"
    }
   ],
   "source": [
    "# Normal code\n",
    "strings=[]\n",
    "for i in animal:\n",
    "  if len(i)>3:\n",
    "    strings.append(i)\n",
    "\n",
    "strings"
   ]
  },
  {
   "cell_type": "code",
   "execution_count": 148,
   "metadata": {},
   "outputs": [
    {
     "data": {
      "text/plain": [
       "['lion', 'tiger', 'elephant']"
      ]
     },
     "execution_count": 148,
     "metadata": {},
     "output_type": "execute_result"
    }
   ],
   "source": [
    "#comprhension code\n",
    "[strings for strings in animal if len(strings)>3]"
   ]
  },
  {
   "cell_type": "markdown",
   "metadata": {},
   "source": [
    "**Task 3** : if the len is <= 3 capitalize else uppercase"
   ]
  },
  {
   "cell_type": "code",
   "execution_count": 155,
   "metadata": {},
   "outputs": [
    {
     "name": "stdout",
     "output_type": "stream",
     "text": [
      "CAT\n",
      "DOG\n",
      "COW\n",
      "Lion\n",
      "Tiger\n",
      "Elephant\n"
     ]
    }
   ],
   "source": [
    "animal= [\"cat\",\"dog\",\"cow\",\"lion\",\"tiger\",\"elephant\"]\n",
    "\n",
    "for i in animal:\n",
    "  if len(i)<=3:\n",
    "    print(i.upper())\n",
    "  else:\n",
    "    print(i.capitalize())"
   ]
  },
  {
   "cell_type": "code",
   "execution_count": 164,
   "metadata": {},
   "outputs": [
    {
     "data": {
      "text/plain": [
       "['Cat', 'Dog', 'Cow', 'LION', 'TIGER', 'ELEPHANT']"
      ]
     },
     "execution_count": 164,
     "metadata": {},
     "output_type": "execute_result"
    }
   ],
   "source": [
    "a= [\"cat\",\"dog\",\"cow\",\"lion\",\"tiger\",\"elephant\"]\n",
    "\n",
    "[i.capitalize() if len(i)<=3 else i.upper() for i in a]"
   ]
  },
  {
   "cell_type": "markdown",
   "metadata": {},
   "source": [
    "____"
   ]
  },
  {
   "cell_type": "code",
   "execution_count": 166,
   "metadata": {},
   "outputs": [],
   "source": [
    "# Lamda filter and map"
   ]
  },
  {
   "cell_type": "markdown",
   "metadata": {},
   "source": [
    "## Lamda function:\n",
    "\n",
    "- A lambda function, also known as an anonymous function, is a small, single-expression function defined without a name. It's often used for short, simple functions that are only needed once.\n",
    "\n",
    "**Syntax:**\n",
    "```python\n",
    "lambda arguments: expression\n",
    "```\n",
    "\n",
    "- arguments: A comma-separated list of arguments for the function.\n",
    "- expression: A single expression that returns the function's result."
   ]
  },
  {
   "cell_type": "code",
   "execution_count": 2,
   "metadata": {},
   "outputs": [
    {
     "name": "stdout",
     "output_type": "stream",
     "text": [
      "[1, 4, 9, 16, 25]\n"
     ]
    }
   ],
   "source": [
    "numbers = [1, 2, 3, 4, 5]\n",
    "squared_numbers = list(map(lambda x: x**2, numbers)) # here x is argumnets and x**2 is expression\n",
    "print(squared_numbers)  # Output: [1, 4, 9, 16, 25]\n"
   ]
  },
  {
   "cell_type": "code",
   "execution_count": 3,
   "metadata": {},
   "outputs": [
    {
     "name": "stdout",
     "output_type": "stream",
     "text": [
      "20\n"
     ]
    }
   ],
   "source": [
    "a=lambda x: x+10\n",
    "print(a(10))"
   ]
  },
  {
   "cell_type": "code",
   "execution_count": 4,
   "metadata": {},
   "outputs": [
    {
     "name": "stdout",
     "output_type": "stream",
     "text": [
      "30\n"
     ]
    }
   ],
   "source": [
    "a=lambda x,y: x+y\n",
    "print(a(10,20))"
   ]
  },
  {
   "cell_type": "code",
   "execution_count": 1,
   "metadata": {},
   "outputs": [
    {
     "name": "stdout",
     "output_type": "stream",
     "text": [
      "45\n"
     ]
    }
   ],
   "source": [
    "a=lambda x:sum([i for i in range(10)])\n",
    "print(a(10))"
   ]
  },
  {
   "cell_type": "code",
   "execution_count": 202,
   "metadata": {},
   "outputs": [
    {
     "name": "stdout",
     "output_type": "stream",
     "text": [
      "*\n",
      "**\n",
      "***\n",
      "****\n",
      "*****\n"
     ]
    }
   ],
   "source": [
    "for i in range(1,6):\n",
    "    for j in range(i):\n",
    "        print(\"*\",end=\"\")\n",
    "    print()"
   ]
  },
  {
   "cell_type": "markdown",
   "metadata": {},
   "source": [
    "____"
   ]
  },
  {
   "cell_type": "markdown",
   "metadata": {},
   "source": [
    "# Day 8 :\n",
    "\n",
    "Link: https://us06web.zoom.us/rec/play/UYzGpUWDdiUOVEmtqQ5Cy0Lg4gmUVHSZaY7KbS-GV172-roMvV4JQW4VD8JxnGmZCXjVpVTlVq9Gyc8h.-pfrWKGKh1m4PcW4?canPlayFromShare=true&from=share_recording_detail&continueMode=true&componentName=rec-play&originRequestUrl=https%3A%2F%2Fus06web.zoom.us%2Frec%2Fshare%2F3rCZwmlqCTN4ZxmXvIEuprt53QnIe4j1iiU3vkp0oVA55MJa2jWc2474xwHu4mY.DUNGF0vsYDxXwnVv"
   ]
  },
  {
   "cell_type": "markdown",
   "metadata": {},
   "source": [
    "## Data structures & Algorithmic thinking"
   ]
  },
  {
   "cell_type": "markdown",
   "metadata": {},
   "source": [
    "Binary seaech:"
   ]
  },
  {
   "cell_type": "code",
   "execution_count": 2,
   "metadata": {},
   "outputs": [
    {
     "name": "stdout",
     "output_type": "stream",
     "text": [
      "False\n",
      "True\n"
     ]
    }
   ],
   "source": [
    "def binary_search(item_list,item):\n",
    "\tfirst = 0\n",
    "\tlast = len(item_list)-1\n",
    "\tfound = False\n",
    "\twhile( first<=last and not found):\n",
    "\t\tmid = (first + last)//2\n",
    "\t\tif item_list[mid] == item :\n",
    "\t\t\tfound = True\n",
    "\t\telse:\n",
    "\t\t\tif item < item_list[mid]:\n",
    "\t\t\t\tlast = mid - 1\n",
    "\t\t\telse:\n",
    "\t\t\t\tfirst = mid + 1\n",
    "\treturn found\n",
    "\n",
    "print(binary_search([1,2,3,5,8], 6))\n",
    "print(binary_search([1,2,3,5,8], 5))\n",
    "\n",
    "#use visualization to understand the code"
   ]
  },
  {
   "cell_type": "code",
   "execution_count": null,
   "metadata": {},
   "outputs": [],
   "source": []
  }
 ],
 "metadata": {
  "kernelspec": {
   "display_name": "Python 3",
   "language": "python",
   "name": "python3"
  },
  "language_info": {
   "codemirror_mode": {
    "name": "ipython",
    "version": 3
   },
   "file_extension": ".py",
   "mimetype": "text/x-python",
   "name": "python",
   "nbconvert_exporter": "python",
   "pygments_lexer": "ipython3",
   "version": "3.12.0"
  }
 },
 "nbformat": 4,
 "nbformat_minor": 2
}
