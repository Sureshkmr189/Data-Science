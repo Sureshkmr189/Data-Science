{
 "cells": [
  {
   "cell_type": "markdown",
   "metadata": {},
   "source": [
    "# Lambda Function: "
   ]
  },
  {
   "cell_type": "markdown",
   "metadata": {},
   "source": [
    "A lambda function in Python is a small, anonymous function defined using the `lambda` keyword. It can have any number of input parameters but only one expression. The expression is evaluated and returned when the function is called. Lambda functions are often used for short, simple operations where defining a full function would be overkill.\n",
    "\n",
    "**syntax:**\n",
    "```python\n",
    "lambda arguments: expression\n",
    "```\n",
    "\n",
    "A lambda function in Python is a small, anonymous function defined using the `lambda` keyword. It can have any number of input parameters but only one expression. The expression is evaluated and returned when the function is called. Lambda functions are often used for short, simple operations where defining a full function would be overkill.\n",
    "\n",
    "**Key Points:**\n",
    "- **Anonymous Function**: Lambda functions do not have a name, unlike regular functions defined with `def`.\n",
    "- **Single Expression**: Lambda functions can contain only one expression, which is computed and returned.\n",
    "- **Inline Use**: They are often used in places where a simple function is needed temporarily, such as within `map()`, `filter()`, or `sorted()` functions.\n",
    "- **Limitations**: Lambda functions are less versatile than normal functions—they can't contain multiple expressions or statements.\n",
    "\n",
    "Lambda functions are powerful for creating small, throwaway functions that are used in a limited scope."
   ]
  },
  {
   "cell_type": "markdown",
   "metadata": {},
   "source": [
    "**Example 1: Basic Lambda Function**"
   ]
  },
  {
   "cell_type": "code",
   "execution_count": 1,
   "metadata": {},
   "outputs": [
    {
     "name": "stdout",
     "output_type": "stream",
     "text": [
      "15\n"
     ]
    }
   ],
   "source": [
    "# A lambda function that adds 10 to a given number\n",
    "add_10 = lambda x: x + 10\n",
    "\n",
    "# Use the lambda function\n",
    "print(add_10(5))  # Output: 15"
   ]
  },
  {
   "cell_type": "markdown",
   "metadata": {},
   "source": [
    "**Example 2: Lambda with Multiple Arguments**"
   ]
  },
  {
   "cell_type": "code",
   "execution_count": 2,
   "metadata": {},
   "outputs": [
    {
     "name": "stdout",
     "output_type": "stream",
     "text": [
      "12\n"
     ]
    }
   ],
   "source": [
    "# A lambda function that multiplies two numbers\n",
    "multiply = lambda x, y: x * y\n",
    "\n",
    "# Use the lambda function\n",
    "print(multiply(3, 4))  # Output: 12"
   ]
  },
  {
   "cell_type": "markdown",
   "metadata": {},
   "source": [
    "**Example 3: Lambda in map() Function**"
   ]
  },
  {
   "cell_type": "code",
   "execution_count": 3,
   "metadata": {},
   "outputs": [
    {
     "name": "stdout",
     "output_type": "stream",
     "text": [
      "[1, 4, 9, 16, 25]\n"
     ]
    }
   ],
   "source": [
    "# Using lambda with map() to square each number in a list\n",
    "numbers = [1, 2, 3, 4, 5]\n",
    "squared = list(map(lambda x: x**2, numbers))\n",
    "\n",
    "print(squared)  # Output: [1, 4, 9, 16, 25]"
   ]
  },
  {
   "cell_type": "markdown",
   "metadata": {},
   "source": [
    "**Example 4: Lambda in filter() Function**"
   ]
  },
  {
   "cell_type": "code",
   "execution_count": 4,
   "metadata": {},
   "outputs": [
    {
     "name": "stdout",
     "output_type": "stream",
     "text": [
      "[2, 4, 6]\n"
     ]
    }
   ],
   "source": [
    "# Using lambda with filter() to get even numbers from a list\n",
    "numbers = [1, 2, 3, 4, 5, 6]\n",
    "evens = list(filter(lambda x: x % 2 == 0, numbers))\n",
    "\n",
    "print(evens)  # Output: [2, 4, 6]"
   ]
  },
  {
   "cell_type": "markdown",
   "metadata": {},
   "source": [
    "**Example 5: Lambda in sorted() Function**"
   ]
  },
  {
   "cell_type": "code",
   "execution_count": 5,
   "metadata": {},
   "outputs": [
    {
     "name": "stdout",
     "output_type": "stream",
     "text": [
      "[(1, 'one'), (3, 'three'), (2, 'two')]\n"
     ]
    }
   ],
   "source": [
    "# Sorting a list of tuples based on the second element\n",
    "pairs = [(1, 'one'), (2, 'two'), (3, 'three')]\n",
    "sorted_pairs = sorted(pairs, key=lambda pair: pair[1])\n",
    "\n",
    "print(sorted_pairs)  # Output: [(1, 'one'), (3, 'three'), (2, 'two')]"
   ]
  },
  {
   "cell_type": "markdown",
   "metadata": {},
   "source": [
    "___"
   ]
  },
  {
   "cell_type": "markdown",
   "metadata": {},
   "source": [
    "# Filter Function:"
   ]
  },
  {
   "cell_type": "markdown",
   "metadata": {},
   "source": [
    "The `filter()` function in Python is used to filter elements from an iterable (such as a list, tuple, or set) based on a condition defined by a function. It applies the function to each element in the iterable and returns an iterator yielding only those elements for which the function returns `True`.\n",
    "\n",
    "### Syntax:\n",
    "```python\n",
    "filter(function, iterable)\n",
    "```\n",
    "\n",
    "- **function**: A function that takes a single argument and returns either `True` or `False`.\n",
    "- **iterable**: The iterable to be filtered (e.g., a list, tuple, set, etc.).\n",
    "\n",
    "The `filter()` function returns an iterator, so you'll often want to convert it to a list or another iterable type using `list()`, `tuple()`, etc.\n",
    "\n",
    "**Key Points:**\n",
    "- **Custom Function**: The function passed to `filter()` should return `True` for the items you want to keep and `False` for the items you want to filter out.\n",
    "- **Lambda Function**: A lambda function is often used with `filter()` for conciseness, especially when the filtering logic is simple.\n",
    "- **Returns an Iterator**: The result of `filter()` is an iterator, which can be converted into a list, tuple, or set if needed.\n",
    "\n",
    "The `filter()` function is useful for creating a subset of elements from a larger iterable, based on a specific condition."
   ]
  },
  {
   "cell_type": "markdown",
   "metadata": {},
   "source": [
    "**Example 1: Filtering Even Numbers**"
   ]
  },
  {
   "cell_type": "code",
   "execution_count": 6,
   "metadata": {},
   "outputs": [
    {
     "name": "stdout",
     "output_type": "stream",
     "text": [
      "[2, 4, 6, 8, 10]\n"
     ]
    }
   ],
   "source": [
    "# Function to check if a number is even\n",
    "def is_even(n):\n",
    "    return n % 2 == 0\n",
    "\n",
    "numbers = [1, 2, 3, 4, 5, 6, 7, 8, 9, 10]\n",
    "\n",
    "# Using filter() to get even numbers\n",
    "even_numbers = list(filter(is_even, numbers))\n",
    "\n",
    "print(even_numbers)  # Output: [2, 4, 6, 8, 10]"
   ]
  },
  {
   "cell_type": "markdown",
   "metadata": {},
   "source": [
    "**Example 2: Using filter() with a Lambda Function**"
   ]
  },
  {
   "cell_type": "code",
   "execution_count": 7,
   "metadata": {},
   "outputs": [
    {
     "name": "stdout",
     "output_type": "stream",
     "text": [
      "[2, 4, 6, 8, 10]\n"
     ]
    }
   ],
   "source": [
    "numbers = [1, 2, 3, 4, 5, 6, 7, 8, 9, 10]\n",
    "\n",
    "# Using lambda function to filter even numbers\n",
    "even_numbers = list(filter(lambda x: x % 2 == 0, numbers))\n",
    "\n",
    "print(even_numbers)  # Output: [2, 4, 6, 8, 10]"
   ]
  },
  {
   "cell_type": "markdown",
   "metadata": {},
   "source": [
    "**Example 3: Filtering Strings Based on Length**"
   ]
  },
  {
   "cell_type": "code",
   "execution_count": 8,
   "metadata": {},
   "outputs": [
    {
     "name": "stdout",
     "output_type": "stream",
     "text": [
      "['apple', 'banana', 'grape']\n"
     ]
    }
   ],
   "source": [
    "words = [\"apple\", \"banana\", \"kiwi\", \"pear\", \"grape\"]\n",
    "\n",
    "# Filtering words that have more than 4 letters\n",
    "long_words = list(filter(lambda word: len(word) > 4, words))\n",
    "\n",
    "print(long_words)  # Output: ['apple', 'banana', 'grape']"
   ]
  },
  {
   "cell_type": "markdown",
   "metadata": {},
   "source": [
    "**Example 4: Removing None Values from a List**"
   ]
  },
  {
   "cell_type": "code",
   "execution_count": 9,
   "metadata": {},
   "outputs": [
    {
     "name": "stdout",
     "output_type": "stream",
     "text": [
      "[1, 2, 4, 5, 6]\n"
     ]
    }
   ],
   "source": [
    "items = [1, 2, None, 4, None, 5, 6]\n",
    "\n",
    "# Filtering out None values\n",
    "filtered_items = list(filter(lambda x: x is not None, items))\n",
    "\n",
    "print(filtered_items)  # Output: [1, 2, 4, 5, 6]"
   ]
  },
  {
   "cell_type": "code",
   "execution_count": 12,
   "metadata": {},
   "outputs": [
    {
     "name": "stdout",
     "output_type": "stream",
     "text": [
      "[2, 4, 6, 8]\n"
     ]
    }
   ],
   "source": [
    "s=lambda x:x%2==0\n",
    "d=[1,2,3,4,5,6,7,8,9]\n",
    "a=filter(s,d)\n",
    "print(list(a))"
   ]
  },
  {
   "cell_type": "code",
   "execution_count": 14,
   "metadata": {},
   "outputs": [
    {
     "data": {
      "text/plain": [
       "[2, 4, 6, 8]"
      ]
     },
     "execution_count": 14,
     "metadata": {},
     "output_type": "execute_result"
    }
   ],
   "source": [
    "a=filter(lambda x:x%2==0,[1,2,3,4,5,6,7,8,9])\n",
    "list(a)"
   ]
  },
  {
   "cell_type": "code",
   "execution_count": 17,
   "metadata": {},
   "outputs": [
    {
     "name": "stdout",
     "output_type": "stream",
     "text": [
      "[1, 2, 3]\n"
     ]
    }
   ],
   "source": [
    "a = filter(lambda x: isinstance(x, int), [1, 2, 3, \"a\", \"b\", \"c\"])\n",
    "print(list(a))"
   ]
  }
 ],
 "metadata": {
  "kernelspec": {
   "display_name": "Python 3",
   "language": "python",
   "name": "python3"
  },
  "language_info": {
   "codemirror_mode": {
    "name": "ipython",
    "version": 3
   },
   "file_extension": ".py",
   "mimetype": "text/x-python",
   "name": "python",
   "nbconvert_exporter": "python",
   "pygments_lexer": "ipython3",
   "version": "3.12.0"
  }
 },
 "nbformat": 4,
 "nbformat_minor": 2
}
