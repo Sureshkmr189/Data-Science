{
 "cells": [
  {
   "cell_type": "markdown",
   "metadata": {},
   "source": [
    "## Classes and Objects: 1:29:24"
   ]
  },
  {
   "cell_type": "markdown",
   "metadata": {},
   "source": [
    "In Python, classes and objects are fundamental concepts in object-oriented programming (OOP). Here's a brief overview:\n",
    "\n",
    "**Class**\n",
    "\n",
    "A class is a blueprint for creating objects. It defines a set of attributes and methods that the created objects will have. Essentially, it’s a way to bundle data and functionality together.\n",
    "\n",
    "**Example:**\n",
    "\n",
    "```python\n",
    "class Dog:\n",
    "    def __init__(self, name, age):\n",
    "        self.name = name\n",
    "        self.age = age\n",
    "\n",
    "    def bark(self):\n",
    "        return \"Woof!\"\n",
    "```\n",
    "\n",
    "In this example:\n",
    "- `Dog` is a class.\n",
    "- `__init__` is a special method called a constructor that initializes new instances of the class.\n",
    "- `self` refers to the instance of the class itself. It’s used to access attributes and methods of the class.\n",
    "- `name` and `age` are attributes.\n",
    "- `bark` is a method.\n",
    "\n",
    "**Object**\n",
    "\n",
    "An object is an instance of a class. When you create an object, you are instantiating the class and creating a specific example of it.\n",
    "\n",
    "**Example:**\n",
    "\n",
    "```python\n",
    "my_dog = Dog(name=\"Buddy\", age=3)\n",
    "print(my_dog.name)  # Outputs: Buddy\n",
    "print(my_dog.bark())  # Outputs: Woof!\n",
    "```\n",
    "\n",
    "In this example:\n",
    "- `my_dog` is an object of the `Dog` class.\n",
    "- It has the attributes `name` and `age` set to \"Buddy\" and 3, respectively.\n",
    "- You can call the `bark` method on `my_dog` to get the output \"Woof!\".\n",
    "\n",
    "In summary, classes define the structure and behavior, while objects are the instances of classes with specific data."
   ]
  },
  {
   "cell_type": "markdown",
   "metadata": {},
   "source": [
    "### What is oops concept :\n",
    "\n",
    "OOP, or Object-Oriented Programming, is a programming paradigm based on the concept of \"objects\" that contain data in the form of fields (often known as attributes or properties) and code in the form of procedures (often known as methods or functions). OOP is fundamental in many programming languages, such as Java, C++, Python, and C#. The primary concepts of OOP are:\n",
    "\n",
    "1. **Class**:\n",
    "   - A class is a blueprint for creating objects. It defines a set of attributes and methods that the objects created from the class will have.\n",
    "   - Example: A class `Car` may have attributes like `color`, `model`, and `year` and methods like `start()` and `stop()`.\n",
    "\n",
    "2. **Object**:\n",
    "   - An object is an instance of a class. When a class is defined, no memory is allocated until an object of that class is created.\n",
    "   - Example: `myCar` can be an object of the class `Car` with specific values for `color`, `model`, and `year`.\n",
    "\n",
    "3. **Encapsulation**:\n",
    "   - Encapsulation refers to the bundling of data (attributes) and methods (functions) that operate on the data into a single unit or class, restricting access to some of the object's components.\n",
    "   - This is often achieved using access modifiers like `private`, `protected`, and `public` to control access to the attributes and methods.\n",
    "   - Example: In the `Car` class, the attribute `engineNumber` can be kept private so that it cannot be modified directly.\n",
    "\n",
    "4. **Inheritance**:\n",
    "   - Inheritance is a mechanism by which one class (child or derived class) can inherit properties and behaviors (attributes and methods) from another class (parent or base class).\n",
    "   - This promotes code reusability.\n",
    "   - Example: A class `ElectricCar` can inherit from the `Car` class and have additional attributes like `batteryCapacity`.\n",
    "\n",
    "5. **Polymorphism**:\n",
    "   - Polymorphism allows methods to do different things based on the object it is acting upon, even though they share the same name.\n",
    "   - This can be achieved through method overriding (inherited class overrides a method from the parent class) or method overloading (multiple methods with the same name but different parameters).\n",
    "   - Example: The method `start()` in `Car` may work differently in `ElectricCar`.\n",
    "\n",
    "6. **Abstraction**:\n",
    "   - Abstraction involves hiding complex implementation details and showing only the essential features of an object.\n",
    "   - This simplifies the interaction with the object and reduces complexity.\n",
    "   - Example: When using a `Car` object, the driver doesn't need to know how the engine works internally; they just need to know how to start the car.\n",
    "\n",
    "These concepts work together to make OOP a powerful way to structure and manage code, making it more modular, reusable, and easier to maintain."
   ]
  },
  {
   "cell_type": "markdown",
   "metadata": {},
   "source": [
    "### what is an object in oops\n",
    "\n",
    "An object in OOP is an instance of a class that encapsulates both data (attributes) and behavior (methods). It represents a real-world entity, allowing you to model and manipulate data in a structured and meaningful way within a program.\n",
    "\n",
    "In Object-Oriented Programming (OOP), an **object** is a fundamental unit that represents an instance of a class. An object combines data and behavior in a single entity. Here's a more detailed breakdown:\n",
    "\n",
    "***Key Characteristics of an Object:***\n",
    "\n",
    "1. **Instance of a Class**:\n",
    "   - An object is created based on a class, which acts as a blueprint. The class defines the structure and behavior (i.e., attributes and methods) that the object will have.\n",
    "   - Example: If you have a class `Car`, an object `myCar` created from this class might have specific attributes like `color: red`, `model: Tesla Model 3`, and `year: 2023`.\n",
    "\n",
    "2. **Attributes (State)**:\n",
    "   - These are the data or properties that describe the object. The attributes are defined by the variables in the class.\n",
    "   - Example: For the `myCar` object, attributes could include `color`, `model`, and `year`.\n",
    "\n",
    "3. **Methods (Behavior)**:\n",
    "   - These are the functions or operations that the object can perform, as defined by the methods in the class.\n",
    "   - Example: The `myCar` object might have methods like `start()`, `accelerate()`, and `brake()`.\n",
    "\n",
    "4. **Identity**:\n",
    "   - Each object has a unique identity, meaning that even if two objects have the same state (same attribute values), they are considered distinct entities.\n",
    "   - Example: If you have two objects `myCar` and `yourCar`, both created from the `Car` class with identical attributes, they are still two separate objects with distinct identities."
   ]
  },
  {
   "cell_type": "markdown",
   "metadata": {},
   "source": [
    "### My Notes about class and objects:\n",
    "\n",
    "1. **Funtions**: collect many codes and put it in together is function\n",
    "\n",
    "2. **Class**:\n",
    "- collects many function and put it together is class  and we call them ***methods***. \n",
    "- The reason we call it as method because between two functions you cannot share variables/ objects but in methonds you can share the datas."
   ]
  },
  {
   "cell_type": "markdown",
   "metadata": {},
   "source": [
    "usually class is called as blue print:\n",
    "\n",
    "    ex: consider a gated community - here we use one plan for all the houses. plan will considered as objects\n",
    "    Car game : one code for all the cars to select the best car.here the code is called as object. Object is nothing but a memory in computer."
   ]
  },
  {
   "cell_type": "code",
   "execution_count": 6,
   "metadata": {},
   "outputs": [],
   "source": [
    "class naan(): #naan is a class name \n",
    "    x=\"Suresh\"  # its just a variable\n",
    "\n",
    "# this area is called class creation"
   ]
  },
  {
   "cell_type": "code",
   "execution_count": 7,
   "metadata": {},
   "outputs": [
    {
     "name": "stdout",
     "output_type": "stream",
     "text": [
      "Suresh\n"
     ]
    }
   ],
   "source": [
    "a=naan()\n",
    "print(a.x)\n",
    "# object creation in python"
   ]
  },
  {
   "cell_type": "markdown",
   "metadata": {},
   "source": [
    "### Class and objects creation: "
   ]
  },
  {
   "cell_type": "code",
   "execution_count": 8,
   "metadata": {},
   "outputs": [],
   "source": [
    "# actual format to create a class.\n",
    " # 1) first method for the class should be init method\n",
    "\n",
    "class bankaccount():\n",
    "    def __init__(self,name,balance): # 2) here we have (3 parameters)--(1st parameter should be self parameter)\n",
    "        self.name=name\n",
    "        self.balance=balance\n",
    "\n",
    "    def deposit(self,amount):\n",
    "        self.balance=self.balance+amount\n",
    "        return self.balance\n",
    "    \n",
    "    def withdraw(self,amount):\n",
    "        self.balance=self.balance-amount\n",
    "        return self.balance\n",
    "    \n",
    "    def getbalance(self):\n",
    "        return self.balance"
   ]
  },
  {
   "cell_type": "code",
   "execution_count": 9,
   "metadata": {},
   "outputs": [],
   "source": [
    "suresh=bankaccount(\"suresh\",1000)\n",
    "guvi=bankaccount(\"guvi\",2000)\n",
    "dharani=bankaccount(\"dharani\",3000)"
   ]
  },
  {
   "cell_type": "code",
   "execution_count": 10,
   "metadata": {},
   "outputs": [
    {
     "data": {
      "text/plain": [
       "6850"
      ]
     },
     "execution_count": 10,
     "metadata": {},
     "output_type": "execute_result"
    }
   ],
   "source": [
    "suresh.deposit(2000)\n",
    "guvi.deposit(5000)\n",
    "suresh.deposit(2000)\n",
    "guvi.withdraw(150)"
   ]
  },
  {
   "cell_type": "markdown",
   "metadata": {},
   "source": [
    "___"
   ]
  },
  {
   "cell_type": "markdown",
   "metadata": {},
   "source": [
    "## **Superclass and Subclass: A Simplified Explanation :**\n",
    "\n",
    "**Superclass** (or **parent class**) is a general class that defines common attributes and methods for a group of related objects. \n",
    "**Subclass** (or **child class**) is a specialized class that inherits properties and methods from a superclass. It can have its own unique attributes and methods as well.\n",
    "\n",
    "**Example: Animals and Dogs**\n",
    "\n",
    "Let's consider a real-world example: animals and dogs.\n",
    "\n",
    "**Superclass: Animal**\n",
    "```python\n",
    "class Animal:\n",
    "    def __init__(self, name):\n",
    "        self.name = name\n",
    "\n",
    "    def make_sound(self):\n",
    "        print(\"Generic animal sound\")\n",
    "```\n",
    "\n",
    "**Subclass: Dog**\n",
    "```python\n",
    "class Dog(Animal):\n",
    "    def __init__(self, name, breed):\n",
    "        super().__init__(name)\n",
    "        self.breed = breed\n",
    "\n",
    "    def make_sound(self):\n",
    "        print(\"Woof!\")\n",
    "```\n",
    "\n",
    "In this example:\n",
    "* **`Animal`** is the superclass. It defines a basic structure for all animals with a name and a generic `make_sound` method.\n",
    "* **`Dog`** is the subclass. It inherits the `name` attribute and `make_sound` method from `Animal`. Additionally, it has a specific `breed` attribute and overrides the `make_sound` method to produce a \"Woof!\" sound.\n",
    "\n",
    "**Key Points:**\n",
    "* A subclass inherits all the attributes and methods of its superclass.\n",
    "* A subclass can override methods of its superclass to provide its own implementation.\n",
    "* A subclass can have its own unique attributes and methods.\n",
    "* Multiple inheritance is possible in Python, where a subclass can inherit from multiple superclasses.\n",
    "\n",
    "**Benefits of Inheritance:**\n",
    "* **Code Reusability:** Avoids redundant code by sharing common attributes and methods.\n",
    "* **Code Organization:** Enhances code structure and maintainability.\n",
    "* **Polymorphism:** Allows objects of different classes to be treated as if they were of the same type.\n",
    "\n",
    "By understanding the concepts of superclasses and subclasses, you can create more organized, efficient, and reusable code in your Python programs.\n",
    "___\n"
   ]
  },
  {
   "cell_type": "markdown",
   "metadata": {},
   "source": [
    "## ***Inheritance*** : \n",
    "\n",
    "   - Inheritance allows a new class to inherit attributes and methods from an existing class. This promotes code reuse and establishes a natural hierarchy between classes.\n",
    "   - **Base Class (Parent Class):** The class whose properties and methods are inherited.\n",
    "   - **Derived Class (Child Class):** The class that inherits properties and methods from another class."
   ]
  },
  {
   "cell_type": "code",
   "execution_count": 11,
   "metadata": {},
   "outputs": [],
   "source": [
    "# Example 1:\n",
    "\n",
    "class mother():\n",
    "    def nose(self):\n",
    "        return \"pointed\"\n",
    "\n",
    "class son(mother):  # inherit mother to access mother class from sun class \n",
    "    def ears(self):\n",
    "        return \"ketkum\"\n",
    "    \n",
    "# Here mother class is a super of son class, son class is sub class.\n",
    "# super class will come 1st in the inheritance  always "
   ]
  },
  {
   "cell_type": "code",
   "execution_count": 12,
   "metadata": {},
   "outputs": [
    {
     "data": {
      "text/plain": [
       "('ketkum', 'pointed')"
      ]
     },
     "execution_count": 12,
     "metadata": {},
     "output_type": "execute_result"
    }
   ],
   "source": [
    "a=son()\n",
    "a.ears(),a.nose()"
   ]
  },
  {
   "cell_type": "markdown",
   "metadata": {},
   "source": [
    "___\n",
    "\n",
    "**Polymorphism**\n",
    "\n",
    "   - Polymorphism is a key concept in object-oriented programming (OOP) that allows objects of different classes to be treated as objects of a common superclass. It provides a way to use a single interface to represent different data types or classes. The word \"polymorphism\" comes from the Greek words \"poly,\" meaning many, and \"morph,\" meaning form. Thus, polymorphism refers to the ability of a function, object, or method to take on many forms."
   ]
  },
  {
   "cell_type": "code",
   "execution_count": 13,
   "metadata": {},
   "outputs": [
    {
     "data": {
      "text/plain": [
       "('ketkathu', 'amma kanaku', ' black_color')"
      ]
     },
     "execution_count": 13,
     "metadata": {},
     "output_type": "execute_result"
    }
   ],
   "source": [
    "# Polymorphism in Python: Example 2:\n",
    "\n",
    "class mother():\n",
    "    def nose(self):\n",
    "        return \"point\"\n",
    "    \n",
    "class father():\n",
    "    def hair(self):\n",
    "        return \" black_color\"\n",
    "    \n",
    "class son(mother,father):\n",
    "    def ears (self):\n",
    "        return \"ketkathu\"\n",
    "    \n",
    "    def nose(self):\n",
    "        return \"amma kanaku\"   \n",
    "    \n",
    "a=son()\n",
    "a.ears(),a.nose(),a.hair()"
   ]
  },
  {
   "cell_type": "markdown",
   "metadata": {},
   "source": [
    "**Superclass**: A class that is inherited by another class. It provides methods and properties that can be inherited by its subclasses. In your code, both mother and father are superclasses.\n",
    "\n",
    "**Subclass**: A class that inherits from one or more superclasses. It can override or extend the functionality of the superclass. In your code, son is the subclass that inherits from both mother and father.\n",
    "\n",
    "In Python, a class can inherit from multiple classes. This is called **multiple inheritance**.\n",
    "\n",
    "![image-2.png](attachment:image-2.png)\n",
    "\n",
    "In the provided code:\n",
    "\n",
    "* **`mother`** and **`father`** are the **superclasses** of **`son`**.\n",
    "* **`son`** is the **subclass** that inherits from both `mother` and `father`.\n",
    "\n",
    "This means that `son` can access the methods and attributes of both `mother` and `father`. In the case of the `nose` method, `son` overrides the `nose` method from `mother` with its own implementation.\n"
   ]
  },
  {
   "cell_type": "markdown",
   "metadata": {},
   "source": [
    " \n",
    " - The code you've written demonstrates polymorphism in Python, specifically method overriding in a multi-inheritance scenario.\n",
    " - The code illustrates polymorphism by showing how the `son` class can override the `nose()` method from its `mother` class, demonstrating the concept of method overriding.\n",
    "\n",
    "**Explanation**:\n",
    "\n",
    "1. **Polymorphism**: \n",
    "   - Polymorphism in programming allows objects of different classes to be treated as objects of a common superclass. It primarily occurs when a child class has a method with the same name as a method in the parent class. This allows for different implementations of the method depending on the object calling it.\n",
    "\n",
    "2. **Classes and Inheritance**:\n",
    "   - You have three classes: `mother`, `father`, and `son`.\n",
    "   - The `son` class inherits from both `mother` and `father` classes (this is called multiple inheritance).\n",
    "\n",
    "3. **Method Overriding**:\n",
    "   - In the `mother` class, there is a method `nose()` that returns `\"point\"`.\n",
    "   - In the `son` class, the same method `nose()` is overridden to return `\"amma kanaku\"`.\n",
    "   - This is an example of polymorphism. Even though the `son` class inherits the `nose()` method from the `mother` class, the `son` class has its own implementation of the `nose()` method.\n",
    "\n",
    "4. **Demonstration**:\n",
    "   - If you create an instance of the `son` class and call the `nose()` method, it will return `\"amma kanaku\"` instead of `\"point\"`, which shows that the `son` class's `nose()` method overrides the `mother` class's `nose()` method.\n",
    "\n",
    "**Output explanation**\n",
    "\n",
    "```python\n",
    "s = son()\n",
    "print(s.nose())  # Output: \"amma kanaku\"\n",
    "print(s.hair())  # Output: \"black_color\"\n",
    "print(s.ears())  # Output: \"ketkathu\"\n",
    "```\n",
    "- **Explanation of the Output**:\n",
    "  - `s.nose()` calls the overridden method in the `son` class, so it returns `\"amma kanaku\"`.\n",
    "  - `s.hair()` calls the method from the `father` class, returning `\"black_color\"`.\n",
    "  - `s.ears()` is unique to the `son` class, returning `\"ketkathu\"`.\n",
    "  ___"
   ]
  },
  {
   "cell_type": "code",
   "execution_count": 14,
   "metadata": {},
   "outputs": [
    {
     "data": {
      "text/plain": [
       "('121312121', 'blue', 'yes', 'point123')"
      ]
     },
     "execution_count": 14,
     "metadata": {},
     "output_type": "execute_result"
    }
   ],
   "source": [
    "# Example 3:\n",
    "\n",
    "class grandfather():\n",
    "  def wealth(self):\n",
    "    return \"121312121\"\n",
    "\n",
    "class mother():\n",
    "  def nose(self):\n",
    "    return \"point\"\n",
    "\n",
    "class father(grandfather):\n",
    "  def hair(self):\n",
    "    return \"blue\"\n",
    "\n",
    "class son(mother,father):\n",
    "  def ears(self):\n",
    "     return \"yes\"\n",
    "  def nose(self):\n",
    "    return \"point123\"\n",
    "\n",
    "class grandson(son,mother):\n",
    "  def eyes(self):\n",
    "    return \"blue\"\n",
    "  \n",
    "a=grandson()\n",
    "a.wealth(),a.eyes(),a.ears(),a.nose()"
   ]
  },
  {
   "cell_type": "markdown",
   "metadata": {},
   "source": [
    "___"
   ]
  },
  {
   "cell_type": "code",
   "execution_count": 15,
   "metadata": {},
   "outputs": [
    {
     "name": "stdout",
     "output_type": "stream",
     "text": [
      "The area is: 50\n",
      "The area is: 153.93804002589985\n"
     ]
    }
   ],
   "source": [
    "class Shape:\n",
    "    def area(self):\n",
    "        pass  # Abstract method\n",
    "\n",
    "class Rectangle(Shape):\n",
    "    def __init__(self, width, height):\n",
    "        self.width = width\n",
    "        self.height = height\n",
    "    \n",
    "    def area(self):\n",
    "        return self.width * self.height\n",
    "\n",
    "class Circle(Shape):\n",
    "    def __init__(self, radius):\n",
    "        self.radius = radius\n",
    "    \n",
    "    def area(self):\n",
    "        import math\n",
    "        return math.pi * (self.radius ** 2)\n",
    "\n",
    "# Function that uses polymorphism\n",
    "def print_area(shape):\n",
    "    print(f\"The area is: {shape.area()}\")\n",
    "\n",
    "# Creating objects\n",
    "rect = Rectangle(10, 5)\n",
    "circ = Circle(7)\n",
    "\n",
    "print_area(rect)  # Output: The area is: 50\n",
    "print_area(circ)  # Output: The area is: 153.93804002589985"
   ]
  },
  {
   "cell_type": "markdown",
   "metadata": {},
   "source": [
    "___"
   ]
  },
  {
   "cell_type": "code",
   "execution_count": 16,
   "metadata": {},
   "outputs": [
    {
     "name": "stdout",
     "output_type": "stream",
     "text": [
      "Bark\n",
      "Meow\n"
     ]
    }
   ],
   "source": [
    "class Animal:\n",
    "    def sound(self):\n",
    "        return \"Some generic animal sound\"\n",
    "\n",
    "class Dog(Animal):\n",
    "    def sound(self):\n",
    "        return \"Bark\"\n",
    "\n",
    "class Cat(Animal):\n",
    "    def sound(self):\n",
    "        return \"Meow\"\n",
    "\n",
    "def make_sound(animal):\n",
    "    print(animal.sound())\n",
    "\n",
    "dog = Dog()\n",
    "cat = Cat()\n",
    "\n",
    "make_sound(dog)  # Output: Bark\n",
    "make_sound(cat)  # Output: Meow"
   ]
  },
  {
   "cell_type": "markdown",
   "metadata": {},
   "source": [
    "In the code you've provided:\n",
    "\n",
    "- **Superclass**: The class from which other classes inherit. In this case, `Animal` is the superclass. It defines a generic behavior (`sound` method) that can be shared with other classes through inheritance.\n",
    "\n",
    "- **Subclass**: The class that inherits from another class (superclass). In this case, `Dog` and `Cat` are subclasses. They inherit the `sound` method from the `Animal` class but override it to provide specific behavior.\n",
    "\n",
    "- `Animal` is the **superclass**.\n",
    "- `Dog` and `Cat` are **subclasses** of `Animal`."
   ]
  },
  {
   "cell_type": "markdown",
   "metadata": {},
   "source": [
    "___"
   ]
  },
  {
   "cell_type": "code",
   "execution_count": 17,
   "metadata": {},
   "outputs": [
    {
     "data": {
      "text/plain": [
       "('121312121', 'yes', 'point123')"
      ]
     },
     "execution_count": 17,
     "metadata": {},
     "output_type": "execute_result"
    }
   ],
   "source": [
    "class grandfather():\n",
    "  def wealth(self):\n",
    "    return \"121312121\"\n",
    "\n",
    "class mother():\n",
    "  def nose(self):\n",
    "    return \"point\"\n",
    "\n",
    "class father(grandfather):\n",
    "  def hair(self):\n",
    "    return \"blue\"\n",
    "\n",
    "class son(mother,father):\n",
    "  def ears(self):\n",
    "     return \"yes\"\n",
    "  def nose(self):\n",
    "    return \"point123\"\n",
    "  \n",
    "  a=son()\n",
    "a.wealth(),a.ears(),a.nose()"
   ]
  },
  {
   "cell_type": "markdown",
   "metadata": {},
   "source": [
    "**`son`** inherits from both **`mother`** and **`father`**. Since **`father`** inherits from **`grandfather`**, **`son`** indirectly inherits from **`grandfather`** as well.\n",
    "\n",
    "Therefore, the **superclasses** are `grandfather`, `mother`, and `father`, and the **subclass** is `son`.\n"
   ]
  },
  {
   "cell_type": "markdown",
   "metadata": {},
   "source": [
    "___\n",
    "### **Hybrid Inheritance in Python:**\n",
    "\n",
    "\n",
    "* Hybrid inheritance is a combination of multiple inheritance and single inheritance. It occurs when a class inherits from multiple classes, and one or more of those classes also inherit from other classes. \n",
    "\n",
    "* Hybrid can include single , multiple and multi-level inheritance. can be combination of theree or two as well."
   ]
  },
  {
   "cell_type": "markdown",
   "metadata": {},
   "source": [
    "## Encapsulation :\n",
    "\n",
    "Encapsulation is all about bundling the data and methods together, controlling the access to the data, and ensuring the integrity and security of an object's state. It is a critical concept in creating robust, maintainable, and secure software.\n",
    "\n",
    "It is object-oriented programming is a fundamental concept that involves bundling data (attributes) and methods (functions) that operate on that data into a single unit, called an object. This is achieved by making the internal state of an object private and providing controlled access to it through public methods.\n",
    "\n",
    "**Key aspects of encapsulation:**\n",
    "\n",
    "* **Data Hiding:** The internal state of an object (its attributes) is hidden from the outside world. This prevents direct modification of the data, ensuring data integrity and consistency.\n",
    "* **Access Control:** Public methods are provided to interact with the object's data. These methods can enforce rules and validations, ensuring that the data is modified in a controlled and appropriate manner.\n",
    "* **Abstraction:** Encapsulation promotes abstraction by focusing on the object's behavior (methods) rather than its internal implementation details.\n",
    "\n",
    "**Benefits of Encapsulation:**\n",
    "\n",
    "* **Data Integrity:** Protects data from unauthorized access or modification.\n",
    "* **Modularity:** Encapsulated objects are self-contained and can be easily reused and modified.\n",
    "* **Maintainability:** Encapsulation makes code easier to maintain by separating concerns and improving code organization.\n",
    "* **Security:** Prevents accidental or malicious modification of data.\n",
    "* **Reusability:** Encapsulated objects can be easily reused in different parts of a program."
   ]
  },
  {
   "cell_type": "code",
   "execution_count": null,
   "metadata": {},
   "outputs": [],
   "source": [
    "class Person:\n",
    "    def __init__(self, name, age):\n",
    "        self.__name = name\n",
    "        self.__age = age\n",
    "\n",
    "    def get_name(self):\n",
    "        return self.__name\n",
    "\n",
    "    def get_age(self):\n",
    "        return self.__age\n",
    "\n",
    "    def set_age(self, age):\n",
    "        if age >= 0:\n",
    "            self.__age = age\n",
    "        else:\n",
    "            print(\"Age cannot be negative.\")"
   ]
  },
  {
   "cell_type": "markdown",
   "metadata": {},
   "source": [
    "In this example:\n",
    "\n",
    "* The `__name` and `__age` attributes are private, meaning they cannot be accessed directly from outside the `Person` class.\n",
    "* Public methods `get_name`, `get_age`, and `set_age` are provided to access and modify the attributes.\n",
    "* The `set_age` method enforces a validation to ensure that the age is not negative.\n",
    "\n",
    "By encapsulating the data and providing controlled access through methods, we ensure that the `Person` object's data remains consistent and is modified in a safe and appropriate manner.\n",
    "___"
   ]
  },
  {
   "cell_type": "code",
   "execution_count": null,
   "metadata": {},
   "outputs": [
    {
     "data": {
      "text/plain": [
       "1000"
      ]
     },
     "metadata": {},
     "output_type": "display_data"
    }
   ],
   "source": [
    "class bankaccount():\n",
    "  def __init__(self,name,balance):\n",
    "    self.name=name\n",
    "    self.__balance=balance\n",
    "\n",
    "  def deposit(self,amount):\n",
    "    self.__balance=self.__balance+amount\n",
    "    return self.__balance\n",
    "\n",
    "  def withdraw(self,amount):\n",
    "    self.__balance=self.__balance-amount\n",
    "    return self.__balance\n",
    "\n",
    "  def getbalance(self):\n",
    "    return self.__balance\n",
    "  \n",
    "nirmal=bankaccount(\"nirmal\",1000)\n",
    "guvi=bankaccount(\"guvi\",20000)\n",
    "nancy=bankaccount(\"nancy\",10000)\n",
    "\n",
    "nirmal.__balance=10000\n",
    "nirmal.getbalance()"
   ]
  },
  {
   "cell_type": "markdown",
   "metadata": {},
   "source": [
    "___"
   ]
  },
  {
   "cell_type": "code",
   "execution_count": null,
   "metadata": {},
   "outputs": [
    {
     "name": "stdout",
     "output_type": "stream",
     "text": [
      "1000\n",
      "Deposited 500, New Balance: 1500\n",
      "Withdrew 300, New Balance: 1200\n"
     ]
    }
   ],
   "source": [
    "class Account:\n",
    "    def __init__(self, owner, balance=0):\n",
    "        self.owner = owner           # public attribute\n",
    "        self.__balance = balance     # private attribute (encapsulated)\n",
    "\n",
    "    def deposit(self, amount):\n",
    "        if amount > 0:\n",
    "            self.__balance += amount\n",
    "            print(f\"Deposited {amount}, New Balance: {self.__balance}\")\n",
    "        else:\n",
    "            print(\"Deposit amount must be positive\")\n",
    "\n",
    "    def withdraw(self, amount):\n",
    "        if 0 < amount <= self.__balance:\n",
    "            self.__balance -= amount\n",
    "            print(f\"Withdrew {amount}, New Balance: {self.__balance}\")\n",
    "        else:\n",
    "            print(\"Invalid withdrawal amount\")\n",
    "\n",
    "    def get_balance(self):\n",
    "        return self.__balance\n",
    "\n",
    "# Usage:\n",
    "my_account = Account(\"Suresh\", 1000)\n",
    "print(my_account.get_balance())  # Accessing the balance via a getter method\n",
    "\n",
    "my_account.deposit(500)\n",
    "my_account.withdraw(300)\n"
   ]
  },
  {
   "cell_type": "markdown",
   "metadata": {},
   "source": [
    "___"
   ]
  },
  {
   "cell_type": "markdown",
   "metadata": {},
   "source": [
    "## Abstraction : \n",
    "\n",
    "**Abstraction** is another key concept in object-oriented programming (OOP). It involves hiding the complex implementation details of a system and exposing only the necessary and relevant parts. Abstraction allows you to focus on what an object does rather than how it does it.\n",
    "\n",
    "### Key Points of Abstraction:\n",
    "\n",
    "1. **Hiding Complexity**:\n",
    "   - Abstraction simplifies complex systems by allowing developers to work with higher-level concepts and hiding the underlying implementation details.\n",
    "\n",
    "2. **Interfaces and Abstract Classes**:\n",
    "   - Abstraction is typically implemented using abstract classes and interfaces. In Python, abstract classes are provided by the `abc` module (Abstract Base Class).\n",
    "   - An abstract class can have one or more abstract methods, which are methods declared but not implemented in the abstract class. Subclasses that inherit from the abstract class must implement these abstract methods.\n",
    "\n",
    "3. **Advantages of Abstraction**:\n",
    "   - **Simplicity**: By abstracting away unnecessary details, you can work with more straightforward and understandable concepts.\n",
    "   - **Modularity**: Abstraction leads to more modular code, where components can be developed, tested, and debugged independently.\n",
    "   - **Reusability**: Abstract classes and interfaces allow you to define common interfaces for different implementations, leading to reusable code.\n",
    "   - **Maintenance**: Changes in implementation details do not affect the higher-level code that interacts with the abstracted parts.\n",
    "\n",
    "**Example in Python:**"
   ]
  },
  {
   "cell_type": "code",
   "execution_count": null,
   "metadata": {},
   "outputs": [
    {
     "name": "stdout",
     "output_type": "stream",
     "text": [
      "Car engine started\n",
      "Car engine stopped\n",
      "Motorcycle engine started\n",
      "Motorcycle engine stopped\n"
     ]
    }
   ],
   "source": [
    "from abc import ABC, abstractmethod\n",
    "\n",
    "class Vehicle(ABC):  # Abstract class\n",
    "    @abstractmethod\n",
    "    def start_engine(self):\n",
    "        pass\n",
    "\n",
    "    @abstractmethod\n",
    "    def stop_engine(self):\n",
    "        pass\n",
    "\n",
    "class Car(Vehicle):  # Concrete class\n",
    "    def start_engine(self):\n",
    "        print(\"Car engine started\")\n",
    "\n",
    "    def stop_engine(self):\n",
    "        print(\"Car engine stopped\")\n",
    "\n",
    "class Motorcycle(Vehicle):  # Another concrete class\n",
    "    def start_engine(self):\n",
    "        print(\"Motorcycle engine started\")\n",
    "\n",
    "    def stop_engine(self):\n",
    "        print(\"Motorcycle engine stopped\")\n",
    "\n",
    "# Usage:\n",
    "my_car = Car()\n",
    "my_car.start_engine()  # Output: Car engine started\n",
    "my_car.stop_engine()   # Output: Car engine stopped\n",
    "\n",
    "my_bike = Motorcycle()\n",
    "my_bike.start_engine()  # Output: Motorcycle engine started\n",
    "my_bike.stop_engine()   # Output: Motorcycle engine stopped"
   ]
  },
  {
   "cell_type": "markdown",
   "metadata": {},
   "source": [
    "**Explanation:**\n",
    "\n",
    "1. **Abstract Class (`Vehicle`)**:\n",
    "   - The `Vehicle` class is an abstract class that defines the abstract methods `start_engine` and `stop_engine`. These methods don’t have any implementation in the `Vehicle` class.\n",
    "   \n",
    "2. **Concrete Classes (`Car` and `Motorcycle`)**:\n",
    "   - The `Car` and `Motorcycle` classes inherit from the `Vehicle` abstract class and provide concrete implementations for the `start_engine` and `stop_engine` methods.\n",
    "   - These concrete classes must implement the abstract methods; otherwise, Python will raise a `TypeError`.\n",
    "\n",
    "3. **Abstraction in Action**:\n",
    "   - The details of how the engine is started and stopped are abstracted away in the `Vehicle` class. Users of the `Car` or `Motorcycle` classes only need to know that they can start and stop the engine; they don’t need to know how it’s done.\n",
    "\n",
    "**Summary:**\n",
    "Abstraction in Python allows you to define the essential features of an object while hiding the implementation details. This makes it easier to manage complexity in large systems, promotes code reusability, and enhances maintainability. By using abstract classes and methods, Python enables developers to create well-organized and modular code.\n",
    "___"
   ]
  },
  {
   "cell_type": "markdown",
   "metadata": {},
   "source": [
    "**Example 1:**"
   ]
  },
  {
   "cell_type": "code",
   "execution_count": 18,
   "metadata": {},
   "outputs": [
    {
     "name": "stdout",
     "output_type": "stream",
     "text": [
      "Method A\n",
      "Method B\n",
      "Method C\n",
      "Method D\n"
     ]
    }
   ],
   "source": [
    "class A:\n",
    "    def method_A(self):\n",
    "        print(\"Method A\")\n",
    "\n",
    "class B:\n",
    "    def method_B(self):\n",
    "        print(\"Method B\")\n",
    "\n",
    "class C(A, B):\n",
    "    def method_C(self):\n",
    "        print(\"Method C\")\n",
    "\n",
    "class D(C):\n",
    "    def method_D(self):\n",
    "        print(\"Method D\")\n",
    "\n",
    "obj = D()\n",
    "obj.method_A()\n",
    "obj.method_B()\n",
    "obj.method_C()\n",
    "obj.method_D()"
   ]
  },
  {
   "cell_type": "markdown",
   "metadata": {},
   "source": [
    "In this example:\n",
    "* **`A`** and **`B`** are base classes.\n",
    "* **`C`** is a derived class that inherits from both **`A`** and **`B`**. This is **multiple inheritance**.\n",
    "* **`D`** is a derived class that inherits from **`C`**. This is **single inheritance**.\n",
    "\n",
    "Since **`C`** inherits from both **`A`** and **`B`**, **`D`** indirectly inherits from both **`A`** and **`B`** as well. This is **hybrid inheritance**.\n",
    "\n",
    "**Why use hybrid inheritance?**\n",
    "\n",
    "* **Flexibility:** It allows for more complex inheritance relationships.\n",
    "* **Code reuse:** It can help to reuse code from multiple base classes.\n",
    "* **Polymorphism:** It enables objects of different classes to be treated as if they were of the same type.\n",
    "\n",
    "**When to use hybrid inheritance:**\n",
    "\n",
    "* When you need to combine features from multiple base classes that have different inheritance relationships.\n",
    "* When you want to create a class that can be used in multiple contexts.\n",
    "\n",
    "**However, it's important to use hybrid inheritance with caution.** Overusing it can make your code harder to understand and maintain.\n",
    "___\n"
   ]
  },
  {
   "cell_type": "markdown",
   "metadata": {},
   "source": [
    "**Example 2:**"
   ]
  },
  {
   "cell_type": "code",
   "execution_count": 19,
   "metadata": {},
   "outputs": [
    {
     "name": "stdout",
     "output_type": "stream",
     "text": [
      "121312121\n",
      "yes\n",
      "point123\n",
      "black\n"
     ]
    }
   ],
   "source": [
    "class grandfather():\n",
    "  def wealth(self):\n",
    "    return \"121312121\"\n",
    "\n",
    "class mother():\n",
    "  def nose(self):\n",
    "    return \"point\"\n",
    "\n",
    "class father(grandfather):\n",
    "  def hair(self):\n",
    "    return \"Red\"\n",
    "\n",
    "class son(mother,father):\n",
    "  def ears(self):\n",
    "     return \"yes\"\n",
    "  def nose(self):\n",
    "    return \"point123\"\n",
    "  \n",
    "class grandson(son,mother): # inherit son (multiple inheritance) and mother (single inheritance) so it called as hybrid inheritance\n",
    "  def eyes(self):\n",
    "    return \"black\"\n",
    "\n",
    "a = grandson()\n",
    "print(a.wealth())  # Inherited from grandfather (indirectly through son)\n",
    "print(a.ears())    # Inherited from son\n",
    "print(a.nose())    # Inherited from son (overrides mother's nose method)\n",
    "#print(a.hair())  # Error: `grandson` doesn't inherit directly from `father`\n",
    "print(a.eyes())    # Inherited from grandson (its own method)"
   ]
  },
  {
   "cell_type": "markdown",
   "metadata": {},
   "source": [
    "Therefore:\n",
    "* **`grandfather`** is the ultimate superclass for both `son` and `grandson`.\n",
    "* **`mother`** is a superclass for `son` but not a direct superclass for `grandson` (inherited indirectly).\n",
    "* **`father`** is a superclass for `son` but not relevant for `grandson` (not part of the inheritance chain).\n",
    "* **`son` and `grandson`** are both subclasses, with `grandson` inheriting from `son`.\n",
    "- Remember, inheritance order determines which methods and attributes are directly accessible.\n",
    "___"
   ]
  }
 ],
 "metadata": {
  "kernelspec": {
   "display_name": "Python 3",
   "language": "python",
   "name": "python3"
  },
  "language_info": {
   "codemirror_mode": {
    "name": "ipython",
    "version": 3
   },
   "file_extension": ".py",
   "mimetype": "text/x-python",
   "name": "python",
   "nbconvert_exporter": "python",
   "pygments_lexer": "ipython3",
   "version": "3.12.0"
  }
 },
 "nbformat": 4,
 "nbformat_minor": 2
}
